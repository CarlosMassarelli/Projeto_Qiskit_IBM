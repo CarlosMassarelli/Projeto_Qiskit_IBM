{
 "cells": [
  {
   "cell_type": "markdown",
   "metadata": {},
   "source": [
    "# Simulação da Desigualdade de Bell com Qiskit\n",
    "Este notebook demonstra como medir as correlações que violam a desigualdade de Bell usando um par de qubits entrelaçados."
   ]
  },
  {
   "cell_type": "code",
   "execution_count": null,
   "metadata": {},
   "outputs": [],
   "source": [
    "from qiskit import QuantumCircuit, Aer, execute\n",
    "import numpy as np"
   ]
  },
  {
   "cell_type": "code",
   "execution_count": null,
   "metadata": {},
   "outputs": [],
   "source": [
    "# Criar estado de Bell |ψ-⟩\n",
    "def criar_bell_state():\n",
    "    qc = QuantumCircuit(2)\n",
    "    qc.h(0)\n",
    "    qc.cx(0, 1)\n",
    "    return qc"
   ]
  },
  {
   "cell_type": "code",
   "execution_count": null,
   "metadata": {},
   "outputs": [],
   "source": [
    "# Aplicar medição em ângulo θ\n",
    "def aplicar_medida_em_angulo(qc, qubit, theta):\n",
    "    qc.ry(-2 * theta, qubit)"
   ]
  },
  {
   "cell_type": "code",
   "execution_count": null,
   "metadata": {},
   "outputs": [],
   "source": [
    "# Medir correlação\n",
    "def medir_correlacao(theta_a, theta_b):\n",
    "    qc = criar_bell_state()\n",
    "    aplicar_medida_em_angulo(qc, 0, theta_a)\n",
    "    aplicar_medida_em_angulo(qc, 1, theta_b)\n",
    "    qc.measure_all()\n",
    "\n",
    "    simulator = Aer.get_backend('aer_simulator')\n",
    "    job = execute(qc, simulator, shots=10000)\n",
    "    counts = job.result().get_counts()\n",
    "\n",
    "    total = sum(counts.values())\n",
    "    p00 = counts.get('00', 0) / total\n",
    "    p11 = counts.get('11', 0) / total\n",
    "    p01 = counts.get('01', 0) / total\n",
    "    p10 = counts.get('10', 0) / total\n",
    "    E = p00 + p11 - p01 - p10\n",
    "    return E"
   ]
  },
  {
   "cell_type": "code",
   "execution_count": null,
   "metadata": {},
   "outputs": [],
   "source": [
    "# Ângulos\n",
    "a = 0\n",
    "a_ = np.pi / 4\n",
    "b = np.pi / 8\n",
    "b_ = 3 * np.pi / 8"
   ]
  },
  {
   "cell_type": "code",
   "execution_count": null,
   "metadata": {},
   "outputs": [],
   "source": [
    "# Medidas\n",
    "E_ab = medir_correlacao(a, b)\n",
    "E_ab_ = medir_correlacao(a, b_)\n",
    "E_a_b = medir_correlacao(a_, b)\n",
    "E_a_b_ = medir_correlacao(a_, b_)\n",
    "\n",
    "# Cálculo de S\n",
    "S = abs(E_ab - E_ab_) + abs(E_a_b + E_a_b_)"
   ]
  },
  {
   "cell_type": "code",
   "execution_count": null,
   "metadata": {},
   "outputs": [],
   "source": [
    "# Exibir resultados\n",
    "print(f"E(a, b)     = {E_ab:.4f}")\n",
    "print(f"E(a, b')    = {E_ab_:.4f}")\n",
    "print(f"E(a', b)    = {E_a_b:.4f}")\n",
    "print(f"E(a', b')   = {E_a_b_:.4f}")\n",
    "print(f"S (total)   = {S:.4f}")"
   ]
  }
 ],
 "metadata": {
  "kernelspec": {
   "display_name": "Python 3",
   "language": "python",
   "name": "python3"
  },
  "language_info": {
   "name": "python",
   "version": ""
  }
 },
 "nbformat": 4,
 "nbformat_minor": 2
}
