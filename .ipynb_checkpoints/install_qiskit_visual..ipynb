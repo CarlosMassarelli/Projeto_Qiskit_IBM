{
 "cells": [
  {
   "cell_type": "markdown",
   "metadata": {},
   "source": [
    "### To activate this environment, use\n",
    "###    $ conda activate cwq\n",
    "### To deactivate an active environment, use\n",
    "###    $ conda deactivate"
   ]
  },
  {
   "cell_type": "code",
   "execution_count": 4,
   "metadata": {},
   "outputs": [
    {
     "data": {
      "text/plain": [
       "'\\n## Para usar no CONDA\\n<ctrl+p> encontre Python: Select interpreter\\nEscolha o interpretador (‘base’: conda) no local onde vc irá guardar os arquivos...\\nLembre-se que o interpretador estará em local diferente dos arquivos. Quando vc abrir o KDE ele irá entender que vc está no ambiente que iremos construir.\\n\\nAbra o VS CODE e abra o terminal (console)\\nCaso não visualize o ambiente novo (ambiente)\\n>conda init\\nreinicie o terminal no VS Code.\\n\\n>conda activate cwq\\n>conda install pip\\n>pip install qiskit\\n>pip install matplotlib\\n>pip install qiskit_ibm_runtime\\n>pip install pylatexenc\\n\\nCriando seu primeiro Notebook\\nNa aba do projeto, clique no botão “New File” e crie um arquivo Notebook com a extensão .ipynb.\\n\\nEscolha o kernel no canto superior direito da tela. Selecione o kernel Python 3.8.5 64-bit (conda) para usar o ambiente que você acabou de criar.\\n\\n'"
      ]
     },
     "execution_count": 4,
     "metadata": {},
     "output_type": "execute_result"
    }
   ],
   "source": [
    "\n",
    "# Para instalação completa.\n",
    "'''\n",
    "## Para usar no CONDA\n",
    "<ctrl+p> encontre Python: Select interpreter\n",
    "Escolha o interpretador (‘base’: conda) no local onde vc irá guardar os arquivos...\n",
    "Lembre-se que o interpretador estará em local diferente dos arquivos. Quando vc abrir o KDE ele irá entender que vc está no ambiente que iremos construir.\n",
    "\n",
    "Abra o VS CODE e abra o terminal (console)\n",
    "Caso não visualize o ambiente novo (ambiente)\n",
    ">conda init\n",
    "reinicie o terminal no VS Code.\n",
    "\n",
    ">conda activate cwq\n",
    ">conda install pip\n",
    ">pip install qiskit\n",
    ">pip install matplotlib\n",
    ">pip install qiskit_ibm_runtime\n",
    ">pip install pylatexenc\n",
    "\n",
    "Criando seu primeiro Notebook\n",
    "Na aba do projeto, clique no botão “New File” e crie um arquivo Notebook com a extensão .ipynb.\n",
    "\n",
    "Escolha o kernel no canto superior direito da tela. Selecione o kernel Python 3.8.5 64-bit (conda) para usar o ambiente que você acabou de criar.\n",
    "\n",
    "'''"
   ]
  },
  {
   "cell_type": "code",
   "execution_count": 5,
   "metadata": {},
   "outputs": [],
   "source": [
    "# importanto a biblioteca\n",
    "import qiskit"
   ]
  },
  {
   "cell_type": "code",
   "execution_count": 6,
   "metadata": {},
   "outputs": [
    {
     "data": {
      "text/plain": [
       "'1.4.2'"
      ]
     },
     "execution_count": 6,
     "metadata": {},
     "output_type": "execute_result"
    }
   ],
   "source": [
    "# verificando a versão\n",
    "qiskit.__version__"
   ]
  },
  {
   "cell_type": "code",
   "execution_count": 7,
   "metadata": {},
   "outputs": [],
   "source": [
    "# configurando a conta\n",
    "from qiskit_ibm_runtime import QiskitRuntimeService\n",
    "service = QiskitRuntimeService(channel=\"ibm_quantum\", # ibm_cloud\n",
    "                               token=\"0023014b4039d87425ca4035ff0f3e64ae9774d9d451b073aaaefea5143ccd3b747f9b91fa18cbe5bb32496d505f1092beec5a03231f600f419ee89295916176\")"
   ]
  },
  {
   "cell_type": "code",
   "execution_count": 8,
   "metadata": {},
   "outputs": [],
   "source": [
    "# salvando a conta\n",
    "QiskitRuntimeService.save_account(channel=\"ibm_quantum\",\n",
    "                               token=\"0023014b4039d87425ca4035ff0f3e64ae9774d9d451b073aaaefea5143ccd3b747f9b91fa18cbe5bb32496d505f1092beec5a03231f600f419ee89295916176\", overwrite=True)"
   ]
  },
  {
   "cell_type": "code",
   "execution_count": 9,
   "metadata": {},
   "outputs": [],
   "source": [
    "backend = service.backend(name = \"ibm_sherbrooke\")"
   ]
  },
  {
   "cell_type": "code",
   "execution_count": 10,
   "metadata": {},
   "outputs": [
    {
     "data": {
      "text/plain": [
       "127"
      ]
     },
     "execution_count": 10,
     "metadata": {},
     "output_type": "execute_result"
    }
   ],
   "source": [
    "backend.num_qubits"
   ]
  },
  {
   "cell_type": "markdown",
   "metadata": {},
   "source": [
    "# qiskit implementations"
   ]
  },
  {
   "cell_type": "code",
   "execution_count": 11,
   "metadata": {},
   "outputs": [
    {
     "data": {
      "text/plain": [
       "'1.4.2'"
      ]
     },
     "execution_count": 11,
     "metadata": {},
     "output_type": "execute_result"
    }
   ],
   "source": [
    "qiskit.__version__"
   ]
  },
  {
   "cell_type": "code",
   "execution_count": 12,
   "metadata": {},
   "outputs": [
    {
     "name": "stdout",
     "output_type": "stream",
     "text": [
      "[[0.5]\n",
      " [0.5]]\n"
     ]
    }
   ],
   "source": [
    "# importando as bibliotecas\n",
    "# Vectors and matrices in Python\n",
    "import numpy as np\n",
    "\n",
    "ket0 = np.array([[1],[0]])\n",
    "ket1 = np.array([[0],[1]])\n",
    "\n",
    "print(ket0 / 2 + ket1 / 2)"
   ]
  },
  {
   "cell_type": "code",
   "execution_count": 13,
   "metadata": {},
   "outputs": [
    {
     "name": "stdout",
     "output_type": "stream",
     "text": [
      "[[1.  0.5]\n",
      " [0.  0.5]]\n"
     ]
    }
   ],
   "source": [
    "# create matrices that can represent operations.\n",
    "M1 = np.array([[1, 1], [0, 0]])\n",
    "M2 = np.array([[1, 0], [0, 1]])\n",
    "M = M1 / 2 + M2 / 2\n",
    "print(M)"
   ]
  },
  {
   "cell_type": "code",
   "execution_count": 14,
   "metadata": {},
   "outputs": [
    {
     "name": "stdout",
     "output_type": "stream",
     "text": [
      "[[1]\n",
      " [0]]\n",
      "[[1 1]\n",
      " [0 0]]\n",
      "[[1.   0.75]\n",
      " [0.   0.25]]\n"
     ]
    }
   ],
   "source": [
    "# Matrix multiplication, including matrix-vector multiplication as a special case, can be performed using the matmul function from NumPy.\n",
    "print(np.matmul(M1, ket1))\n",
    "print(np.matmul(M1, M2))\n",
    "print(np.matmul(M, M))"
   ]
  },
  {
   "cell_type": "code",
   "execution_count": 15,
   "metadata": {},
   "outputs": [
    {
     "data": {
      "text/latex": [
       "$$\n",
       "\n",
       "\\begin{bmatrix}\n",
       "1  \\\\\n",
       " 0  \\\\\n",
       " \\end{bmatrix}\n",
       "$$"
      ],
      "text/plain": [
       "<IPython.core.display.Latex object>"
      ]
     },
     "metadata": {},
     "output_type": "display_data"
    },
    {
     "data": {
      "text/latex": [
       "$$\n",
       "\n",
       "\\begin{bmatrix}\n",
       "1 & 1  \\\\\n",
       " 0 & 0  \\\\\n",
       " \\end{bmatrix}\n",
       "$$"
      ],
      "text/plain": [
       "<IPython.core.display.Latex object>"
      ]
     },
     "metadata": {},
     "output_type": "display_data"
    },
    {
     "data": {
      "text/latex": [
       "$$\n",
       "\n",
       "\\begin{bmatrix}\n",
       "1 & \\frac{3}{4}  \\\\\n",
       " 0 & \\frac{1}{4}  \\\\\n",
       " \\end{bmatrix}\n",
       "$$"
      ],
      "text/plain": [
       "<IPython.core.display.Latex object>"
      ]
     },
     "metadata": {},
     "output_type": "display_data"
    }
   ],
   "source": [
    "# Essa formatação de saída deixa a desejar, visualmente falando. Uma solução, para situações que exigem algo mais bonito, é usar a função array_to_latex do Qiskit do módulo qiskit.visualization . Observe que, no código a seguir, estamos usando a função de exibição genérica do Python. Por outro lado, o comportamento específico da impressão pode depender do que é impresso, como acontece com as matrizes definidas pelo NumPy .\n",
    "\n",
    "from qiskit.visualization import array_to_latex\n",
    "\n",
    "display(array_to_latex(np.matmul(M1, ket1)))\n",
    "display(array_to_latex(np.matmul(M1, M2)))\n",
    "display(array_to_latex(np.matmul(M, M)))"
   ]
  },
  {
   "cell_type": "code",
   "execution_count": 16,
   "metadata": {},
   "outputs": [],
   "source": [
    "#Estados, medições e operações em Python com Qiskit\n",
    "\n",
    "from qiskit.quantum_info import Statevector\n",
    "from numpy import sqrt\n",
    "\n",
    "u = Statevector([1 / sqrt(2), 1 / sqrt(2)])\n",
    "v = Statevector([(1 + 2.0j) / 3, -2 / 3])\n",
    "w = Statevector([1 / 3, 2 / 3])"
   ]
  },
  {
   "cell_type": "code",
   "execution_count": 17,
   "metadata": {},
   "outputs": [
    {
     "data": {
      "text/plain": [
       "[0.70710678+0.j,0.70710678+0.j]"
      ]
     },
     "metadata": {},
     "output_type": "display_data"
    },
    {
     "data": {
      "text/latex": [
       "$$\\frac{\\sqrt{2}}{2} |0\\rangle+\\frac{\\sqrt{2}}{2} |1\\rangle$$"
      ],
      "text/plain": [
       "<IPython.core.display.Latex object>"
      ]
     },
     "metadata": {},
     "output_type": "display_data"
    },
    {
     "name": "stdout",
     "output_type": "stream",
     "text": [
      "\\frac{\\sqrt{2}}{2} |0\\rangle+\\frac{\\sqrt{2}}{2} |1\\rangle\n"
     ]
    }
   ],
   "source": [
    "# A classe Statevector inclui um método draw para exibir vetores de estado de várias maneiras, incluindo texto para texto simples, látex para LaTeX renderizado e latex_source para código LaTeX, que pode ser útil para recortar e colar em documentos. (Use print em vez de display para mostrar o código LaTeX para obter melhores resultados.)\n",
    "\n",
    "display(u.draw(\"text\"))\n",
    "display(u.draw(\"latex\"))\n",
    "print(u.draw(\"latex_source\"))"
   ]
  },
  {
   "cell_type": "code",
   "execution_count": 18,
   "metadata": {},
   "outputs": [
    {
     "data": {
      "text/plain": [
       "True"
      ]
     },
     "metadata": {},
     "output_type": "display_data"
    },
    {
     "data": {
      "text/plain": [
       "False"
      ]
     },
     "metadata": {},
     "output_type": "display_data"
    }
   ],
   "source": [
    "# A classe Statevector também inclui o método is_valid , que verifica se um determinado vetor é um vetor de estado quântico válido (ou seja, se ele tem uma norma euclidiana igual a 1):\n",
    "display(u.is_valid())\n",
    "display(w.is_valid())"
   ]
  },
  {
   "cell_type": "code",
   "execution_count": 19,
   "metadata": {},
   "outputs": [
    {
     "data": {
      "text/latex": [
       "$$(\\frac{1}{3} + \\frac{2 i}{3}) |0\\rangle- \\frac{2}{3} |1\\rangle$$"
      ],
      "text/plain": [
       "<IPython.core.display.Latex object>"
      ]
     },
     "metadata": {},
     "output_type": "display_data"
    },
    {
     "name": "stdout",
     "output_type": "stream",
     "text": [
      "(\\frac{1}{3} + \\frac{2 i}{3}) |0\\rangle- \\frac{2}{3} |1\\rangle\n"
     ]
    }
   ],
   "source": [
    "# Simulando medições usando vetor de estado\n",
    "display(v.draw(\"latex\"))\n",
    "print(v.draw(\"latex_source\"))"
   ]
  },
  {
   "cell_type": "code",
   "execution_count": 20,
   "metadata": {},
   "outputs": [
    {
     "name": "stdout",
     "output_type": "stream",
     "text": [
      "Measured: 0\n",
      "Post-measurement state:\n"
     ]
    },
    {
     "data": {
      "text/latex": [
       "$$(\\frac{\\sqrt{5}}{5} + \\frac{2 \\sqrt{5} i}{5}) |0\\rangle$$"
      ],
      "text/plain": [
       "<IPython.core.display.Latex object>"
      ]
     },
     "metadata": {},
     "output_type": "display_data"
    },
    {
     "data": {
      "text/plain": [
       "'(\\\\frac{\\\\sqrt{5}}{5} + \\\\frac{2 \\\\sqrt{5} i}{5}) |0\\\\rangle'"
      ]
     },
     "metadata": {},
     "output_type": "display_data"
    }
   ],
   "source": [
    "# A execução do método de medida simula uma medição de base padrão. Ele retorna o resultado dessa medição, mais o novo vetor de estado quântico do sistema após a medição. (Aqui estamos usando a função print do Python com um prefixo f para impressão formatada com expressões incorporadas.)\n",
    "\n",
    "outcome, state = v.measure()\n",
    "print(f\"Measured: {outcome}\\nPost-measurement state:\")\n",
    "display(state.draw(\"latex\"))\n",
    "display(state.draw(\"latex_source\"))"
   ]
  },
  {
   "cell_type": "code",
   "execution_count": 21,
   "metadata": {},
   "outputs": [
    {
     "data": {
      "image/png": "[encoded data removed]",
      "text/plain": [
       "<Figure size 640x480 with 1 Axes>"
      ]
     },
     "execution_count": 21,
     "metadata": {},
     "output_type": "execute_result"
    }
   ],
   "source": [
    "# O Statevector também vem com um método sample_counts que permite a simulação de qualquer número de medições no sistema, cada vez começando com uma nova cópia do estado. Por exemplo, o código a seguir mostra o resultado da medição do vetor v 1000 vezes, o que (com alta probabilidade) resulta no desfecho 0 aproximadamente 5 de cada 9 horários (ou cerca de 556 do 1000 ensaios) e o resultado 1 aproximadamente 4 de cada 9 horários (ou cerca de 444 fora do 1000 ensaios). O código a seguir também demonstra a função plot_histogram do módulo qiskit.visualization para visualizar os resultados.\n",
    "\n",
    "from qiskit.visualization import plot_histogram\n",
    "\n",
    "statistics = v.sample_counts(1000)\n",
    "plot_histogram(statistics)"
   ]
  },
  {
   "cell_type": "code",
   "execution_count": 22,
   "metadata": {},
   "outputs": [
    {
     "data": {
      "text/latex": [
       "$$\n",
       "\n",
       "\\begin{bmatrix}\n",
       "0 & - i  \\\\\n",
       " i & 0  \\\\\n",
       " \\end{bmatrix}\n",
       "$$"
      ],
      "text/plain": [
       "<IPython.core.display.Latex object>"
      ]
     },
     "metadata": {},
     "output_type": "display_data"
    },
    {
     "data": {
      "text/latex": [
       "$$\n",
       "\n",
       "\\begin{bmatrix}\n",
       "\\frac{\\sqrt{2}}{2} & \\frac{\\sqrt{2}}{2}  \\\\\n",
       " \\frac{\\sqrt{2}}{2} & - \\frac{\\sqrt{2}}{2}  \\\\\n",
       " \\end{bmatrix}\n",
       "$$"
      ],
      "text/plain": [
       "<IPython.core.display.Latex object>"
      ]
     },
     "metadata": {},
     "output_type": "display_data"
    },
    {
     "data": {
      "text/latex": [
       "$$\n",
       "\n",
       "\\begin{bmatrix}\n",
       "1 & 0  \\\\\n",
       " 0 & i  \\\\\n",
       " \\end{bmatrix}\n",
       "$$"
      ],
      "text/plain": [
       "<IPython.core.display.Latex object>"
      ]
     },
     "metadata": {},
     "output_type": "display_data"
    },
    {
     "data": {
      "text/latex": [
       "$$\n",
       "\n",
       "\\begin{bmatrix}\n",
       "1 & 0  \\\\\n",
       " 0 & \\frac{\\sqrt{2}}{2} + \\frac{\\sqrt{2} i}{2}  \\\\\n",
       " \\end{bmatrix}\n",
       "$$"
      ],
      "text/plain": [
       "<IPython.core.display.Latex object>"
      ]
     },
     "metadata": {},
     "output_type": "display_data"
    }
   ],
   "source": [
    "# Executando operações com Operator e Statevector\n",
    "\n",
    "from qiskit.quantum_info import Operator\n",
    "\n",
    "Y = Operator([[0, -1.0j], [1.0j, 0]])\n",
    "H = Operator([[1 / sqrt(2), 1 / sqrt(2)], [1 / sqrt(2), -1 / sqrt(2)]])\n",
    "S = Operator([[1, 0], [0, 1.0j]])\n",
    "T = Operator([[1, 0], [0, (1 + 1.0j) / sqrt(2)]])\n",
    "\n",
    "display(Y.draw(\"latex\"))\n",
    "display(H.draw(\"latex\"))\n",
    "display(S.draw(\"latex\"))\n",
    "display(T.draw(\"latex\"))"
   ]
  },
  {
   "cell_type": "code",
   "execution_count": 23,
   "metadata": {},
   "outputs": [
    {
     "data": {
      "text/latex": [
       "$$(0.1464466094 - 0.3535533906 i) |0\\rangle+(-0.3535533906 + 0.8535533906 i) |1\\rangle$$"
      ],
      "text/plain": [
       "<IPython.core.display.Latex object>"
      ]
     },
     "metadata": {},
     "output_type": "display_data"
    }
   ],
   "source": [
    "# Podemos aplicar uma operação unitária a um vetor de estado usando o método evolve . \n",
    "\n",
    "v = Statevector([1, 0])\n",
    "\n",
    "v = v.evolve(H)\n",
    "v = v.evolve(T)\n",
    "v = v.evolve(H)\n",
    "v = v.evolve(S)\n",
    "v = v.evolve(Y)\n",
    "\n",
    "display(v.draw(\"latex\"))"
   ]
  },
  {
   "cell_type": "code",
   "execution_count": 24,
   "metadata": {},
   "outputs": [
    {
     "data": {
      "text/latex": [
       "$$ |0\\rangle$$"
      ],
      "text/plain": [
       "<IPython.core.display.Latex object>"
      ]
     },
     "metadata": {},
     "output_type": "display_data"
    },
    {
     "name": "stdout",
     "output_type": "stream",
     "text": [
      "True\n"
     ]
    }
   ],
   "source": [
    "# Por exemplo, o código a seguir aplica a operação H ao vetor de estado u , resultando em um novo vetor de estado que é o superposição de |0⟩ e |1⟩:\n",
    "\n",
    "new_state = u.evolve(H)\n",
    "display(new_state.draw(\"latex\"))\n",
    "print(new_state.is_valid())"
   ]
  },
  {
   "cell_type": "code",
   "execution_count": 25,
   "metadata": {},
   "outputs": [
    {
     "data": {
      "image/png": "[encoded data removed]",
      "text/plain": [
       "<Figure size 519.897x117.056 with 1 Axes>"
      ]
     },
     "metadata": {},
     "output_type": "display_data"
    }
   ],
   "source": [
    "# Olhando para os circuitos quânticos em Python com Qiskit\n",
    "# Em particular, podemos definir um circuito quântico (que, neste caso, será simplesmente uma sequência de operações unitárias executadas em um único qubit) da seguinte maneira.\n",
    "\n",
    "from qiskit import QuantumCircuit\n",
    "\n",
    "circuit = QuantumCircuit(1)\n",
    "\n",
    "circuit.h(0)\n",
    "circuit.t(0)\n",
    "circuit.h(0)\n",
    "circuit.s(0)\n",
    "circuit.y(0)\n",
    "\n",
    "display(circuit.draw(output=\"mpl\"))"
   ]
  },
  {
   "cell_type": "code",
   "execution_count": 26,
   "metadata": {},
   "outputs": [
    {
     "data": {
      "text/latex": [
       "$$\n",
       "\n",
       "\\begin{bmatrix}\n",
       "0.1464466094 - 0.3535533906 i & 0.8535533906 + 0.3535533906 i  \\\\\n",
       " -0.3535533906 + 0.8535533906 i & 0.3535533906 + 0.1464466094 i  \\\\\n",
       " \\end{bmatrix}\n",
       "$$"
      ],
      "text/plain": [
       "<IPython.core.display.Latex object>"
      ]
     },
     "metadata": {},
     "output_type": "display_data"
    }
   ],
   "source": [
    "# As operações são aplicadas sequencialmente, começando à esquerda e terminando à direita no diagrama. Uma maneira prática de obter a matriz unitária correspondente a este circuito é usar o método from_circuit da classe Operator .\n",
    "\n",
    "display(Operator.from_circuit(circuit).draw(\"latex\"))"
   ]
  },
  {
   "cell_type": "code",
   "execution_count": 27,
   "metadata": {},
   "outputs": [
    {
     "data": {
      "text/latex": [
       "$$(0.1464466094 - 0.3535533906 i) |0\\rangle+(-0.3535533906 + 0.8535533906 i) |1\\rangle$$"
      ],
      "text/plain": [
       "<IPython.core.display.Latex object>"
      ]
     },
     "metadata": {},
     "output_type": "display_data"
    }
   ],
   "source": [
    "# Também é possível inicializar um vetor de estado quântico inicial e, em seguida, evoluir esse estado de acordo com a sequência de operações descritas pelo circuito.\n",
    "\n",
    "ket0 = Statevector([1, 0])\n",
    "v = ket0.evolve(circuit)\n",
    "display(v.draw(\"latex\"))"
   ]
  },
  {
   "cell_type": "code",
   "execution_count": 33,
   "metadata": {},
   "outputs": [
    {
     "data": {
      "image/png": "[encoded data removed]",
      "text/plain": [
       "<Figure size 640x480 with 1 Axes>"
      ]
     },
     "metadata": {},
     "output_type": "display_data"
    }
   ],
   "source": [
    "# O código a seguir simula um experimento em que o estado obtido do circuito acima é medido com uma medição de base padrão 4.000 vezes (usando uma nova cópia do estado a cada vez).\n",
    "\n",
    "statistics = v.sample_counts(4000)\n",
    "display(plot_histogram(statistics))"
   ]
  },
  {
   "cell_type": "code",
   "execution_count": 29,
   "metadata": {},
   "outputs": [
    {
     "data": {
      "text/plain": [
       "[0.70710678+0.j,0.70710678+0.j]"
      ]
     },
     "metadata": {},
     "output_type": "display_data"
    },
    {
     "data": {
      "text/latex": [
       "$$\\frac{\\sqrt{2}}{2} |0\\rangle+\\frac{\\sqrt{2}}{2} |1\\rangle$$"
      ],
      "text/plain": [
       "<IPython.core.display.Latex object>"
      ]
     },
     "metadata": {},
     "output_type": "display_data"
    },
    {
     "name": "stdout",
     "output_type": "stream",
     "text": [
      "\\frac{\\sqrt{2}}{2} |0\\rangle+\\frac{\\sqrt{2}}{2} |1\\rangle\n"
     ]
    }
   ],
   "source": [
    "display(u.draw(\"text\"))\n",
    "display(u.draw(\"latex\"))\n",
    "print(u.draw(\"latex_source\"))"
   ]
  },
  {
   "cell_type": "code",
   "execution_count": 30,
   "metadata": {},
   "outputs": [
    {
     "name": "stdout",
     "output_type": "stream",
     "text": [
      "1.4.2\n"
     ]
    }
   ],
   "source": [
    "from qiskit import __version__\n",
    "print(__version__)"
   ]
  },
  {
   "cell_type": "code",
   "execution_count": 31,
   "metadata": {},
   "outputs": [],
   "source": [
    "from qiskit.quantum_info import Statevector, Operator\n",
    "from numpy import sqrt"
   ]
  },
  {
   "cell_type": "code",
   "execution_count": 35,
   "metadata": {},
   "outputs": [
    {
     "data": {
      "text/latex": [
       "$$ |01\\rangle$$"
      ],
      "text/plain": [
       "<IPython.core.display.Latex object>"
      ]
     },
     "metadata": {},
     "output_type": "display_data"
    }
   ],
   "source": [
    "# abaixo criamos dois vetores de estado que representam ∣0⟩ e ∣1⟩,e usar o método tensor para criar um novo vetor,∣ψ⟩=∣0⟩⊗∣1⟩. Observe aqui que estamos usando o método from_label para definir os estados ∣0⟩ e ∣1⟩, em vez de defini-los nós mesmos.\n",
    "zero = Statevector.from_label(\"0\")\n",
    "one = Statevector.from_label(\"1\")\n",
    "psi = zero.tensor(one)\n",
    "display(psi.draw(\"latex\"))\n",
    "# utilizando a notação simplificada para os estados.\n",
    "#display((plus ^ minus_i).draw(\"latex\"))\n"
   ]
  },
  {
   "cell_type": "code",
   "execution_count": 36,
   "metadata": {},
   "outputs": [
    {
     "data": {
      "text/latex": [
       "$$\\frac{1}{2} |00\\rangle- \\frac{i}{2} |01\\rangle+\\frac{1}{2} |10\\rangle- \\frac{i}{2} |11\\rangle$$"
      ],
      "text/plain": [
       "<IPython.core.display.Latex object>"
      ]
     },
     "metadata": {},
     "output_type": "display_data"
    }
   ],
   "source": [
    "# abaixo criamos os rótulos + ou - para os estados.\n",
    "plus = Statevector.from_label(\"+\")\n",
    "minus_i = Statevector.from_label(\"l\")\n",
    "phi = plus.tensor(minus_i)\n",
    "display(phi.draw(\"latex\"))"
   ]
  },
  {
   "cell_type": "code",
   "execution_count": 37,
   "metadata": {},
   "outputs": [
    {
     "data": {
      "text/latex": [
       "$$\\frac{1}{2} |00\\rangle- \\frac{i}{2} |01\\rangle+\\frac{1}{2} |10\\rangle- \\frac{i}{2} |11\\rangle$$"
      ],
      "text/plain": [
       "<IPython.core.display.Latex object>"
      ]
     },
     "metadata": {},
     "output_type": "display_data"
    }
   ],
   "source": [
    "# observe a notação simplificada para produtos tensoriais.\n",
    "display((plus ^ minus_i).draw(\"latex\"))"
   ]
  },
  {
   "cell_type": "code",
   "execution_count": 38,
   "metadata": {},
   "outputs": [
    {
     "data": {
      "text/latex": [
       "$$\n",
       "\n",
       "\\begin{bmatrix}\n",
       "\\frac{\\sqrt{2}}{2} & 0 & \\frac{\\sqrt{2}}{2} & 0  \\\\\n",
       " 0 & \\frac{\\sqrt{2}}{2} & 0 & \\frac{\\sqrt{2}}{2}  \\\\\n",
       " \\frac{\\sqrt{2}}{2} & 0 & - \\frac{\\sqrt{2}}{2} & 0  \\\\\n",
       " 0 & \\frac{\\sqrt{2}}{2} & 0 & - \\frac{\\sqrt{2}}{2}  \\\\\n",
       " \\end{bmatrix}\n",
       "$$"
      ],
      "text/plain": [
       "<IPython.core.display.Latex object>"
      ]
     },
     "metadata": {},
     "output_type": "display_data"
    },
    {
     "data": {
      "text/latex": [
       "$$\n",
       "\n",
       "\\begin{bmatrix}\n",
       "0 & \\frac{\\sqrt{2}}{2} & 0 & 0 & 0 & \\frac{\\sqrt{2}}{2} & 0 & 0  \\\\\n",
       " \\frac{\\sqrt{2}}{2} & 0 & 0 & 0 & \\frac{\\sqrt{2}}{2} & 0 & 0 & 0  \\\\\n",
       " 0 & 0 & 0 & \\frac{\\sqrt{2}}{2} & 0 & 0 & 0 & \\frac{\\sqrt{2}}{2}  \\\\\n",
       " 0 & 0 & \\frac{\\sqrt{2}}{2} & 0 & 0 & 0 & \\frac{\\sqrt{2}}{2} & 0  \\\\\n",
       " 0 & \\frac{\\sqrt{2}}{2} & 0 & 0 & 0 & - \\frac{\\sqrt{2}}{2} & 0 & 0  \\\\\n",
       " \\frac{\\sqrt{2}}{2} & 0 & 0 & 0 & - \\frac{\\sqrt{2}}{2} & 0 & 0 & 0  \\\\\n",
       " 0 & 0 & 0 & \\frac{\\sqrt{2}}{2} & 0 & 0 & 0 & - \\frac{\\sqrt{2}}{2}  \\\\\n",
       " 0 & 0 & \\frac{\\sqrt{2}}{2} & 0 & 0 & 0 & - \\frac{\\sqrt{2}}{2} & 0  \\\\\n",
       " \\end{bmatrix}\n",
       "$$"
      ],
      "text/plain": [
       "<IPython.core.display.Latex object>"
      ]
     },
     "metadata": {},
     "output_type": "display_data"
    }
   ],
   "source": [
    "# A classe Operator também possui um método tensor (bem como um método from_label )\n",
    "H = Operator.from_label(\"H\")\n",
    "I = Operator.from_label(\"I\")\n",
    "X = Operator.from_label(\"X\")\n",
    "display(H.tensor(I).draw(\"latex\"))\n",
    "display(H.tensor(I).tensor(X).draw(\"latex\"))"
   ]
  },
  {
   "cell_type": "code",
   "execution_count": 39,
   "metadata": {},
   "outputs": [
    {
     "data": {
      "text/latex": [
       "$$\n",
       "\n",
       "\\begin{bmatrix}\n",
       "0 & \\frac{\\sqrt{2}}{2} & 0 & 0 & 0 & \\frac{\\sqrt{2}}{2} & 0 & 0  \\\\\n",
       " \\frac{\\sqrt{2}}{2} & 0 & 0 & 0 & \\frac{\\sqrt{2}}{2} & 0 & 0 & 0  \\\\\n",
       " 0 & 0 & 0 & \\frac{\\sqrt{2}}{2} & 0 & 0 & 0 & \\frac{\\sqrt{2}}{2}  \\\\\n",
       " 0 & 0 & \\frac{\\sqrt{2}}{2} & 0 & 0 & 0 & \\frac{\\sqrt{2}}{2} & 0  \\\\\n",
       " 0 & \\frac{\\sqrt{2}}{2} & 0 & 0 & 0 & - \\frac{\\sqrt{2}}{2} & 0 & 0  \\\\\n",
       " \\frac{\\sqrt{2}}{2} & 0 & 0 & 0 & - \\frac{\\sqrt{2}}{2} & 0 & 0 & 0  \\\\\n",
       " 0 & 0 & 0 & \\frac{\\sqrt{2}}{2} & 0 & 0 & 0 & - \\frac{\\sqrt{2}}{2}  \\\\\n",
       " 0 & 0 & \\frac{\\sqrt{2}}{2} & 0 & 0 & 0 & - \\frac{\\sqrt{2}}{2} & 0  \\\\\n",
       " \\end{bmatrix}\n",
       "$$"
      ],
      "text/plain": [
       "<IPython.core.display.Latex object>"
      ]
     },
     "metadata": {},
     "output_type": "display_data"
    }
   ],
   "source": [
    "# tambem temos a operação simplificada para produtos tensoriais\n",
    "display((H ^ I ^ X).draw(\"latex\"))"
   ]
  },
  {
   "cell_type": "code",
   "execution_count": 40,
   "metadata": {},
   "outputs": [
    {
     "data": {
      "text/latex": [
       "$$\\frac{\\sqrt{2}}{2} |00\\rangle- \\frac{\\sqrt{2} i}{2} |01\\rangle$$"
      ],
      "text/plain": [
       "<IPython.core.display.Latex object>"
      ]
     },
     "metadata": {},
     "output_type": "display_data"
    }
   ],
   "source": [
    "# código a seguir calcula o estado (H⊗I)∣φ⟩ durante φ⟩=∣+⟩⊗∣−i⟩ (que já foi definido acima).\n",
    "display(phi.evolve(H ^ I).draw(\"latex\"))"
   ]
  },
  {
   "cell_type": "code",
   "execution_count": 41,
   "metadata": {},
   "outputs": [
    {
     "data": {
      "text/latex": [
       "$$\\frac{\\sqrt{2}}{2} |00\\rangle+\\frac{\\sqrt{2}}{2} |11\\rangle$$"
      ],
      "text/plain": [
       "<IPython.core.display.Latex object>"
      ]
     },
     "metadata": {},
     "output_type": "display_data"
    }
   ],
   "source": [
    "# um código que define um CX operação e calcula CX∣ψ⟩ durante ∣ ψ⟩=∣+⟩⊗∣ 0⟩\n",
    "CX = Operator(\n",
    "    [[1, 0, 0, 0],\n",
    "     [0, 1, 0, 0],\n",
    "     [0, 0, 0, 1],\n",
    "     [0, 0, 1, 0]])\n",
    "psi = plus.tensor(zero)\n",
    "display(psi.evolve(CX).draw(\"latex\"))"
   ]
  },
  {
   "cell_type": "markdown",
   "metadata": {},
   "source": [
    "### Medições parciais"
   ]
  },
  {
   "cell_type": "code",
   "execution_count": 42,
   "metadata": {},
   "outputs": [
    {
     "data": {
      "text/latex": [
       "$$\\frac{\\sqrt{3}}{3} |001\\rangle+\\frac{\\sqrt{3}}{3} |010\\rangle+\\frac{\\sqrt{3}}{3} |100\\rangle$$"
      ],
      "text/plain": [
       "<IPython.core.display.Latex object>"
      ]
     },
     "metadata": {},
     "output_type": "display_data"
    },
    {
     "name": "stdout",
     "output_type": "stream",
     "text": [
      "Measured: 0\n",
      "State after measurement:\n"
     ]
    },
    {
     "data": {
      "text/latex": [
       "$$\\frac{\\sqrt{2}}{2} |010\\rangle+\\frac{\\sqrt{2}}{2} |100\\rangle$$"
      ],
      "text/plain": [
       "<IPython.core.display.Latex object>"
      ]
     },
     "metadata": {},
     "output_type": "display_data"
    },
    {
     "name": "stdout",
     "output_type": "stream",
     "text": [
      "Measured: 01\n",
      "State after measurement:\n"
     ]
    },
    {
     "data": {
      "text/latex": [
       "$$ |001\\rangle$$"
      ],
      "text/plain": [
       "<IPython.core.display.Latex object>"
      ]
     },
     "metadata": {},
     "output_type": "display_data"
    },
    {
     "name": "stdout",
     "output_type": "stream",
     "text": [
      "Measured: 0\n",
      "State after measurement:\n"
     ]
    },
    {
     "data": {
      "text/latex": [
       "$$\\frac{\\sqrt{2}}{2} |001\\rangle+\\frac{\\sqrt{2}}{2} |100\\rangle$$"
      ],
      "text/plain": [
       "<IPython.core.display.Latex object>"
      ]
     },
     "metadata": {},
     "output_type": "display_data"
    },
    {
     "name": "stdout",
     "output_type": "stream",
     "text": [
      "Measured: 00\n",
      "State after measurement:\n"
     ]
    },
    {
     "data": {
      "text/latex": [
       "$$ |100\\rangle$$"
      ],
      "text/plain": [
       "<IPython.core.display.Latex object>"
      ]
     },
     "metadata": {},
     "output_type": "display_data"
    }
   ],
   "source": [
    "# cria um estado de 3 conjuntos e mede o quibit número 0, mais à direita\n",
    "w = Statevector([0, 1, 1, 0, 1, 0, 0, 0] / sqrt(3))\n",
    "display(w.draw(\"latex\"))\n",
    "\n",
    "result, state = w.measure([0])\n",
    "print(f\"Measured: {result}\\nState after measurement:\")\n",
    "display(state.draw(\"latex\"))\n",
    "\n",
    "result, state = w.measure([0,1])\n",
    "print(f\"Measured: {result}\\nState after measurement:\")\n",
    "display(state.draw(\"latex\"))\n",
    "\n",
    "result, state = w.measure([1])\n",
    "print(f\"Measured: {result}\\nState after measurement:\")\n",
    "display(state.draw(\"latex\"))\n",
    "\n",
    "result, state = w.measure([1,0])\n",
    "print(f\"Measured: {result}\\nState after measurement:\")\n",
    "display(state.draw(\"latex\"))\n"
   ]
  },
  {
   "cell_type": "code",
   "execution_count": 43,
   "metadata": {},
   "outputs": [
    {
     "name": "stdout",
     "output_type": "stream",
     "text": [
      "1.4.2\n"
     ]
    }
   ],
   "source": [
    "from qiskit import __version__\n",
    "print(__version__)\n"
   ]
  },
  {
   "cell_type": "code",
   "execution_count": 45,
   "metadata": {},
   "outputs": [
    {
     "name": "stdout",
     "output_type": "stream",
     "text": [
      "Collecting qiskit-aer\n",
      "  Downloading qiskit_aer-0.17.0-cp313-cp313-win_amd64.whl.metadata (8.4 kB)\n",
      "Requirement already satisfied: qiskit>=1.1.0 in c:\\users\\massa\\anaconda3\\envs\\cwq\\lib\\site-packages (from qiskit-aer) (1.4.2)\n",
      "Requirement already satisfied: numpy>=1.16.3 in c:\\users\\massa\\anaconda3\\envs\\cwq\\lib\\site-packages (from qiskit-aer) (2.2.4)\n",
      "Requirement already satisfied: scipy>=1.0 in c:\\users\\massa\\anaconda3\\envs\\cwq\\lib\\site-packages (from qiskit-aer) (1.15.2)\n",
      "Requirement already satisfied: psutil>=5 in c:\\users\\massa\\appdata\\roaming\\python\\python313\\site-packages (from qiskit-aer) (7.0.0)\n",
      "Requirement already satisfied: rustworkx>=0.15.0 in c:\\users\\massa\\anaconda3\\envs\\cwq\\lib\\site-packages (from qiskit>=1.1.0->qiskit-aer) (0.16.0)\n",
      "Requirement already satisfied: sympy>=1.3 in c:\\users\\massa\\anaconda3\\envs\\cwq\\lib\\site-packages (from qiskit>=1.1.0->qiskit-aer) (1.13.3)\n",
      "Requirement already satisfied: dill>=0.3 in c:\\users\\massa\\anaconda3\\envs\\cwq\\lib\\site-packages (from qiskit>=1.1.0->qiskit-aer) (0.3.9)\n",
      "Requirement already satisfied: python-dateutil>=2.8.0 in c:\\users\\massa\\appdata\\roaming\\python\\python313\\site-packages (from qiskit>=1.1.0->qiskit-aer) (2.9.0.post0)\n",
      "Requirement already satisfied: stevedore>=3.0.0 in c:\\users\\massa\\anaconda3\\envs\\cwq\\lib\\site-packages (from qiskit>=1.1.0->qiskit-aer) (5.4.1)\n",
      "Requirement already satisfied: typing-extensions in c:\\users\\massa\\anaconda3\\envs\\cwq\\lib\\site-packages (from qiskit>=1.1.0->qiskit-aer) (4.12.2)\n",
      "Requirement already satisfied: symengine<0.14,>=0.11 in c:\\users\\massa\\anaconda3\\envs\\cwq\\lib\\site-packages (from qiskit>=1.1.0->qiskit-aer) (0.13.0)\n",
      "Requirement already satisfied: six>=1.5 in c:\\users\\massa\\appdata\\roaming\\python\\python313\\site-packages (from python-dateutil>=2.8.0->qiskit>=1.1.0->qiskit-aer) (1.17.0)\n",
      "Requirement already satisfied: pbr>=2.0.0 in c:\\users\\massa\\anaconda3\\envs\\cwq\\lib\\site-packages (from stevedore>=3.0.0->qiskit>=1.1.0->qiskit-aer) (6.1.1)\n",
      "Requirement already satisfied: mpmath<1.4,>=1.1.0 in c:\\users\\massa\\anaconda3\\envs\\cwq\\lib\\site-packages (from sympy>=1.3->qiskit>=1.1.0->qiskit-aer) (1.3.0)\n",
      "Requirement already satisfied: setuptools in c:\\users\\massa\\anaconda3\\envs\\cwq\\lib\\site-packages (from pbr>=2.0.0->stevedore>=3.0.0->qiskit>=1.1.0->qiskit-aer) (75.8.0)\n",
      "Downloading qiskit_aer-0.17.0-cp313-cp313-win_amd64.whl (9.5 MB)\n",
      "   ---------------------------------------- 0.0/9.5 MB ? eta -:--:--\n",
      "   ----- ---------------------------------- 1.3/9.5 MB 6.0 MB/s eta 0:00:02\n",
      "   ------------- -------------------------- 3.1/9.5 MB 7.7 MB/s eta 0:00:01\n",
      "   ----------------- ---------------------- 4.2/9.5 MB 7.9 MB/s eta 0:00:01\n",
      "   ---------------------- ----------------- 5.2/9.5 MB 6.6 MB/s eta 0:00:01\n",
      "   -------------------------- ------------- 6.3/9.5 MB 6.7 MB/s eta 0:00:01\n",
      "   -------------------------- ------------- 6.3/9.5 MB 6.7 MB/s eta 0:00:01\n",
      "   ------------------------------- -------- 7.6/9.5 MB 5.1 MB/s eta 0:00:01\n",
      "   ----------------------------------- ---- 8.4/9.5 MB 5.4 MB/s eta 0:00:01\n",
      "   ---------------------------------------  9.4/9.5 MB 5.0 MB/s eta 0:00:01\n",
      "   ---------------------------------------- 9.5/9.5 MB 4.8 MB/s eta 0:00:00\n",
      "Installing collected packages: qiskit-aer\n",
      "Successfully installed qiskit-aer-0.17.0\n",
      "Note: you may need to restart the kernel to use updated packages.\n"
     ]
    }
   ],
   "source": [
    "pip install qiskit-aer\n"
   ]
  },
  {
   "cell_type": "code",
   "execution_count": 46,
   "metadata": {},
   "outputs": [],
   "source": [
    "from qiskit import QuantumCircuit, QuantumRegister, ClassicalRegister\n",
    "from qiskit.quantum_info import Operator\n",
    "from qiskit_aer import AerSimulator\n",
    "from qiskit.visualization import plot_histogram\n"
   ]
  },
  {
   "cell_type": "code",
   "execution_count": null,
   "metadata": {},
   "outputs": [
    {
     "data": {
      "image/png": "[encoded data removed]",
      "text/plain": [
       "<Figure size 436.286x117.056 with 1 Axes>"
      ]
     },
     "metadata": {},
     "output_type": "display_data"
    }
   ],
   "source": [
    "# criando um circuito quântico com 1 qubit e 1 bit clássico\n",
    "circuit = QuantumCircuit(1)\n",
    "circuit.h(0)\n",
    "circuit.s(0)\n",
    "circuit.h(0)\n",
    "circuit.t(0)\n",
    "\n",
    "display(circuit.draw(output=\"mpl\"))\n"
   ]
  },
  {
   "cell_type": "code",
   "execution_count": null,
   "metadata": {},
   "outputs": [
    {
     "data": {
      "image/png": "[encoded data removed]",
      "text/plain": [
       "<Figure size 437.882x117.056 with 1 Axes>"
      ]
     },
     "metadata": {},
     "output_type": "display_data"
    }
   ],
   "source": [
    "# A classe AerSimulator é uma classe de simulação quântica que pode ser usada para simular circuitos quânticos. O código a seguir cria um simulador quântico e executa o circuito acima, retornando os resultados da medição. Observe que o método pode utilizar o nome que você quiser, mas o padrão é \"simulator\".\n",
    "X = QuantumRegister(1, \"X\")\n",
    "circuit = QuantumCircuit(X)\n",
    "circuit.h(X)\n",
    "circuit.s(X)\n",
    "circuit.h(X)\n",
    "circuit.t(X)\n",
    "\n",
    "display(circuit.draw(output=\"mpl\"))\n"
   ]
  },
  {
   "cell_type": "code",
   "execution_count": 49,
   "metadata": {},
   "outputs": [
    {
     "data": {
      "image/png": "[encoded data removed]",
      "text/plain": [
       "<Figure size 270.66x200.667 with 1 Axes>"
      ]
     },
     "metadata": {},
     "output_type": "display_data"
    },
    {
     "data": {
      "text/latex": [
       "$$\n",
       "\n",
       "\\begin{bmatrix}\n",
       "\\frac{\\sqrt{2}}{2} & \\frac{\\sqrt{2}}{2} & 0 & 0  \\\\\n",
       " 0 & 0 & \\frac{\\sqrt{2}}{2} & - \\frac{\\sqrt{2}}{2}  \\\\\n",
       " 0 & 0 & \\frac{\\sqrt{2}}{2} & \\frac{\\sqrt{2}}{2}  \\\\\n",
       " \\frac{\\sqrt{2}}{2} & - \\frac{\\sqrt{2}}{2} & 0 & 0  \\\\\n",
       " \\end{bmatrix}\n",
       "$$"
      ],
      "text/plain": [
       "<IPython.core.display.Latex object>"
      ]
     },
     "metadata": {},
     "output_type": "display_data"
    }
   ],
   "source": [
    "# Vamos criar o circuito no Qiskit e verificar se nossos cálculos estão corretos.\n",
    "X = QuantumRegister(1, \"X\")\n",
    "Y = QuantumRegister(1, \"Y\")\n",
    "circuit = QuantumCircuit(Y,X)\n",
    "circuit.h(Y)\n",
    "circuit.cx(Y, X)\n",
    "\n",
    "display(circuit.draw(output=\"mpl\"))\n",
    "display(Operator.from_circuit(circuit).draw(\"latex\"))\n"
   ]
  },
  {
   "cell_type": "code",
   "execution_count": 50,
   "metadata": {},
   "outputs": [
    {
     "data": {
      "image/png": "[encoded data removed]",
      "text/plain": [
       "<Figure size 437.882x367.889 with 1 Axes>"
      ]
     },
     "metadata": {},
     "output_type": "display_data"
    }
   ],
   "source": [
    "# implementando o circuito quântico com 2 qubits e 2 bits clássicos\n",
    "X = QuantumRegister(1, \"X\")\n",
    "Y = QuantumRegister(1, \"Y\")\n",
    "A = ClassicalRegister(1, \"A\")\n",
    "B = ClassicalRegister(1, \"B\")\n",
    "\n",
    "circuit = QuantumCircuit(Y, X, B, A)\n",
    "circuit.h(Y)\n",
    "circuit.cx(Y, X)\n",
    "circuit.measure(Y, B)\n",
    "circuit.measure(X, A)\n",
    "\n",
    "display(circuit.draw(output=\"mpl\"))\n"
   ]
  },
  {
   "cell_type": "code",
   "execution_count": 51,
   "metadata": {},
   "outputs": [
    {
     "data": {
      "image/png": "[encoded data removed]",
      "text/plain": [
       "<Figure size 640x480 with 1 Axes>"
      ]
     },
     "metadata": {},
     "output_type": "display_data"
    }
   ],
   "source": [
    "# usando o simulador quântico para executar o circuito\n",
    "result = AerSimulator().run(circuit).result()\n",
    "statistics = result.get_counts()\n",
    "display(plot_histogram(statistics))\n"
   ]
  },
  {
   "cell_type": "code",
   "execution_count": null,
   "metadata": {},
   "outputs": [],
   "source": []
  }
 ],
 "metadata": {
  "kernelspec": {
   "display_name": "cwq",
   "language": "python",
   "name": "python3"
  },
  "language_info": {
   "codemirror_mode": {
    "name": "ipython",
    "version": 3
   },
   "file_extension": ".py",
   "mimetype": "text/x-python",
   "name": "python",
   "nbconvert_exporter": "python",
   "pygments_lexer": "ipython3",
   "version": "3.13.2"
  }
 },
 "nbformat": 4,
 "nbformat_minor": 2
}
