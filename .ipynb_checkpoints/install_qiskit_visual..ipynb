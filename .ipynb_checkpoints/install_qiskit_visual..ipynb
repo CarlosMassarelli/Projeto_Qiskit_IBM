{
 "cells": [
  {
   "cell_type": "markdown",
   "metadata": {},
   "source": [
    "### To activate this environment, use\n",
    "###    $ conda activate cwq\n",
    "### To deactivate an active environment, use\n",
    "###    $ conda deactivate"
   ]
  },
  {
   "cell_type": "code",
   "execution_count": 3,
   "metadata": {},
   "outputs": [
    {
     "data": {
      "text/plain": [
       "'\\n## Para usar no CONDA\\n<ctrl+p> encontre Python: Select interpreter\\nEscolha o interpretador (‘base’: conda) no local onde vc irá guardar os arquivos...\\nLembre-se que o interpretador estará em local diferente dos arquivos. Quando vc abrir o KDE ele irá entender que vc está no ambiente que iremos construir.\\n\\nAbra o VS CODE e abra o terminal (console)\\nCaso não visualize o ambiente novo (ambiente)\\n>conda init\\nreinicie o terminal no VS Code.\\n\\n>conda activate cwq\\n>conda install pip\\n>pip install qiskit\\n>pip install matplotlib\\n>pip install qiskit_ibm_runtime\\n>pip install pylatexenc\\n\\nCriando seu primeiro Notebook\\nNa aba do projeto, clique no botão “New File” e crie um arquivo Notebook com a extensão .ipynb.\\n\\nEscolha o kernel no canto superior direito da tela. Selecione o kernel Python 3.8.5 64-bit (conda) para usar o ambiente que você acabou de criar.\\n\\n'"
      ]
     },
     "execution_count": 3,
     "metadata": {},
     "output_type": "execute_result"
    }
   ],
   "source": [
    "\n",
    "# Para instalação completa.\n",
    "'''\n",
    "## Para usar no CONDA\n",
    "<ctrl+p> encontre Python: Select interpreter\n",
    "Escolha o interpretador (‘base’: conda) no local onde vc irá guardar os arquivos...\n",
    "Lembre-se que o interpretador estará em local diferente dos arquivos. Quando vc abrir o KDE ele irá entender que vc está no ambiente que iremos construir.\n",
    "\n",
    "Abra o VS CODE e abra o terminal (console)\n",
    "Caso não visualize o ambiente novo (ambiente)\n",
    ">conda init\n",
    "reinicie o terminal no VS Code.\n",
    "\n",
    ">conda activate cwq\n",
    ">conda install pip\n",
    ">pip install qiskit\n",
    ">pip install matplotlib\n",
    ">pip install qiskit_ibm_runtime\n",
    ">pip install pylatexenc\n",
    "\n",
    "Criando seu primeiro Notebook\n",
    "Na aba do projeto, clique no botão “New File” e crie um arquivo Notebook com a extensão .ipynb.\n",
    "\n",
    "Escolha o kernel no canto superior direito da tela. Selecione o kernel Python 3.8.5 64-bit (conda) para usar o ambiente que você acabou de criar.\n",
    "\n",
    "'''"
   ]
  },
  {
   "cell_type": "code",
   "execution_count": 6,
   "metadata": {},
   "outputs": [],
   "source": [
    "# importanto a biblioteca\n",
    "import qiskit"
   ]
  },
  {
   "cell_type": "code",
   "execution_count": 7,
   "metadata": {},
   "outputs": [
    {
     "data": {
      "text/plain": [
       "'1.4.2'"
      ]
     },
     "execution_count": 7,
     "metadata": {},
     "output_type": "execute_result"
    }
   ],
   "source": [
    "# verificando a versão\n",
    "qiskit.__version__"
   ]
  },
  {
   "cell_type": "code",
   "execution_count": 8,
   "metadata": {},
   "outputs": [],
   "source": [
    "# configurando a conta\n",
    "from qiskit_ibm_runtime import QiskitRuntimeService\n",
    "service = QiskitRuntimeService(channel=\"ibm_quantum\", # ibm_cloud\n",
    "                               token=\"0023014b4039d87425ca4035ff0f3e64ae9774d9d451b073aaaefea5143ccd3b747f9b91fa18cbe5bb32496d505f1092beec5a03231f600f419ee89295916176\")"
   ]
  },
  {
   "cell_type": "code",
   "execution_count": 9,
   "metadata": {},
   "outputs": [],
   "source": [
    "# salvando a conta\n",
    "QiskitRuntimeService.save_account(channel=\"ibm_quantum\",\n",
    "                               token=\"0023014b4039d87425ca4035ff0f3e64ae9774d9d451b073aaaefea5143ccd3b747f9b91fa18cbe5bb32496d505f1092beec5a03231f600f419ee89295916176\", overwrite=True)"
   ]
  },
  {
   "cell_type": "code",
   "execution_count": 10,
   "metadata": {},
   "outputs": [],
   "source": [
    "backend = service.backend(name = \"ibm_sherbrooke\")"
   ]
  },
  {
   "cell_type": "code",
   "execution_count": 11,
   "metadata": {},
   "outputs": [
    {
     "data": {
      "text/plain": [
       "127"
      ]
     },
     "execution_count": 11,
     "metadata": {},
     "output_type": "execute_result"
    }
   ],
   "source": [
    "backend.num_qubits"
   ]
  },
  {
   "cell_type": "markdown",
   "metadata": {},
   "source": [
    "# qiskit implementations"
   ]
  },
  {
   "cell_type": "code",
   "execution_count": 12,
   "metadata": {},
   "outputs": [
    {
     "data": {
      "text/plain": [
       "'1.4.2'"
      ]
     },
     "execution_count": 12,
     "metadata": {},
     "output_type": "execute_result"
    }
   ],
   "source": [
    "qiskit.__version__"
   ]
  },
  {
   "cell_type": "code",
   "execution_count": 11,
   "metadata": {},
   "outputs": [
    {
     "name": "stdout",
     "output_type": "stream",
     "text": [
      "[[0.5]\n",
      " [0.5]]\n"
     ]
    }
   ],
   "source": [
    "# importando as bibliotecas\n",
    "# Vectors and matrices in Python\n",
    "import numpy as np\n",
    "\n",
    "ket0 = np.array([[1],[0]])\n",
    "ket1 = np.array([[0],[1]])\n",
    "\n",
    "print(ket0 / 2 + ket1 / 2)"
   ]
  },
  {
   "cell_type": "code",
   "execution_count": 12,
   "metadata": {},
   "outputs": [
    {
     "name": "stdout",
     "output_type": "stream",
     "text": [
      "[[1.  0.5]\n",
      " [0.  0.5]]\n"
     ]
    }
   ],
   "source": [
    "# create matrices that can represent operations.\n",
    "M1 = np.array([[1, 1], [0, 0]])\n",
    "M2 = np.array([[1, 0], [0, 1]])\n",
    "M = M1 / 2 + M2 / 2\n",
    "print(M)"
   ]
  },
  {
   "cell_type": "code",
   "execution_count": 13,
   "metadata": {},
   "outputs": [
    {
     "name": "stdout",
     "output_type": "stream",
     "text": [
      "[[1]\n",
      " [0]]\n",
      "[[1 1]\n",
      " [0 0]]\n",
      "[[1.   0.75]\n",
      " [0.   0.25]]\n"
     ]
    }
   ],
   "source": [
    "# Matrix multiplication, including matrix-vector multiplication as a special case, can be performed using the matmul function from NumPy.\n",
    "print(np.matmul(M1, ket1))\n",
    "print(np.matmul(M1, M2))\n",
    "print(np.matmul(M, M))"
   ]
  },
  {
   "cell_type": "code",
   "execution_count": 14,
   "metadata": {},
   "outputs": [
    {
     "data": {
      "text/latex": [
       "$$\n",
       "\n",
       "\\begin{bmatrix}\n",
       "1  \\\\\n",
       " 0  \\\\\n",
       " \\end{bmatrix}\n",
       "$$"
      ],
      "text/plain": [
       "<IPython.core.display.Latex object>"
      ]
     },
     "metadata": {},
     "output_type": "display_data"
    },
    {
     "data": {
      "text/latex": [
       "$$\n",
       "\n",
       "\\begin{bmatrix}\n",
       "1 & 1  \\\\\n",
       " 0 & 0  \\\\\n",
       " \\end{bmatrix}\n",
       "$$"
      ],
      "text/plain": [
       "<IPython.core.display.Latex object>"
      ]
     },
     "metadata": {},
     "output_type": "display_data"
    },
    {
     "data": {
      "text/latex": [
       "$$\n",
       "\n",
       "\\begin{bmatrix}\n",
       "1 & \\frac{3}{4}  \\\\\n",
       " 0 & \\frac{1}{4}  \\\\\n",
       " \\end{bmatrix}\n",
       "$$"
      ],
      "text/plain": [
       "<IPython.core.display.Latex object>"
      ]
     },
     "metadata": {},
     "output_type": "display_data"
    }
   ],
   "source": [
    "# Essa formatação de saída deixa a desejar, visualmente falando. Uma solução, para situações que exigem algo mais bonito, é usar a função array_to_latex do Qiskit do módulo qiskit.visualization . Observe que, no código a seguir, estamos usando a função de exibição genérica do Python. Por outro lado, o comportamento específico da impressão pode depender do que é impresso, como acontece com as matrizes definidas pelo NumPy .\n",
    "\n",
    "from qiskit.visualization import array_to_latex\n",
    "\n",
    "display(array_to_latex(np.matmul(M1, ket1)))\n",
    "display(array_to_latex(np.matmul(M1, M2)))\n",
    "display(array_to_latex(np.matmul(M, M)))"
   ]
  },
  {
   "cell_type": "code",
   "execution_count": 15,
   "metadata": {},
   "outputs": [],
   "source": [
    "#Estados, medições e operações em Python com Qiskit\n",
    "\n",
    "from qiskit.quantum_info import Statevector\n",
    "from numpy import sqrt\n",
    "\n",
    "u = Statevector([1 / sqrt(2), 1 / sqrt(2)])\n",
    "v = Statevector([(1 + 2.0j) / 3, -2 / 3])\n",
    "w = Statevector([1 / 3, 2 / 3])"
   ]
  },
  {
   "cell_type": "code",
   "execution_count": 16,
   "metadata": {},
   "outputs": [
    {
     "data": {
      "text/plain": [
       "[0.70710678+0.j,0.70710678+0.j]"
      ]
     },
     "metadata": {},
     "output_type": "display_data"
    },
    {
     "data": {
      "text/latex": [
       "$$\\frac{\\sqrt{2}}{2} |0\\rangle+\\frac{\\sqrt{2}}{2} |1\\rangle$$"
      ],
      "text/plain": [
       "<IPython.core.display.Latex object>"
      ]
     },
     "metadata": {},
     "output_type": "display_data"
    },
    {
     "name": "stdout",
     "output_type": "stream",
     "text": [
      "\\frac{\\sqrt{2}}{2} |0\\rangle+\\frac{\\sqrt{2}}{2} |1\\rangle\n"
     ]
    }
   ],
   "source": [
    "# A classe Statevector inclui um método draw para exibir vetores de estado de várias maneiras, incluindo texto para texto simples, látex para LaTeX renderizado e latex_source para código LaTeX, que pode ser útil para recortar e colar em documentos. (Use print em vez de display para mostrar o código LaTeX para obter melhores resultados.)\n",
    "\n",
    "display(u.draw(\"text\"))\n",
    "display(u.draw(\"latex\"))\n",
    "print(u.draw(\"latex_source\"))"
   ]
  },
  {
   "cell_type": "code",
   "execution_count": 17,
   "metadata": {},
   "outputs": [
    {
     "data": {
      "text/plain": [
       "True"
      ]
     },
     "metadata": {},
     "output_type": "display_data"
    },
    {
     "data": {
      "text/plain": [
       "False"
      ]
     },
     "metadata": {},
     "output_type": "display_data"
    }
   ],
   "source": [
    "# A classe Statevector também inclui o método is_valid , que verifica se um determinado vetor é um vetor de estado quântico válido (ou seja, se ele tem uma norma euclidiana igual a 1):\n",
    "display(u.is_valid())\n",
    "display(w.is_valid())"
   ]
  },
  {
   "cell_type": "code",
   "execution_count": 18,
   "metadata": {},
   "outputs": [
    {
     "data": {
      "text/latex": [
       "$$(\\frac{1}{3} + \\frac{2 i}{3}) |0\\rangle- \\frac{2}{3} |1\\rangle$$"
      ],
      "text/plain": [
       "<IPython.core.display.Latex object>"
      ]
     },
     "metadata": {},
     "output_type": "display_data"
    },
    {
     "name": "stdout",
     "output_type": "stream",
     "text": [
      "(\\frac{1}{3} + \\frac{2 i}{3}) |0\\rangle- \\frac{2}{3} |1\\rangle\n"
     ]
    }
   ],
   "source": [
    "# Simulando medições usando vetor de estado\n",
    "display(v.draw(\"latex\"))\n",
    "print(v.draw(\"latex_source\"))"
   ]
  },
  {
   "cell_type": "code",
   "execution_count": 19,
   "metadata": {},
   "outputs": [
    {
     "name": "stdout",
     "output_type": "stream",
     "text": [
      "Measured: 0\n",
      "Post-measurement state:\n"
     ]
    },
    {
     "data": {
      "text/latex": [
       "$$(\\frac{\\sqrt{5}}{5} + \\frac{2 \\sqrt{5} i}{5}) |0\\rangle$$"
      ],
      "text/plain": [
       "<IPython.core.display.Latex object>"
      ]
     },
     "metadata": {},
     "output_type": "display_data"
    },
    {
     "data": {
      "text/plain": [
       "'(\\\\frac{\\\\sqrt{5}}{5} + \\\\frac{2 \\\\sqrt{5} i}{5}) |0\\\\rangle'"
      ]
     },
     "metadata": {},
     "output_type": "display_data"
    }
   ],
   "source": [
    "# A execução do método de medida simula uma medição de base padrão. Ele retorna o resultado dessa medição, mais o novo vetor de estado quântico do sistema após a medição. (Aqui estamos usando a função print do Python com um prefixo f para impressão formatada com expressões incorporadas.)\n",
    "\n",
    "outcome, state = v.measure()\n",
    "print(f\"Measured: {outcome}\\nPost-measurement state:\")\n",
    "display(state.draw(\"latex\"))\n",
    "display(state.draw(\"latex_source\"))"
   ]
  },
  {
   "cell_type": "code",
   "execution_count": 20,
   "metadata": {},
   "outputs": [
    {
     "data": {
      "image/png": "[encoded data removed]",
      "text/plain": [
       "<Figure size 640x480 with 1 Axes>"
      ]
     },
     "execution_count": 20,
     "metadata": {},
     "output_type": "execute_result"
    }
   ],
   "source": [
    "# O Statevector também vem com um método sample_counts que permite a simulação de qualquer número de medições no sistema, cada vez começando com uma nova cópia do estado. Por exemplo, o código a seguir mostra o resultado da medição do vetor v 1000 vezes, o que (com alta probabilidade) resulta no desfecho 0 aproximadamente 5 de cada 9 horários (ou cerca de 556 do 1000 ensaios) e o resultado 1 aproximadamente 4 de cada 9 horários (ou cerca de 444 fora do 1000 ensaios). O código a seguir também demonstra a função plot_histogram do módulo qiskit.visualization para visualizar os resultados.\n",
    "\n",
    "from qiskit.visualization import plot_histogram\n",
    "\n",
    "statistics = v.sample_counts(1000)\n",
    "plot_histogram(statistics)"
   ]
  },
  {
   "cell_type": "code",
   "execution_count": 21,
   "metadata": {},
   "outputs": [
    {
     "data": {
      "text/latex": [
       "$$\n",
       "\n",
       "\\begin{bmatrix}\n",
       "0 & - i  \\\\\n",
       " i & 0  \\\\\n",
       " \\end{bmatrix}\n",
       "$$"
      ],
      "text/plain": [
       "<IPython.core.display.Latex object>"
      ]
     },
     "metadata": {},
     "output_type": "display_data"
    },
    {
     "data": {
      "text/latex": [
       "$$\n",
       "\n",
       "\\begin{bmatrix}\n",
       "\\frac{\\sqrt{2}}{2} & \\frac{\\sqrt{2}}{2}  \\\\\n",
       " \\frac{\\sqrt{2}}{2} & - \\frac{\\sqrt{2}}{2}  \\\\\n",
       " \\end{bmatrix}\n",
       "$$"
      ],
      "text/plain": [
       "<IPython.core.display.Latex object>"
      ]
     },
     "metadata": {},
     "output_type": "display_data"
    },
    {
     "data": {
      "text/latex": [
       "$$\n",
       "\n",
       "\\begin{bmatrix}\n",
       "1 & 0  \\\\\n",
       " 0 & i  \\\\\n",
       " \\end{bmatrix}\n",
       "$$"
      ],
      "text/plain": [
       "<IPython.core.display.Latex object>"
      ]
     },
     "metadata": {},
     "output_type": "display_data"
    },
    {
     "data": {
      "text/latex": [
       "$$\n",
       "\n",
       "\\begin{bmatrix}\n",
       "1 & 0  \\\\\n",
       " 0 & \\frac{\\sqrt{2}}{2} + \\frac{\\sqrt{2} i}{2}  \\\\\n",
       " \\end{bmatrix}\n",
       "$$"
      ],
      "text/plain": [
       "<IPython.core.display.Latex object>"
      ]
     },
     "metadata": {},
     "output_type": "display_data"
    }
   ],
   "source": [
    "# Executando operações com Operator e Statevector\n",
    "\n",
    "from qiskit.quantum_info import Operator\n",
    "\n",
    "Y = Operator([[0, -1.0j], [1.0j, 0]])\n",
    "H = Operator([[1 / sqrt(2), 1 / sqrt(2)], [1 / sqrt(2), -1 / sqrt(2)]])\n",
    "S = Operator([[1, 0], [0, 1.0j]])\n",
    "T = Operator([[1, 0], [0, (1 + 1.0j) / sqrt(2)]])\n",
    "\n",
    "display(Y.draw(\"latex\"))\n",
    "display(H.draw(\"latex\"))\n",
    "display(S.draw(\"latex\"))\n",
    "display(T.draw(\"latex\"))"
   ]
  },
  {
   "cell_type": "code",
   "execution_count": 22,
   "metadata": {},
   "outputs": [
    {
     "data": {
      "text/latex": [
       "$$(0.1464466094 - 0.3535533906 i) |0\\rangle+(-0.3535533906 + 0.8535533906 i) |1\\rangle$$"
      ],
      "text/plain": [
       "<IPython.core.display.Latex object>"
      ]
     },
     "metadata": {},
     "output_type": "display_data"
    }
   ],
   "source": [
    "# Podemos aplicar uma operação unitária a um vetor de estado usando o método evolve . \n",
    "\n",
    "v = Statevector([1, 0])\n",
    "\n",
    "v = v.evolve(H)\n",
    "v = v.evolve(T)\n",
    "v = v.evolve(H)\n",
    "v = v.evolve(S)\n",
    "v = v.evolve(Y)\n",
    "\n",
    "display(v.draw(\"latex\"))"
   ]
  },
  {
   "cell_type": "code",
   "execution_count": 23,
   "metadata": {},
   "outputs": [
    {
     "data": {
      "text/latex": [
       "$$ |0\\rangle$$"
      ],
      "text/plain": [
       "<IPython.core.display.Latex object>"
      ]
     },
     "metadata": {},
     "output_type": "display_data"
    },
    {
     "name": "stdout",
     "output_type": "stream",
     "text": [
      "True\n"
     ]
    }
   ],
   "source": [
    "# Por exemplo, o código a seguir aplica a operação H ao vetor de estado u , resultando em um novo vetor de estado que é o superposição de |0⟩ e |1⟩:\n",
    "\n",
    "new_state = u.evolve(H)\n",
    "display(new_state.draw(\"latex\"))\n",
    "print(new_state.is_valid())"
   ]
  },
  {
   "cell_type": "code",
   "execution_count": 24,
   "metadata": {},
   "outputs": [
    {
     "data": {
      "image/png": "[encoded data removed]",
      "text/plain": [
       "<Figure size 519.897x117.056 with 1 Axes>"
      ]
     },
     "metadata": {},
     "output_type": "display_data"
    }
   ],
   "source": [
    "# Olhando para os circuitos quânticos em Python com Qiskit\n",
    "# Em particular, podemos definir um circuito quântico (que, neste caso, será simplesmente uma sequência de operações unitárias executadas em um único qubit) da seguinte maneira.\n",
    "\n",
    "from qiskit import QuantumCircuit\n",
    "\n",
    "circuit = QuantumCircuit(1)\n",
    "\n",
    "circuit.h(0)\n",
    "circuit.t(0)\n",
    "circuit.h(0)\n",
    "circuit.s(0)\n",
    "circuit.y(0)\n",
    "\n",
    "display(circuit.draw(output=\"mpl\"))"
   ]
  },
  {
   "cell_type": "code",
   "execution_count": 25,
   "metadata": {},
   "outputs": [
    {
     "data": {
      "text/latex": [
       "$$\n",
       "\n",
       "\\begin{bmatrix}\n",
       "0.1464466094 - 0.3535533906 i & 0.8535533906 + 0.3535533906 i  \\\\\n",
       " -0.3535533906 + 0.8535533906 i & 0.3535533906 + 0.1464466094 i  \\\\\n",
       " \\end{bmatrix}\n",
       "$$"
      ],
      "text/plain": [
       "<IPython.core.display.Latex object>"
      ]
     },
     "metadata": {},
     "output_type": "display_data"
    }
   ],
   "source": [
    "# As operações são aplicadas sequencialmente, começando à esquerda e terminando à direita no diagrama. Uma maneira prática de obter a matriz unitária correspondente a este circuito é usar o método from_circuit da classe Operator .\n",
    "\n",
    "display(Operator.from_circuit(circuit).draw(\"latex\"))"
   ]
  },
  {
   "cell_type": "code",
   "execution_count": 26,
   "metadata": {},
   "outputs": [
    {
     "data": {
      "text/latex": [
       "$$(0.1464466094 - 0.3535533906 i) |0\\rangle+(-0.3535533906 + 0.8535533906 i) |1\\rangle$$"
      ],
      "text/plain": [
       "<IPython.core.display.Latex object>"
      ]
     },
     "metadata": {},
     "output_type": "display_data"
    }
   ],
   "source": [
    "# Também é possível inicializar um vetor de estado quântico inicial e, em seguida, evoluir esse estado de acordo com a sequência de operações descritas pelo circuito.\n",
    "\n",
    "ket0 = Statevector([1, 0])\n",
    "v = ket0.evolve(circuit)\n",
    "display(v.draw(\"latex\"))"
   ]
  },
  {
   "cell_type": "code",
   "execution_count": 27,
   "metadata": {},
   "outputs": [
    {
     "data": {
      "image/png": "[encoded data removed]",
      "text/plain": [
       "<Figure size 640x480 with 1 Axes>"
      ]
     },
     "metadata": {},
     "output_type": "display_data"
    }
   ],
   "source": [
    "# O código a seguir simula um experimento em que o estado obtido do circuito acima é medido com uma medição de base padrão 4.000 vezes (usando uma nova cópia do estado a cada vez).\n",
    "\n",
    "statistics = v.sample_counts(4000)\n",
    "display(plot_histogram(statistics))"
   ]
  },
  {
   "cell_type": "code",
   "execution_count": 28,
   "metadata": {},
   "outputs": [
    {
     "data": {
      "text/plain": [
       "[0.70710678+0.j,0.70710678+0.j]"
      ]
     },
     "metadata": {},
     "output_type": "display_data"
    },
    {
     "data": {
      "text/latex": [
       "$$\\frac{\\sqrt{2}}{2} |0\\rangle+\\frac{\\sqrt{2}}{2} |1\\rangle$$"
      ],
      "text/plain": [
       "<IPython.core.display.Latex object>"
      ]
     },
     "metadata": {},
     "output_type": "display_data"
    },
    {
     "name": "stdout",
     "output_type": "stream",
     "text": [
      "\\frac{\\sqrt{2}}{2} |0\\rangle+\\frac{\\sqrt{2}}{2} |1\\rangle\n"
     ]
    }
   ],
   "source": [
    "display(u.draw(\"text\"))\n",
    "display(u.draw(\"latex\"))\n",
    "print(u.draw(\"latex_source\"))"
   ]
  },
  {
   "cell_type": "code",
   "execution_count": 29,
   "metadata": {},
   "outputs": [
    {
     "name": "stdout",
     "output_type": "stream",
     "text": [
      "1.4.2\n"
     ]
    }
   ],
   "source": [
    "from qiskit import __version__\n",
    "print(__version__)"
   ]
  },
  {
   "cell_type": "code",
   "execution_count": 30,
   "metadata": {},
   "outputs": [],
   "source": [
    "from qiskit.quantum_info import Statevector, Operator\n",
    "from numpy import sqrt"
   ]
  },
  {
   "cell_type": "code",
   "execution_count": 31,
   "metadata": {},
   "outputs": [
    {
     "data": {
      "text/latex": [
       "$$ |01\\rangle$$"
      ],
      "text/plain": [
       "<IPython.core.display.Latex object>"
      ]
     },
     "metadata": {},
     "output_type": "display_data"
    }
   ],
   "source": [
    "# abaixo criamos dois vetores de estado que representam ∣0⟩ e ∣1⟩,e usar o método tensor para criar um novo vetor,∣ψ⟩=∣0⟩⊗∣1⟩. Observe aqui que estamos usando o método from_label para definir os estados ∣0⟩ e ∣1⟩, em vez de defini-los nós mesmos.\n",
    "zero = Statevector.from_label(\"0\")\n",
    "one = Statevector.from_label(\"1\")\n",
    "psi = zero.tensor(one)\n",
    "display(psi.draw(\"latex\"))\n",
    "# utilizando a notação simplificada para os estados.\n",
    "#display((plus ^ minus_i).draw(\"latex\"))\n"
   ]
  },
  {
   "cell_type": "code",
   "execution_count": 32,
   "metadata": {},
   "outputs": [
    {
     "data": {
      "text/latex": [
       "$$\\frac{1}{2} |00\\rangle- \\frac{i}{2} |01\\rangle+\\frac{1}{2} |10\\rangle- \\frac{i}{2} |11\\rangle$$"
      ],
      "text/plain": [
       "<IPython.core.display.Latex object>"
      ]
     },
     "metadata": {},
     "output_type": "display_data"
    }
   ],
   "source": [
    "# abaixo criamos os rótulos + ou - para os estados.\n",
    "plus = Statevector.from_label(\"+\")\n",
    "minus_i = Statevector.from_label(\"l\")\n",
    "phi = plus.tensor(minus_i)\n",
    "display(phi.draw(\"latex\"))"
   ]
  },
  {
   "cell_type": "code",
   "execution_count": 33,
   "metadata": {},
   "outputs": [
    {
     "data": {
      "text/latex": [
       "$$\\frac{1}{2} |00\\rangle- \\frac{i}{2} |01\\rangle+\\frac{1}{2} |10\\rangle- \\frac{i}{2} |11\\rangle$$"
      ],
      "text/plain": [
       "<IPython.core.display.Latex object>"
      ]
     },
     "metadata": {},
     "output_type": "display_data"
    }
   ],
   "source": [
    "# observe a notação simplificada para produtos tensoriais.\n",
    "display((plus ^ minus_i).draw(\"latex\"))"
   ]
  },
  {
   "cell_type": "code",
   "execution_count": 34,
   "metadata": {},
   "outputs": [
    {
     "data": {
      "text/latex": [
       "$$\n",
       "\n",
       "\\begin{bmatrix}\n",
       "\\frac{\\sqrt{2}}{2} & 0 & \\frac{\\sqrt{2}}{2} & 0  \\\\\n",
       " 0 & \\frac{\\sqrt{2}}{2} & 0 & \\frac{\\sqrt{2}}{2}  \\\\\n",
       " \\frac{\\sqrt{2}}{2} & 0 & - \\frac{\\sqrt{2}}{2} & 0  \\\\\n",
       " 0 & \\frac{\\sqrt{2}}{2} & 0 & - \\frac{\\sqrt{2}}{2}  \\\\\n",
       " \\end{bmatrix}\n",
       "$$"
      ],
      "text/plain": [
       "<IPython.core.display.Latex object>"
      ]
     },
     "metadata": {},
     "output_type": "display_data"
    },
    {
     "data": {
      "text/latex": [
       "$$\n",
       "\n",
       "\\begin{bmatrix}\n",
       "0 & \\frac{\\sqrt{2}}{2} & 0 & 0 & 0 & \\frac{\\sqrt{2}}{2} & 0 & 0  \\\\\n",
       " \\frac{\\sqrt{2}}{2} & 0 & 0 & 0 & \\frac{\\sqrt{2}}{2} & 0 & 0 & 0  \\\\\n",
       " 0 & 0 & 0 & \\frac{\\sqrt{2}}{2} & 0 & 0 & 0 & \\frac{\\sqrt{2}}{2}  \\\\\n",
       " 0 & 0 & \\frac{\\sqrt{2}}{2} & 0 & 0 & 0 & \\frac{\\sqrt{2}}{2} & 0  \\\\\n",
       " 0 & \\frac{\\sqrt{2}}{2} & 0 & 0 & 0 & - \\frac{\\sqrt{2}}{2} & 0 & 0  \\\\\n",
       " \\frac{\\sqrt{2}}{2} & 0 & 0 & 0 & - \\frac{\\sqrt{2}}{2} & 0 & 0 & 0  \\\\\n",
       " 0 & 0 & 0 & \\frac{\\sqrt{2}}{2} & 0 & 0 & 0 & - \\frac{\\sqrt{2}}{2}  \\\\\n",
       " 0 & 0 & \\frac{\\sqrt{2}}{2} & 0 & 0 & 0 & - \\frac{\\sqrt{2}}{2} & 0  \\\\\n",
       " \\end{bmatrix}\n",
       "$$"
      ],
      "text/plain": [
       "<IPython.core.display.Latex object>"
      ]
     },
     "metadata": {},
     "output_type": "display_data"
    }
   ],
   "source": [
    "# A classe Operator também possui um método tensor (bem como um método from_label )\n",
    "H = Operator.from_label(\"H\")\n",
    "I = Operator.from_label(\"I\")\n",
    "X = Operator.from_label(\"X\")\n",
    "display(H.tensor(I).draw(\"latex\"))\n",
    "display(H.tensor(I).tensor(X).draw(\"latex\"))"
   ]
  },
  {
   "cell_type": "code",
   "execution_count": 35,
   "metadata": {},
   "outputs": [
    {
     "data": {
      "text/latex": [
       "$$\n",
       "\n",
       "\\begin{bmatrix}\n",
       "0 & \\frac{\\sqrt{2}}{2} & 0 & 0 & 0 & \\frac{\\sqrt{2}}{2} & 0 & 0  \\\\\n",
       " \\frac{\\sqrt{2}}{2} & 0 & 0 & 0 & \\frac{\\sqrt{2}}{2} & 0 & 0 & 0  \\\\\n",
       " 0 & 0 & 0 & \\frac{\\sqrt{2}}{2} & 0 & 0 & 0 & \\frac{\\sqrt{2}}{2}  \\\\\n",
       " 0 & 0 & \\frac{\\sqrt{2}}{2} & 0 & 0 & 0 & \\frac{\\sqrt{2}}{2} & 0  \\\\\n",
       " 0 & \\frac{\\sqrt{2}}{2} & 0 & 0 & 0 & - \\frac{\\sqrt{2}}{2} & 0 & 0  \\\\\n",
       " \\frac{\\sqrt{2}}{2} & 0 & 0 & 0 & - \\frac{\\sqrt{2}}{2} & 0 & 0 & 0  \\\\\n",
       " 0 & 0 & 0 & \\frac{\\sqrt{2}}{2} & 0 & 0 & 0 & - \\frac{\\sqrt{2}}{2}  \\\\\n",
       " 0 & 0 & \\frac{\\sqrt{2}}{2} & 0 & 0 & 0 & - \\frac{\\sqrt{2}}{2} & 0  \\\\\n",
       " \\end{bmatrix}\n",
       "$$"
      ],
      "text/plain": [
       "<IPython.core.display.Latex object>"
      ]
     },
     "metadata": {},
     "output_type": "display_data"
    }
   ],
   "source": [
    "# tambem temos a operação simplificada para produtos tensoriais\n",
    "display((H ^ I ^ X).draw(\"latex\"))"
   ]
  },
  {
   "cell_type": "code",
   "execution_count": 36,
   "metadata": {},
   "outputs": [
    {
     "data": {
      "text/latex": [
       "$$\\frac{\\sqrt{2}}{2} |00\\rangle- \\frac{\\sqrt{2} i}{2} |01\\rangle$$"
      ],
      "text/plain": [
       "<IPython.core.display.Latex object>"
      ]
     },
     "metadata": {},
     "output_type": "display_data"
    }
   ],
   "source": [
    "# código a seguir calcula o estado (H⊗I)∣φ⟩ durante φ⟩=∣+⟩⊗∣−i⟩ (que já foi definido acima).\n",
    "display(phi.evolve(H ^ I).draw(\"latex\"))"
   ]
  },
  {
   "cell_type": "code",
   "execution_count": 37,
   "metadata": {},
   "outputs": [
    {
     "data": {
      "text/latex": [
       "$$\\frac{\\sqrt{2}}{2} |00\\rangle+\\frac{\\sqrt{2}}{2} |11\\rangle$$"
      ],
      "text/plain": [
       "<IPython.core.display.Latex object>"
      ]
     },
     "metadata": {},
     "output_type": "display_data"
    }
   ],
   "source": [
    "# um código que define um CX operação e calcula CX∣ψ⟩ durante ∣ ψ⟩=∣+⟩⊗∣ 0⟩\n",
    "CX = Operator(\n",
    "    [[1, 0, 0, 0],\n",
    "     [0, 1, 0, 0],\n",
    "     [0, 0, 0, 1],\n",
    "     [0, 0, 1, 0]])\n",
    "psi = plus.tensor(zero)\n",
    "display(psi.evolve(CX).draw(\"latex\"))"
   ]
  },
  {
   "cell_type": "markdown",
   "metadata": {},
   "source": [
    "### Medições parciais"
   ]
  },
  {
   "cell_type": "code",
   "execution_count": 38,
   "metadata": {},
   "outputs": [
    {
     "data": {
      "text/latex": [
       "$$\\frac{\\sqrt{3}}{3} |001\\rangle+\\frac{\\sqrt{3}}{3} |010\\rangle+\\frac{\\sqrt{3}}{3} |100\\rangle$$"
      ],
      "text/plain": [
       "<IPython.core.display.Latex object>"
      ]
     },
     "metadata": {},
     "output_type": "display_data"
    },
    {
     "name": "stdout",
     "output_type": "stream",
     "text": [
      "Measured: 0\n",
      "State after measurement:\n"
     ]
    },
    {
     "data": {
      "text/latex": [
       "$$\\frac{\\sqrt{2}}{2} |010\\rangle+\\frac{\\sqrt{2}}{2} |100\\rangle$$"
      ],
      "text/plain": [
       "<IPython.core.display.Latex object>"
      ]
     },
     "metadata": {},
     "output_type": "display_data"
    },
    {
     "name": "stdout",
     "output_type": "stream",
     "text": [
      "Measured: 10\n",
      "State after measurement:\n"
     ]
    },
    {
     "data": {
      "text/latex": [
       "$$ |010\\rangle$$"
      ],
      "text/plain": [
       "<IPython.core.display.Latex object>"
      ]
     },
     "metadata": {},
     "output_type": "display_data"
    },
    {
     "name": "stdout",
     "output_type": "stream",
     "text": [
      "Measured: 0\n",
      "State after measurement:\n"
     ]
    },
    {
     "data": {
      "text/latex": [
       "$$\\frac{\\sqrt{2}}{2} |001\\rangle+\\frac{\\sqrt{2}}{2} |100\\rangle$$"
      ],
      "text/plain": [
       "<IPython.core.display.Latex object>"
      ]
     },
     "metadata": {},
     "output_type": "display_data"
    },
    {
     "name": "stdout",
     "output_type": "stream",
     "text": [
      "Measured: 10\n",
      "State after measurement:\n"
     ]
    },
    {
     "data": {
      "text/latex": [
       "$$ |001\\rangle$$"
      ],
      "text/plain": [
       "<IPython.core.display.Latex object>"
      ]
     },
     "metadata": {},
     "output_type": "display_data"
    }
   ],
   "source": [
    "# cria um estado de 3 conjuntos e mede o quibit número 0, mais à direita\n",
    "w = Statevector([0, 1, 1, 0, 1, 0, 0, 0] / sqrt(3))\n",
    "display(w.draw(\"latex\"))\n",
    "\n",
    "result, state = w.measure([0])\n",
    "print(f\"Measured: {result}\\nState after measurement:\")\n",
    "display(state.draw(\"latex\"))\n",
    "\n",
    "result, state = w.measure([0,1])\n",
    "print(f\"Measured: {result}\\nState after measurement:\")\n",
    "display(state.draw(\"latex\"))\n",
    "\n",
    "result, state = w.measure([1])\n",
    "print(f\"Measured: {result}\\nState after measurement:\")\n",
    "display(state.draw(\"latex\"))\n",
    "\n",
    "result, state = w.measure([1,0])\n",
    "print(f\"Measured: {result}\\nState after measurement:\")\n",
    "display(state.draw(\"latex\"))\n"
   ]
  },
  {
   "cell_type": "code",
   "execution_count": 39,
   "metadata": {},
   "outputs": [
    {
     "name": "stdout",
     "output_type": "stream",
     "text": [
      "1.4.2\n"
     ]
    }
   ],
   "source": [
    "from qiskit import __version__\n",
    "print(__version__)\n"
   ]
  },
  {
   "cell_type": "code",
   "execution_count": null,
   "metadata": {},
   "outputs": [
    {
     "name": "stdout",
     "output_type": "stream",
     "text": [
      "Requirement already satisfied: qiskit-aer in c:\\users\\massa\\anaconda3\\lib\\site-packages (0.17.0)\n",
      "Requirement already satisfied: qiskit>=1.1.0 in c:\\users\\massa\\anaconda3\\lib\\site-packages (from qiskit-aer) (2.0.0)\n",
      "Requirement already satisfied: numpy>=1.16.3 in c:\\users\\massa\\anaconda3\\lib\\site-packages (from qiskit-aer) (1.24.4)\n",
      "Requirement already satisfied: scipy>=1.0 in c:\\users\\massa\\anaconda3\\lib\\site-packages (from qiskit-aer) (1.10.1)\n",
      "Requirement already satisfied: psutil>=5 in c:\\users\\massa\\anaconda3\\lib\\site-packages (from qiskit-aer) (5.9.0)\n",
      "Requirement already satisfied: rustworkx>=0.15.0 in c:\\users\\massa\\anaconda3\\lib\\site-packages (from qiskit>=1.1.0->qiskit-aer) (0.16.0)\n",
      "Requirement already satisfied: sympy>=1.3 in c:\\users\\massa\\anaconda3\\lib\\site-packages (from qiskit>=1.1.0->qiskit-aer) (1.12)\n",
      "Requirement already satisfied: dill>=0.3 in c:\\users\\massa\\anaconda3\\lib\\site-packages (from qiskit>=1.1.0->qiskit-aer) (0.3.7)\n",
      "Requirement already satisfied: python-dateutil>=2.8.0 in c:\\users\\massa\\anaconda3\\lib\\site-packages (from qiskit>=1.1.0->qiskit-aer) (2.8.2)\n",
      "Requirement already satisfied: stevedore>=3.0.0 in c:\\users\\massa\\anaconda3\\lib\\site-packages (from qiskit>=1.1.0->qiskit-aer) (5.4.1)\n",
      "Requirement already satisfied: typing-extensions in c:\\users\\massa\\anaconda3\\lib\\site-packages (from qiskit>=1.1.0->qiskit-aer) (4.12.2)\n",
      "Requirement already satisfied: symengine<0.14,>=0.11 in c:\\users\\massa\\anaconda3\\lib\\site-packages (from qiskit>=1.1.0->qiskit-aer) (0.13.0)\n",
      "Requirement already satisfied: six>=1.5 in c:\\users\\massa\\anaconda3\\lib\\site-packages (from python-dateutil>=2.8.0->qiskit>=1.1.0->qiskit-aer) (1.16.0)\n",
      "Requirement already satisfied: pbr>=2.0.0 in c:\\users\\massa\\anaconda3\\lib\\site-packages (from stevedore>=3.0.0->qiskit>=1.1.0->qiskit-aer) (6.1.1)\n",
      "Requirement already satisfied: mpmath>=0.19 in c:\\users\\massa\\anaconda3\\lib\\site-packages (from sympy>=1.3->qiskit>=1.1.0->qiskit-aer) (1.3.0)\n",
      "Requirement already satisfied: setuptools in c:\\users\\massa\\anaconda3\\lib\\site-packages (from pbr>=2.0.0->stevedore>=3.0.0->qiskit>=1.1.0->qiskit-aer) (68.2.2)\n",
      "Note: you may need to restart the kernel to use updated packages.\n"
     ]
    }
   ],
   "source": [
    "%pip install qiskit-aer\n"
   ]
  },
  {
   "cell_type": "code",
   "execution_count": 1,
   "metadata": {},
   "outputs": [],
   "source": [
    "from qiskit import QuantumCircuit, QuantumRegister, ClassicalRegister\n",
    "from qiskit.quantum_info import Operator\n",
    "from qiskit_aer import AerSimulator\n",
    "from qiskit.visualization import plot_histogram\n"
   ]
  },
  {
   "cell_type": "code",
   "execution_count": 2,
   "metadata": {},
   "outputs": [
    {
     "data": {
      "image/png": "[encoded data removed]",
      "text/plain": [
       "<Figure size 436.286x117.056 with 1 Axes>"
      ]
     },
     "metadata": {},
     "output_type": "display_data"
    }
   ],
   "source": [
    "# criando um circuito quântico com 1 qubit e 1 bit clássico\n",
    "circuit = QuantumCircuit(1)\n",
    "circuit.h(0)\n",
    "circuit.s(0)\n",
    "circuit.h(0)\n",
    "circuit.t(0)\n",
    "\n",
    "display(circuit.draw(output=\"mpl\"))\n"
   ]
  },
  {
   "cell_type": "code",
   "execution_count": 43,
   "metadata": {},
   "outputs": [
    {
     "data": {
      "image/png": "[encoded data removed]",
      "text/plain": [
       "<Figure size 437.882x117.056 with 1 Axes>"
      ]
     },
     "metadata": {},
     "output_type": "display_data"
    }
   ],
   "source": [
    "# A classe AerSimulator é uma classe de simulação quântica que pode ser usada para simular circuitos quânticos. O código a seguir cria um simulador quântico e executa o circuito acima, retornando os resultados da medição. Observe que o método pode utilizar o nome que você quiser, mas o padrão é \"simulator\".\n",
    "X = QuantumRegister(1, \"X\")\n",
    "circuit = QuantumCircuit(X)\n",
    "circuit.h(X)\n",
    "circuit.s(X)\n",
    "circuit.h(X)\n",
    "circuit.t(X)\n",
    "\n",
    "display(circuit.draw(output=\"mpl\"))\n"
   ]
  },
  {
   "cell_type": "code",
   "execution_count": 44,
   "metadata": {},
   "outputs": [
    {
     "data": {
      "image/png": "[encoded data removed]",
      "text/plain": [
       "<Figure size 270.66x200.667 with 1 Axes>"
      ]
     },
     "metadata": {},
     "output_type": "display_data"
    },
    {
     "data": {
      "text/latex": [
       "$$\n",
       "\n",
       "\\begin{bmatrix}\n",
       "\\frac{\\sqrt{2}}{2} & \\frac{\\sqrt{2}}{2} & 0 & 0  \\\\\n",
       " 0 & 0 & \\frac{\\sqrt{2}}{2} & - \\frac{\\sqrt{2}}{2}  \\\\\n",
       " 0 & 0 & \\frac{\\sqrt{2}}{2} & \\frac{\\sqrt{2}}{2}  \\\\\n",
       " \\frac{\\sqrt{2}}{2} & - \\frac{\\sqrt{2}}{2} & 0 & 0  \\\\\n",
       " \\end{bmatrix}\n",
       "$$"
      ],
      "text/plain": [
       "<IPython.core.display.Latex object>"
      ]
     },
     "metadata": {},
     "output_type": "display_data"
    }
   ],
   "source": [
    "# Vamos criar o circuito no Qiskit e verificar se nossos cálculos estão corretos.\n",
    "X = QuantumRegister(1, \"X\")\n",
    "Y = QuantumRegister(1, \"Y\")\n",
    "circuit = QuantumCircuit(Y,X)\n",
    "circuit.h(Y)\n",
    "circuit.cx(Y, X)\n",
    "\n",
    "display(circuit.draw(output=\"mpl\"))\n",
    "display(Operator.from_circuit(circuit).draw(\"latex\"))\n"
   ]
  },
  {
   "cell_type": "code",
   "execution_count": 45,
   "metadata": {},
   "outputs": [
    {
     "data": {
      "image/png": "[encoded data removed]",
      "text/plain": [
       "<Figure size 437.882x367.889 with 1 Axes>"
      ]
     },
     "metadata": {},
     "output_type": "display_data"
    }
   ],
   "source": [
    "# implementando o circuito quântico com 2 qubits e 2 bits clássicos\n",
    "X = QuantumRegister(1, \"X\")\n",
    "Y = QuantumRegister(1, \"Y\")\n",
    "A = ClassicalRegister(1, \"A\")\n",
    "B = ClassicalRegister(1, \"B\")\n",
    "\n",
    "circuit = QuantumCircuit(Y, X, B, A)\n",
    "circuit.h(Y)\n",
    "circuit.cx(Y, X)\n",
    "circuit.measure(Y, B)\n",
    "circuit.measure(X, A)\n",
    "\n",
    "display(circuit.draw(output=\"mpl\"))\n"
   ]
  },
  {
   "cell_type": "code",
   "execution_count": 46,
   "metadata": {},
   "outputs": [
    {
     "data": {
      "image/png": "[encoded data removed]",
      "text/plain": [
       "<Figure size 640x480 with 1 Axes>"
      ]
     },
     "metadata": {},
     "output_type": "display_data"
    }
   ],
   "source": [
    "# usando o simulador quântico para executar o circuito\n",
    "result = AerSimulator().run(circuit).result()\n",
    "statistics = result.get_counts()\n",
    "display(plot_histogram(statistics))\n"
   ]
  },
  {
   "cell_type": "markdown",
   "metadata": {},
   "source": [
    "## Aplicando o emaranhamento quântico..."
   ]
  },
  {
   "cell_type": "code",
   "execution_count": 47,
   "metadata": {},
   "outputs": [
    {
     "name": "stdout",
     "output_type": "stream",
     "text": [
      "1.4.2\n"
     ]
    }
   ],
   "source": [
    "from qiskit import __version__\n",
    "print(__version__)"
   ]
  },
  {
   "cell_type": "code",
   "execution_count": 48,
   "metadata": {},
   "outputs": [],
   "source": [
    "from qiskit import QuantumCircuit, QuantumRegister, ClassicalRegister # importando as bibliotecas\n",
    "from qiskit_aer import AerSimulator # importando o simulador\n",
    "from qiskit.visualization import plot_histogram, array_to_latex # importando a biblioteca para visualização\n",
    "from qiskit.result import marginal_distribution # importando a biblioteca para distribuição marginal\n",
    "from qiskit.circuit.library import UGate # importando a biblioteca UGate\n",
    "from numpy import pi, random # importando a biblioteca pi e random"
   ]
  },
  {
   "cell_type": "code",
   "execution_count": 49,
   "metadata": {},
   "outputs": [
    {
     "data": {
      "image/png": "[encoded data removed]",
      "text/plain": [
       "<Figure size 1193.19x451.5 with 1 Axes>"
      ]
     },
     "metadata": {},
     "output_type": "display_data"
    }
   ],
   "source": [
    "qubit = QuantumRegister(1, \"Q\")\n",
    "ebit0 = QuantumRegister(1, \"A\")\n",
    "ebit1 = QuantumRegister(1, \"B\")\n",
    "a = ClassicalRegister(1, \"a\")\n",
    "b = ClassicalRegister(1, \"b\")\n",
    "\n",
    "protocol = QuantumCircuit(qubit, ebit0, ebit1, a, b)\n",
    "\n",
    "# Preparação do ebit usado para o teletransporte\n",
    "protocol.h(ebit0)\n",
    "protocol.cx(ebit0, ebit1)\n",
    "protocol.barrier()\n",
    "\n",
    "# Operações de Alice\n",
    "protocol.cx(qubit, ebit0)\n",
    "protocol.h(qubit)\n",
    "protocol.barrier()\n",
    "\n",
    "# Alice mede e envia bits clássicos para Bob\n",
    "protocol.measure(ebit0, a)\n",
    "protocol.measure(qubit, b)\n",
    "protocol.barrier()\n",
    "\n",
    "# Bob usa bits classicos para aplicar operações\n",
    "with protocol.if_test((a, 1)):\n",
    "    protocol.x(ebit1)\n",
    "with protocol.if_test((b, 1)):\n",
    "    protocol.z(ebit1)\n",
    "\n",
    "display(protocol.draw(output=\"mpl\"))"
   ]
  },
  {
   "cell_type": "code",
   "execution_count": 50,
   "metadata": {},
   "outputs": [
    {
     "data": {
      "text/latex": [
       "$$\n",
       "\n",
       "\\begin{bmatrix}\n",
       "-0.91796741 & -0.3226408839 + 0.2307351172 i  \\\\\n",
       " 0.2623148518 - 0.2975344564 i & -0.093245227 + 0.9132193019 i  \\\\\n",
       " \\end{bmatrix}\n",
       "$$"
      ],
      "text/plain": [
       "<IPython.core.display.Latex object>"
      ]
     },
     "metadata": {},
     "output_type": "display_data"
    }
   ],
   "source": [
    "random_gate = UGate(\n",
    "    theta=random.random() * 2 * pi,\n",
    "    phi=random.random() * 2 * pi,\n",
    "    lam=random.random() * 2 * pi\n",
    ")\n",
    "\n",
    "display(array_to_latex(random_gate.to_matrix()))"
   ]
  },
  {
   "cell_type": "code",
   "execution_count": 51,
   "metadata": {},
   "outputs": [
    {
     "data": {
      "image/png": "[encoded data removed]",
      "text/plain": [
       "<Figure size 1929.98x535.111 with 1 Axes>"
      ]
     },
     "metadata": {},
     "output_type": "display_data"
    }
   ],
   "source": [
    "# cria um novo circuito incluindo os mesmos bits e qubits usados no protocolo de teletransporte\n",
    "test = QuantumCircuit(qubit, ebit0, ebit1, a, b)\n",
    "\n",
    "# Inicie com a porta aleatória em Q\n",
    "test.append(random_gate, qubit)\n",
    "test.barrier()\n",
    "\n",
    "# Anexe todo o protocolo de teletransporte acima.\n",
    "test = test.compose(protocol)\n",
    "test.barrier()\n",
    "\n",
    "# Por fim, aplique o inverso do unitário aleatório a B e meça.\n",
    "test.append(random_gate.inverse(), ebit1)\n",
    "result = ClassicalRegister(1, \"Result\")\n",
    "test.add_register(result)\n",
    "test.measure(ebit1, result)\n",
    "\n",
    "display(test.draw(output=\"mpl\"))"
   ]
  },
  {
   "cell_type": "code",
   "execution_count": 52,
   "metadata": {},
   "outputs": [
    {
     "data": {
      "image/png": "[encoded data removed]",
      "text/plain": [
       "<Figure size 640x480 with 1 Axes>"
      ]
     },
     "metadata": {},
     "output_type": "display_data"
    }
   ],
   "source": [
    "result = AerSimulator().run(test).result()\n",
    "statistics = result.get_counts()\n",
    "display(plot_histogram(statistics))"
   ]
  },
  {
   "cell_type": "code",
   "execution_count": 53,
   "metadata": {},
   "outputs": [
    {
     "data": {
      "image/png": "[encoded data removed]",
      "text/plain": [
       "<Figure size 640x480 with 1 Axes>"
      ]
     },
     "metadata": {},
     "output_type": "display_data"
    }
   ],
   "source": [
    "filtered_statistics = marginal_distribution(statistics, [2])\n",
    "display(plot_histogram(filtered_statistics))"
   ]
  },
  {
   "cell_type": "code",
   "execution_count": 54,
   "metadata": {},
   "outputs": [
    {
     "name": "stdout",
     "output_type": "stream",
     "text": [
      "Statevector([0.70710678+0.j, 0.        +0.j, 0.        +0.j,\n",
      "             0.70710678+0.j],\n",
      "            dims=(2, 2))\n"
     ]
    }
   ],
   "source": [
    "# gerandos os estados de Bell\n",
    "from qiskit import QuantumCircuit\n",
    "from qiskit.quantum_info import Statevector\n",
    "\n",
    "qc = QuantumCircuit(2)\n",
    "qc.h(0)\n",
    "qc.cx(0, 1)\n",
    "state = Statevector.from_instruction(qc)\n",
    "print(state)"
   ]
  },
  {
   "cell_type": "markdown",
   "metadata": {},
   "source": [
    "## Codificação superdensa"
   ]
  },
  {
   "cell_type": "code",
   "execution_count": 55,
   "metadata": {},
   "outputs": [],
   "source": [
    "c = \"1\"\n",
    "d = \"0\""
   ]
  },
  {
   "cell_type": "code",
   "execution_count": 56,
   "metadata": {},
   "outputs": [
    {
     "data": {
      "image/png": "[encoded data removed]",
      "text/plain": [
       "<Figure size 998.442x284.278 with 1 Axes>"
      ]
     },
     "metadata": {},
     "output_type": "display_data"
    }
   ],
   "source": [
    "# Construindo o circuito quântico para o protocolo de codificação superdensa\n",
    "protocol = QuantumCircuit(2)\n",
    "\n",
    "# Preparando o ebit para a codificação superdensa\n",
    "protocol.h(0)\n",
    "protocol.cx(0, 1)\n",
    "protocol.barrier()\n",
    "\n",
    "# Operações de Alice\n",
    "if d == \"1\":\n",
    "    protocol.z(0)\n",
    "if c == \"1\":\n",
    "    protocol.x(0)\n",
    "protocol.barrier()\n",
    "\n",
    "# Ações de Bob\n",
    "protocol.cx(0, 1)\n",
    "protocol.h(0)\n",
    "protocol.measure_all()\n",
    "\n",
    "display(protocol.draw(output=\"mpl\"))"
   ]
  },
  {
   "cell_type": "code",
   "execution_count": 57,
   "metadata": {},
   "outputs": [
    {
     "name": "stdout",
     "output_type": "stream",
     "text": [
      "Measured 10 with frequency 1024\n"
     ]
    },
    {
     "data": {
      "image/png": "[encoded data removed]",
      "text/plain": [
       "<Figure size 640x480 with 1 Axes>"
      ]
     },
     "metadata": {},
     "output_type": "display_data"
    }
   ],
   "source": [
    "# agora executamos o simulador para medir a saída\n",
    "result = AerSimulator().run(protocol).result()\n",
    "statistics = result.get_counts()\n",
    "\n",
    "for outcome, frequency in statistics.items():\n",
    "    print(f\"Measured {outcome} with frequency {frequency}\")\n",
    "\n",
    "display(plot_histogram(statistics))"
   ]
  },
  {
   "cell_type": "code",
   "execution_count": 58,
   "metadata": {},
   "outputs": [
    {
     "data": {
      "image/png": "[encoded data removed]",
      "text/plain": [
       "<Figure size 1685.96x618.722 with 1 Axes>"
      ]
     },
     "metadata": {},
     "output_type": "display_data"
    }
   ],
   "source": [
    "# Vamos usar um qubit adicional como um gerador de bits aleatórios - essencialmente para jogar moedas justas. Vamos usá-lo para escolher aleatoriamente c e d, e, em seguida, execute o protocolo de codificação superdenso\n",
    "rbg = QuantumRegister(1, \"coin\")\n",
    "ebit0 = QuantumRegister(1, \"A\")\n",
    "ebit1 = QuantumRegister(1, \"B\")\n",
    "\n",
    "Alice_c = ClassicalRegister(1, \"Alice c\")\n",
    "Alice_d = ClassicalRegister(1, \"Alice d\")\n",
    "\n",
    "test = QuantumCircuit(rbg, ebit0, ebit1, Alice_d, Alice_c)\n",
    "\n",
    "# Inicializando o qubit de moeda em |+⟩\n",
    "test.h(ebit0)\n",
    "test.cx(ebit0, ebit1)\n",
    "test.barrier()\n",
    "\n",
    "# Use a 'moeda' qubit gemeos para gerar os bits c e d de  Alice.\n",
    "test.h(rbg)\n",
    "test.measure(rbg, Alice_c)\n",
    "test.h(rbg)\n",
    "test.measure(rbg, Alice_d)\n",
    "test.barrier()\n",
    "\n",
    "\n",
    "# Agora o protocolo roda, começando com as ações de Alice, que dependem  dos bits dela\n",
    "with test.if_test((Alice_d, 1), label=\"Z\"):\n",
    "    test.z(ebit0)\n",
    "with test.if_test((Alice_c, 1), label=\"X\"):\n",
    "    test.x(ebit0)\n",
    "test.barrier()\n",
    "\n",
    "# Açoes de Bob\n",
    "test.cx(ebit0, ebit1)\n",
    "test.h(ebit0)\n",
    "test.barrier()\n",
    "\n",
    "Bob_c = ClassicalRegister(1, \"Bob c\")\n",
    "Bob_d = ClassicalRegister(1, \"Bob d\")\n",
    "test.add_register(Bob_d)\n",
    "test.add_register(Bob_c)\n",
    "test.measure(ebit0, Bob_d)\n",
    "test.measure(ebit1, Bob_c)\n",
    "\n",
    "display(test.draw(output=\"mpl\"))"
   ]
  },
  {
   "cell_type": "code",
   "execution_count": 59,
   "metadata": {},
   "outputs": [
    {
     "data": {
      "image/png": "[encoded data removed]",
      "text/plain": [
       "<Figure size 640x480 with 1 Axes>"
      ]
     },
     "metadata": {},
     "output_type": "display_data"
    }
   ],
   "source": [
    "result = AerSimulator().run(test).result()\n",
    "statistics = result.get_counts()\n",
    "display(plot_histogram(statistics))"
   ]
  },
  {
   "cell_type": "code",
   "execution_count": null,
   "metadata": {},
   "outputs": [
    {
     "name": "stdout",
     "output_type": "stream",
     "text": [
      "Requirement already satisfied: qiskit-aer in c:\\users\\massa\\anaconda3\\lib\\site-packages (0.17.0)\n",
      "Requirement already satisfied: qiskit>=1.1.0 in c:\\users\\massa\\anaconda3\\lib\\site-packages (from qiskit-aer) (1.4.2)\n",
      "Requirement already satisfied: numpy>=1.16.3 in c:\\users\\massa\\anaconda3\\lib\\site-packages (from qiskit-aer) (1.26.4)\n",
      "Requirement already satisfied: scipy>=1.0 in c:\\users\\massa\\anaconda3\\lib\\site-packages (from qiskit-aer) (1.11.4)\n",
      "Requirement already satisfied: psutil>=5 in c:\\users\\massa\\anaconda3\\lib\\site-packages (from qiskit-aer) (5.9.0)\n",
      "Requirement already satisfied: rustworkx>=0.15.0 in c:\\users\\massa\\anaconda3\\lib\\site-packages (from qiskit>=1.1.0->qiskit-aer) (0.16.0)\n",
      "Requirement already satisfied: sympy>=1.3 in c:\\users\\massa\\anaconda3\\lib\\site-packages (from qiskit>=1.1.0->qiskit-aer) (1.12)\n",
      "Requirement already satisfied: dill>=0.3 in c:\\users\\massa\\anaconda3\\lib\\site-packages (from qiskit>=1.1.0->qiskit-aer) (0.3.7)\n",
      "Requirement already satisfied: python-dateutil>=2.8.0 in c:\\users\\massa\\anaconda3\\lib\\site-packages (from qiskit>=1.1.0->qiskit-aer) (2.8.2)\n",
      "Requirement already satisfied: stevedore>=3.0.0 in c:\\users\\massa\\anaconda3\\lib\\site-packages (from qiskit>=1.1.0->qiskit-aer) (5.4.1)\n",
      "Requirement already satisfied: typing-extensions in c:\\users\\massa\\anaconda3\\lib\\site-packages (from qiskit>=1.1.0->qiskit-aer) (4.12.2)\n",
      "Requirement already satisfied: symengine<0.14,>=0.11 in c:\\users\\massa\\anaconda3\\lib\\site-packages (from qiskit>=1.1.0->qiskit-aer) (0.13.0)\n",
      "Requirement already satisfied: six>=1.5 in c:\\users\\massa\\anaconda3\\lib\\site-packages (from python-dateutil>=2.8.0->qiskit>=1.1.0->qiskit-aer) (1.16.0)\n",
      "Requirement already satisfied: pbr>=2.0.0 in c:\\users\\massa\\anaconda3\\lib\\site-packages (from stevedore>=3.0.0->qiskit>=1.1.0->qiskit-aer) (6.1.1)\n",
      "Requirement already satisfied: mpmath>=0.19 in c:\\users\\massa\\anaconda3\\lib\\site-packages (from sympy>=1.3->qiskit>=1.1.0->qiskit-aer) (1.3.0)\n",
      "Requirement already satisfied: setuptools in c:\\users\\massa\\anaconda3\\lib\\site-packages (from pbr>=2.0.0->stevedore>=3.0.0->qiskit>=1.1.0->qiskit-aer) (68.2.2)\n",
      "Note: you may need to restart the kernel to use updated packages.\n"
     ]
    }
   ],
   "source": [
    "# instalando o simulador \n",
    "%pip install qiskit-aer"
   ]
  },
  {
   "cell_type": "code",
   "execution_count": null,
   "metadata": {},
   "outputs": [
    {
     "name": "stdout",
     "output_type": "stream",
     "text": [
      "Name: qiskit-aer\n",
      "Version: 0.17.0\n",
      "Summary: Aer - High performance simulators for Qiskit\n",
      "Home-page: https://github.com/Qiskit/qiskit-aer\n",
      "Author: AER Development Team\n",
      "Author-email: qiskit@us.ibm.com\n",
      "License: Apache 2.0\n",
      "Location: c:\\Users\\massa\\anaconda3\\Lib\\site-packages\n",
      "Requires: numpy, psutil, qiskit, scipy\n",
      "Required-by: \n",
      "Note: you may need to restart the kernel to use updated packages.\n"
     ]
    }
   ],
   "source": [
    "%pip show qiskit-aer"
   ]
  },
  {
   "cell_type": "code",
   "execution_count": null,
   "metadata": {},
   "outputs": [
    {
     "name": "stdout",
     "output_type": "stream",
     "text": [
      "Collecting pydantic==2.9.1\n",
      "  Downloading pydantic-2.9.1-py3-none-any.whl.metadata (146 kB)\n",
      "     ---------------------------------------- 0.0/147.0 kB ? eta -:--:--\n",
      "     -- ------------------------------------- 10.2/147.0 kB ? eta -:--:--\n",
      "     ------- ----------------------------- 30.7/147.0 kB 262.6 kB/s eta 0:00:01\n",
      "     ---------- -------------------------- 41.0/147.0 kB 245.8 kB/s eta 0:00:01\n",
      "     ------------------------- ---------- 102.4/147.0 kB 454.0 kB/s eta 0:00:01\n",
      "     ------------------------------------ 147.0/147.0 kB 547.0 kB/s eta 0:00:00\n",
      "Requirement already satisfied: annotated-types>=0.6.0 in c:\\users\\massa\\anaconda3\\lib\\site-packages (from pydantic==2.9.1) (0.6.0)\n",
      "Collecting pydantic-core==2.23.3 (from pydantic==2.9.1)\n",
      "  Downloading pydantic_core-2.23.3-cp311-none-win_amd64.whl.metadata (6.7 kB)\n",
      "Requirement already satisfied: typing-extensions>=4.6.1 in c:\\users\\massa\\anaconda3\\lib\\site-packages (from pydantic==2.9.1) (4.12.2)\n",
      "Downloading pydantic-2.9.1-py3-none-any.whl (434 kB)\n",
      "   ---------------------------------------- 0.0/434.4 kB ? eta -:--:--\n",
      "   --------------------------------------- 434.4/434.4 kB 26.5 MB/s eta 0:00:00\n",
      "Downloading pydantic_core-2.23.3-cp311-none-win_amd64.whl (1.9 MB)\n",
      "   ---------------------------------------- 0.0/1.9 MB ? eta -:--:--\n",
      "   -------------------------- ------------- 1.2/1.9 MB 40.0 MB/s eta 0:00:01\n",
      "   ---------------------------------------  1.9/1.9 MB 40.5 MB/s eta 0:00:01\n",
      "   ---------------------------------------  1.9/1.9 MB 40.5 MB/s eta 0:00:01\n",
      "   ---------------------------------------- 1.9/1.9 MB 13.5 MB/s eta 0:00:00\n",
      "Installing collected packages: pydantic-core, pydantic\n",
      "  Attempting uninstall: pydantic-core\n",
      "    Found existing installation: pydantic_core 2.23.4\n",
      "    Uninstalling pydantic_core-2.23.4:\n",
      "      Successfully uninstalled pydantic_core-2.23.4\n",
      "  Attempting uninstall: pydantic\n",
      "    Found existing installation: pydantic 2.10.3\n",
      "    Uninstalling pydantic-2.10.3:\n",
      "      Successfully uninstalled pydantic-2.10.3\n",
      "Successfully installed pydantic-2.9.1 pydantic-core-2.23.3\n",
      "Note: you may need to restart the kernel to use updated packages.\n"
     ]
    }
   ],
   "source": [
    "%pip install pydantic==2.9.1"
   ]
  },
  {
   "cell_type": "code",
   "execution_count": 1,
   "metadata": {},
   "outputs": [
    {
     "name": "stdout",
     "output_type": "stream",
     "text": [
      "AerSimulator('aer_simulator')\n"
     ]
    }
   ],
   "source": [
    "from qiskit_aer import Aer\n",
    "simulator = Aer.get_backend('aer_simulator')\n",
    "print(simulator)"
   ]
  },
  {
   "cell_type": "code",
   "execution_count": 9,
   "metadata": {},
   "outputs": [
    {
     "name": "stdout",
     "output_type": "stream",
     "text": [
      "Requirement already satisfied: fuzzytm in c:\\users\\massa\\anaconda3\\lib\\site-packages (2.0.9)\n",
      "Requirement already satisfied: requests-mock in c:\\users\\massa\\anaconda3\\lib\\site-packages (1.12.1)\n",
      "Requirement already satisfied: clyent==1.2.1 in c:\\users\\massa\\anaconda3\\lib\\site-packages (1.2.1)\n",
      "Collecting urllib3<2.1\n",
      "  Downloading urllib3-2.0.7-py3-none-any.whl.metadata (6.6 kB)\n",
      "Requirement already satisfied: numpy in c:\\users\\massa\\anaconda3\\lib\\site-packages (from fuzzytm) (1.24.4)\n",
      "Requirement already satisfied: pandas in c:\\users\\massa\\anaconda3\\lib\\site-packages (from fuzzytm) (1.5.3)\n",
      "Requirement already satisfied: scipy in c:\\users\\massa\\anaconda3\\lib\\site-packages (from fuzzytm) (1.10.1)\n",
      "Requirement already satisfied: pyfume in c:\\users\\massa\\anaconda3\\lib\\site-packages (from fuzzytm) (0.3.4)\n",
      "Requirement already satisfied: requests<3,>=2.22 in c:\\users\\massa\\anaconda3\\lib\\site-packages (from requests-mock) (2.32.3)\n",
      "Requirement already satisfied: charset-normalizer<4,>=2 in c:\\users\\massa\\anaconda3\\lib\\site-packages (from requests<3,>=2.22->requests-mock) (2.0.4)\n",
      "Requirement already satisfied: idna<4,>=2.5 in c:\\users\\massa\\anaconda3\\lib\\site-packages (from requests<3,>=2.22->requests-mock) (3.4)\n",
      "Requirement already satisfied: certifi>=2017.4.17 in c:\\users\\massa\\anaconda3\\lib\\site-packages (from requests<3,>=2.22->requests-mock) (2025.1.31)\n",
      "Requirement already satisfied: python-dateutil>=2.8.1 in c:\\users\\massa\\anaconda3\\lib\\site-packages (from pandas->fuzzytm) (2.8.2)\n",
      "Requirement already satisfied: pytz>=2020.1 in c:\\users\\massa\\anaconda3\\lib\\site-packages (from pandas->fuzzytm) (2023.3.post1)\n",
      "Requirement already satisfied: simpful==2.12.0 in c:\\users\\massa\\anaconda3\\lib\\site-packages (from pyfume->fuzzytm) (2.12.0)\n",
      "Requirement already satisfied: fst-pso==1.8.1 in c:\\users\\massa\\anaconda3\\lib\\site-packages (from pyfume->fuzzytm) (1.8.1)\n",
      "Requirement already satisfied: miniful in c:\\users\\massa\\anaconda3\\lib\\site-packages (from fst-pso==1.8.1->pyfume->fuzzytm) (0.0.6)\n",
      "Requirement already satisfied: six>=1.5 in c:\\users\\massa\\anaconda3\\lib\\site-packages (from python-dateutil>=2.8.1->pandas->fuzzytm) (1.16.0)\n",
      "Downloading urllib3-2.0.7-py3-none-any.whl (124 kB)\n",
      "   ---------------------------------------- 0.0/124.2 kB ? eta -:--:--\n",
      "   --- ------------------------------------ 10.2/124.2 kB ? eta -:--:--\n",
      "   --- ------------------------------------ 10.2/124.2 kB ? eta -:--:--\n",
      "   ------------ -------------------------- 41.0/124.2 kB 326.8 kB/s eta 0:00:01\n",
      "   -------------------------------------  122.9/124.2 kB 798.9 kB/s eta 0:00:01\n",
      "   -------------------------------------- 124.2/124.2 kB 725.9 kB/s eta 0:00:00\n",
      "Installing collected packages: urllib3\n",
      "  Attempting uninstall: urllib3\n",
      "    Found existing installation: urllib3 2.3.0\n",
      "    Uninstalling urllib3-2.3.0:\n",
      "      Successfully uninstalled urllib3-2.3.0\n",
      "Successfully installed urllib3-2.0.7\n",
      "Note: you may need to restart the kernel to use updated packages.\n"
     ]
    },
    {
     "name": "stderr",
     "output_type": "stream",
     "text": [
      "ERROR: pip's dependency resolver does not currently take into account all the packages that are installed. This behaviour is the source of the following dependency conflicts.\n",
      "ibm-cloud-sdk-core 3.23.0 requires urllib3<3.0.0,>=2.1.0, but you have urllib3 2.0.7 which is incompatible.\n"
     ]
    }
   ],
   "source": [
    "%pip install fuzzytm requests-mock clyent==1.2.1 \"urllib3<2.1\"\n"
   ]
  },
  {
   "cell_type": "code",
   "execution_count": 1,
   "metadata": {},
   "outputs": [
    {
     "name": "stdout",
     "output_type": "stream",
     "text": [
      "conda-repo-cli 1.0.75 has requirement requests==2.31.0, but you have requests 2.32.3.\n",
      "ibm-cloud-sdk-core 3.23.0 has requirement urllib3<3.0.0,>=2.1.0, but you have urllib3 2.0.7.\n",
      "Note: you may need to restart the kernel to use updated packages.\n"
     ]
    }
   ],
   "source": [
    "%pip check"
   ]
  },
  {
   "cell_type": "code",
   "execution_count": null,
   "metadata": {},
   "outputs": [
    {
     "name": "stdout",
     "output_type": "stream",
     "text": [
      "Collecting fuzzytm\n",
      "  Downloading FuzzyTM-2.0.9-py3-none-any.whl.metadata (7.9 kB)\n",
      "Requirement already satisfied: numpy in c:\\users\\massa\\anaconda3\\lib\\site-packages (from fuzzytm) (1.26.4)\n",
      "Requirement already satisfied: pandas in c:\\users\\massa\\anaconda3\\lib\\site-packages (from fuzzytm) (2.1.4)\n",
      "Requirement already satisfied: scipy in c:\\users\\massa\\anaconda3\\lib\\site-packages (from fuzzytm) (1.11.4)\n",
      "Collecting pyfume (from fuzzytm)\n",
      "  Downloading pyFUME-0.3.4-py3-none-any.whl.metadata (9.7 kB)\n",
      "Requirement already satisfied: python-dateutil>=2.8.2 in c:\\users\\massa\\anaconda3\\lib\\site-packages (from pandas->fuzzytm) (2.8.2)\n",
      "Requirement already satisfied: pytz>=2020.1 in c:\\users\\massa\\anaconda3\\lib\\site-packages (from pandas->fuzzytm) (2023.3.post1)\n",
      "Requirement already satisfied: tzdata>=2022.1 in c:\\users\\massa\\anaconda3\\lib\\site-packages (from pandas->fuzzytm) (2023.3)\n",
      "Collecting scipy (from fuzzytm)\n",
      "  Downloading scipy-1.10.1-cp311-cp311-win_amd64.whl.metadata (58 kB)\n",
      "     ---------------------------------------- 0.0/59.0 kB ? eta -:--:--\n",
      "     ------ --------------------------------- 10.2/59.0 kB ? eta -:--:--\n",
      "     ------------------- ------------------ 30.7/59.0 kB 435.7 kB/s eta 0:00:01\n",
      "     -------------------------------------- 59.0/59.0 kB 447.1 kB/s eta 0:00:00\n",
      "Collecting numpy (from fuzzytm)\n",
      "  Downloading numpy-1.24.4-cp311-cp311-win_amd64.whl.metadata (5.6 kB)\n",
      "Collecting simpful==2.12.0 (from pyfume->fuzzytm)\n",
      "  Downloading simpful-2.12.0-py3-none-any.whl.metadata (4.8 kB)\n",
      "Collecting fst-pso==1.8.1 (from pyfume->fuzzytm)\n",
      "  Downloading fst-pso-1.8.1.tar.gz (18 kB)\n",
      "  Preparing metadata (setup.py): started\n",
      "  Preparing metadata (setup.py): finished with status 'done'\n",
      "Collecting pandas (from fuzzytm)\n",
      "  Downloading pandas-1.5.3-cp311-cp311-win_amd64.whl.metadata (12 kB)\n",
      "Collecting miniful (from fst-pso==1.8.1->pyfume->fuzzytm)\n",
      "  Downloading miniful-0.0.6.tar.gz (2.8 kB)\n",
      "  Preparing metadata (setup.py): started\n",
      "  Preparing metadata (setup.py): finished with status 'done'\n",
      "Requirement already satisfied: six>=1.5 in c:\\users\\massa\\anaconda3\\lib\\site-packages (from python-dateutil>=2.8.2->pandas->fuzzytm) (1.16.0)\n",
      "Downloading FuzzyTM-2.0.9-py3-none-any.whl (31 kB)\n",
      "Downloading pyFUME-0.3.4-py3-none-any.whl (60 kB)\n",
      "   ---------------------------------------- 0.0/60.3 kB ? eta -:--:--\n",
      "   ---------------------------------------- 60.3/60.3 kB 3.1 MB/s eta 0:00:00\n",
      "Downloading numpy-1.24.4-cp311-cp311-win_amd64.whl (14.8 MB)\n",
      "   ---------------------------------------- 0.0/14.8 MB ? eta -:--:--\n",
      "   ------ --------------------------------- 2.5/14.8 MB 81.9 MB/s eta 0:00:01\n",
      "   ---------------- ----------------------- 6.0/14.8 MB 77.1 MB/s eta 0:00:01\n",
      "   ------------------- -------------------- 7.4/14.8 MB 58.7 MB/s eta 0:00:01\n",
      "   ------------------------ --------------- 9.0/14.8 MB 52.4 MB/s eta 0:00:01\n",
      "   ----------------------------- ---------- 11.1/14.8 MB 50.4 MB/s eta 0:00:01\n",
      "   ---------------------------------------  14.8/14.8 MB 54.7 MB/s eta 0:00:01\n",
      "   ---------------------------------------  14.8/14.8 MB 54.7 MB/s eta 0:00:01\n",
      "   ---------------------------------------- 14.8/14.8 MB 40.9 MB/s eta 0:00:00\n",
      "Downloading pandas-1.5.3-cp311-cp311-win_amd64.whl (10.3 MB)\n",
      "   ---------------------------------------- 0.0/10.3 MB ? eta -:--:--\n",
      "   -------------- ------------------------- 3.6/10.3 MB 77.3 MB/s eta 0:00:01\n",
      "   ------------------------------------ --- 9.3/10.3 MB 100.1 MB/s eta 0:00:01\n",
      "   ---------------------------------------  10.3/10.3 MB 131.2 MB/s eta 0:00:01\n",
      "   ---------------------------------------  10.3/10.3 MB 131.2 MB/s eta 0:00:01\n",
      "   ---------------------------------------- 10.3/10.3 MB 46.7 MB/s eta 0:00:00\n",
      "Downloading scipy-1.10.1-cp311-cp311-win_amd64.whl (42.2 MB)\n",
      "   ---------------------------------------- 0.0/42.2 MB ? eta -:--:--\n",
      "   - -------------------------------------- 1.1/42.2 MB 23.3 MB/s eta 0:00:02\n",
      "   -- ------------------------------------- 2.6/42.2 MB 27.8 MB/s eta 0:00:02\n",
      "   ---- ----------------------------------- 4.5/42.2 MB 32.0 MB/s eta 0:00:02\n",
      "   ----- ---------------------------------- 5.7/42.2 MB 33.0 MB/s eta 0:00:02\n",
      "   ------ --------------------------------- 7.0/42.2 MB 31.9 MB/s eta 0:00:02\n",
      "   ------- -------------------------------- 8.4/42.2 MB 31.5 MB/s eta 0:00:02\n",
      "   --------- ------------------------------ 10.1/42.2 MB 32.1 MB/s eta 0:00:02\n",
      "   ----------- ---------------------------- 11.7/42.2 MB 32.7 MB/s eta 0:00:01\n",
      "   ------------- -------------------------- 14.3/42.2 MB 36.3 MB/s eta 0:00:01\n",
      "   ----------------- ---------------------- 18.3/42.2 MB 50.4 MB/s eta 0:00:01\n",
      "   ---------------------- ----------------- 23.3/42.2 MB 93.9 MB/s eta 0:00:01\n",
      "   ------------------------- -------------- 27.5/42.2 MB 93.9 MB/s eta 0:00:01\n",
      "   ------------------------------ --------- 32.7/42.2 MB 93.9 MB/s eta 0:00:01\n",
      "   ----------------------------------- ---- 37.6/42.2 MB 108.8 MB/s eta 0:00:01\n",
      "   ---------------------------------------  42.0/42.2 MB 108.8 MB/s eta 0:00:01\n",
      "   ---------------------------------------  42.2/42.2 MB 108.8 MB/s eta 0:00:01\n",
      "   ---------------------------------------  42.2/42.2 MB 108.8 MB/s eta 0:00:01\n",
      "   ---------------------------------------  42.2/42.2 MB 108.8 MB/s eta 0:00:01\n",
      "   ---------------------------------------- 42.2/42.2 MB 36.3 MB/s eta 0:00:00\n",
      "Downloading simpful-2.12.0-py3-none-any.whl (24 kB)\n",
      "Building wheels for collected packages: fst-pso, miniful\n",
      "  Building wheel for fst-pso (setup.py): started\n",
      "  Building wheel for fst-pso (setup.py): finished with status 'done'\n",
      "  Created wheel for fst-pso: filename=fst_pso-1.8.1-py3-none-any.whl size=20451 sha256=f0f293d81e849eff79dc2bfcaf704ecaf03727b8a5534d7157dbe15d361f4f25\n",
      "  Stored in directory: c:\\users\\massa\\appdata\\local\\pip\\cache\\wheels\\69\\f5\\e5\\18ad53fe1ed6b2af9fad05ec052e4acbac8e92441df44bad2e\n",
      "  Building wheel for miniful (setup.py): started\n",
      "  Building wheel for miniful (setup.py): finished with status 'done'\n",
      "  Created wheel for miniful: filename=miniful-0.0.6-py3-none-any.whl size=3517 sha256=97b2d857c4411cc6bcf3f5b662a8897f01b326a5320432e8de2e917209e5c787\n",
      "  Stored in directory: c:\\users\\massa\\appdata\\local\\pip\\cache\\wheels\\9d\\ff\\2f\\afe4cd56f47de147407705626517d68bea0f3b74eb1fb168e6\n",
      "Successfully built fst-pso miniful\n",
      "Installing collected packages: numpy, scipy, pandas, simpful, miniful, fst-pso, pyfume, fuzzytm\n",
      "  Attempting uninstall: numpy\n",
      "    Found existing installation: numpy 1.26.4\n",
      "    Uninstalling numpy-1.26.4:\n",
      "      Successfully uninstalled numpy-1.26.4\n",
      "  Attempting uninstall: scipy\n",
      "    Found existing installation: scipy 1.11.4\n",
      "    Uninstalling scipy-1.11.4:\n",
      "      Successfully uninstalled scipy-1.11.4\n",
      "  Attempting uninstall: pandas\n",
      "    Found existing installation: pandas 2.1.4\n",
      "    Uninstalling pandas-2.1.4:\n",
      "      Successfully uninstalled pandas-2.1.4\n",
      "Successfully installed fst-pso-1.8.1 fuzzytm-2.0.9 miniful-0.0.6 numpy-1.24.4 pandas-1.5.3 pyfume-0.3.4 scipy-1.10.1 simpful-2.12.0\n",
      "Note: you may need to restart the kernel to use updated packages.\n"
     ]
    },
    {
     "name": "stderr",
     "output_type": "stream",
     "text": [
      "  WARNING: Failed to remove contents in a temporary directory 'C:\\Users\\massa\\AppData\\Local\\Temp\\pip-uninstall-q6owq1wd'.\n",
      "  You can safely remove it manually.\n",
      "  WARNING: Failed to remove contents in a temporary directory 'C:\\Users\\massa\\anaconda3\\Lib\\site-packages\\~cipy'.\n",
      "  You can safely remove it manually.\n"
     ]
    }
   ],
   "source": [
    "%pip install fuzzytm"
   ]
  },
  {
   "cell_type": "code",
   "execution_count": 7,
   "metadata": {},
   "outputs": [
    {
     "name": "stdout",
     "output_type": "stream",
     "text": [
      "Requirement already satisfied: requests-mock in c:\\users\\massa\\anaconda3\\lib\\site-packages (1.12.1)\n",
      "Requirement already satisfied: clyent==1.2.1 in c:\\users\\massa\\anaconda3\\lib\\site-packages (1.2.1)\n",
      "Requirement already satisfied: requests<3,>=2.22 in c:\\users\\massa\\anaconda3\\lib\\site-packages (from requests-mock) (2.32.3)\n",
      "Requirement already satisfied: charset-normalizer<4,>=2 in c:\\users\\massa\\anaconda3\\lib\\site-packages (from requests<3,>=2.22->requests-mock) (2.0.4)\n",
      "Requirement already satisfied: idna<4,>=2.5 in c:\\users\\massa\\anaconda3\\lib\\site-packages (from requests<3,>=2.22->requests-mock) (3.4)\n",
      "Requirement already satisfied: urllib3<3,>=1.21.1 in c:\\users\\massa\\anaconda3\\lib\\site-packages (from requests<3,>=2.22->requests-mock) (2.3.0)\n",
      "Requirement already satisfied: certifi>=2017.4.17 in c:\\users\\massa\\anaconda3\\lib\\site-packages (from requests<3,>=2.22->requests-mock) (2025.1.31)\n",
      "Note: you may need to restart the kernel to use updated packages.\n"
     ]
    }
   ],
   "source": [
    "%pip install requests-mock clyent==1.2.1"
   ]
  },
  {
   "cell_type": "code",
   "execution_count": 6,
   "metadata": {},
   "outputs": [
    {
     "name": "stdout",
     "output_type": "stream",
     "text": [
      "E(a, b)     = 0.7136\n",
      "E(a, b')    = -0.7230\n",
      "E(a', b)    = 0.7090\n",
      "E(a', b')   = 0.7218\n",
      "S (total)   = 2.8674\n"
     ]
    }
   ],
   "source": [
    "from qiskit import QuantumCircuit, transpile\n",
    "from qiskit_aer import AerSimulator\n",
    "import numpy as np\n",
    "\n",
    "# Criar estado de Bell |ψ-⟩\n",
    "def criar_bell_state():\n",
    "    qc = QuantumCircuit(2, 2)\n",
    "    qc.h(0)\n",
    "    qc.cx(0, 1)\n",
    "    return qc\n",
    "\n",
    "# Aplicar medição em ângulo θ\n",
    "def aplicar_medida_em_angulo(qc, qubit, theta):\n",
    "    qc.ry(-2 * theta, qubit)\n",
    "\n",
    "# Medir correlação\n",
    "def medir_correlacao(theta_a, theta_b):\n",
    "    qc = criar_bell_state()\n",
    "    aplicar_medida_em_angulo(qc, 0, theta_a)\n",
    "    aplicar_medida_em_angulo(qc, 1, theta_b)\n",
    "    qc.measure(0, 0)\n",
    "    qc.measure(1, 1)\n",
    "\n",
    "    simulator = AerSimulator()\n",
    "    compiled = transpile(qc, simulator)\n",
    "    result = simulator.run(compiled, shots=10000).result()\n",
    "    counts = result.get_counts()\n",
    "\n",
    "    total = sum(counts.values())\n",
    "    p00 = counts.get('00', 0) / total\n",
    "    p11 = counts.get('11', 0) / total\n",
    "    p01 = counts.get('01', 0) / total\n",
    "    p10 = counts.get('10', 0) / total\n",
    "    E = p00 + p11 - p01 - p10\n",
    "    return E\n",
    "\n",
    "# Ângulos\n",
    "a = 0\n",
    "a_ = np.pi / 4\n",
    "b = np.pi / 8\n",
    "b_ = 3 * np.pi / 8\n",
    "\n",
    "# Medidas\n",
    "E_ab = medir_correlacao(a, b)\n",
    "E_ab_ = medir_correlacao(a, b_)\n",
    "E_a_b = medir_correlacao(a_, b)\n",
    "E_a_b_ = medir_correlacao(a_, b_)\n",
    "\n",
    "# Cálculo de S\n",
    "S = abs(E_ab - E_ab_) + abs(E_a_b + E_a_b_)\n",
    "\n",
    "# Exibir resultados\n",
    "print(f\"E(a, b)     = {E_ab:.4f}\")\n",
    "print(f\"E(a, b')    = {E_ab_:.4f}\")\n",
    "print(f\"E(a', b)    = {E_a_b:.4f}\")\n",
    "print(f\"E(a', b')   = {E_a_b_:.4f}\")\n",
    "print(f\"S (total)   = {S:.4f}\")\n"
   ]
  },
  {
   "cell_type": "code",
   "execution_count": 7,
   "metadata": {},
   "outputs": [
    {
     "data": {
      "image/png": "[encoded data removed]",
      "text/plain": [
       "<Figure size 800x500 with 1 Axes>"
      ]
     },
     "metadata": {},
     "output_type": "display_data"
    }
   ],
   "source": [
    "import matplotlib.pyplot as plt\n",
    "\n",
    "# Redefinir os dados de correlação simulada manualmente (valores típicos)\n",
    "E_ab   = -np.cos(0 - np.pi/8)\n",
    "E_ab_  = -np.cos(0 - 3*np.pi/8)\n",
    "E_a_b  = -np.cos(np.pi/4 - np.pi/8)\n",
    "E_a_b_ = -np.cos(np.pi/4 - 3*np.pi/8)\n",
    "\n",
    "labels = [\"E(a,b)\", \"E(a,b')\", \"E(a',b)\", \"E(a',b')\"]\n",
    "valores = [E_ab, E_ab_, E_a_b, E_a_b_]\n",
    "\n",
    "# Criar gráfico de barras\n",
    "plt.figure(figsize=(8, 5))\n",
    "bars = plt.bar(labels, valores, color='royalblue')\n",
    "\n",
    "# Adicionar rótulos de valor\n",
    "for bar in bars:\n",
    "    yval = bar.get_height()\n",
    "    plt.text(bar.get_x() + bar.get_width()/2.0, yval, f'{yval:.2f}', va='bottom', ha='center')\n",
    "\n",
    "# Títulos e eixos\n",
    "plt.title(\"Correlação entre pares de ângulos (Experimento de Bell)\")\n",
    "plt.ylabel(\"Valor de E\")\n",
    "plt.ylim(-1.1, 1.1)\n",
    "plt.grid(axis='y', linestyle='--', alpha=0.7)\n",
    "\n",
    "plt.tight_layout()\n",
    "plt.show()"
   ]
  },
  {
   "cell_type": "code",
   "execution_count": 8,
   "metadata": {},
   "outputs": [
    {
     "data": {
      "image/png": "[encoded data removed]",
      "text/plain": [
       "<Figure size 800x500 with 1 Axes>"
      ]
     },
     "metadata": {},
     "output_type": "display_data"
    }
   ],
   "source": [
    "# Gerar gráfico de S em função de b (com a = 0 e a' = π/4 fixos)\n",
    "a = 0\n",
    "a_ = np.pi / 4\n",
    "b_values = np.linspace(0, np.pi / 2, 100)\n",
    "S_values = []\n",
    "\n",
    "# Calcular S para diferentes valores de b, mantendo b' = b + π/4\n",
    "for b in b_values:\n",
    "    b_ = b + np.pi / 4\n",
    "    E1 = -np.cos(a - b)\n",
    "    E2 = -np.cos(a - b_)\n",
    "    E3 = -np.cos(a_ - b)\n",
    "    E4 = -np.cos(a_ - b_)\n",
    "    S = abs(E1 - E2) + abs(E3 + E4)\n",
    "    S_values.append(S)\n",
    "\n",
    "# Plotar gráfico\n",
    "plt.figure(figsize=(8, 5))\n",
    "plt.plot(b_values * 180 / np.pi, S_values, label='S(b)', color='darkgreen')\n",
    "plt.axhline(y=2, color='red', linestyle='--', label='Limite clássico (S=2)')\n",
    "plt.title(\"Violação da Desigualdade de Bell em função de b (com b' = b + 45°)\")\n",
    "plt.xlabel(\"Ângulo b (graus)\")\n",
    "plt.ylabel(\"S\")\n",
    "plt.legend()\n",
    "plt.grid(True)\n",
    "plt.tight_layout()\n",
    "plt.show()\n"
   ]
  },
  {
   "cell_type": "code",
   "execution_count": 24,
   "metadata": {},
   "outputs": [],
   "source": [
    "def chsh_game(strategy):\n",
    "    # Este é o funcionamento do jogo CHSH com dois jogadores, Alice e Bob.\n",
    "    # Alice e Bob escolhem x e y aleatoriamente entre 0 e 1.\n",
    "\n",
    "    # Escolha aleatória de x e y\n",
    "    x, y = random.randint(0, 1), random.randint(0, 1)\n",
    "\n",
    "    # Use a estratégia fornecida para obter os resultados a e b\n",
    "    a, b = strategy(x, y)\n",
    "\n",
    "    # Decida o resultado do jogo\n",
    "    # O jogador ganha se (a != b) == (x & y)\n",
    "    if (a != b) == (x & y):\n",
    "        return 1  # Win\n",
    "    return 0  # Lose\n"
   ]
  },
  {
   "cell_type": "code",
   "execution_count": 26,
   "metadata": {},
   "outputs": [],
   "source": [
    "def chsh_circuit(x, y):\n",
    "    # Esta função cria um `QuantumCircuit` que implementa a estratégia quântica, a estratégia descrita acima (incluindo a preparação do e-bit).\n",
    "    \n",
    "    qc = QuantumCircuit(2, 2)\n",
    "\n",
    "    # prepare um e-bit\n",
    "    qc.h(0)\n",
    "    qc.cx(0, 1)\n",
    "    qc.barrier()\n",
    "\n",
    "    # Ação de Alice\n",
    "    if x == 0:\n",
    "        qc.ry(0, 0)\n",
    "    else:\n",
    "        qc.ry(-np.pi / 2, 0)\n",
    "    qc.measure(0, 0)\n",
    "\n",
    "    # Ação de Bob\n",
    "    if y == 0:\n",
    "        qc.ry(-np.pi / 4, 1)\n",
    "    else:\n",
    "        qc.ry(np.pi / 4, 1)\n",
    "    qc.measure(1, 1)\n",
    "\n",
    "    return qc\n"
   ]
  },
  {
   "cell_type": "code",
   "execution_count": 27,
   "metadata": {},
   "outputs": [
    {
     "name": "stdout",
     "output_type": "stream",
     "text": [
      "(x,y) = (0,0)\n"
     ]
    },
    {
     "data": {
      "image/png": "[encoded data removed]",
      "text/plain": [
       "<Figure size 621.739x284.278 with 1 Axes>"
      ]
     },
     "metadata": {},
     "output_type": "display_data"
    },
    {
     "name": "stdout",
     "output_type": "stream",
     "text": [
      "(x,y) = (0,1)\n"
     ]
    },
    {
     "data": {
      "image/png": "[encoded data removed]",
      "text/plain": [
       "<Figure size 621.739x284.278 with 1 Axes>"
      ]
     },
     "metadata": {},
     "output_type": "display_data"
    },
    {
     "name": "stdout",
     "output_type": "stream",
     "text": [
      "(x,y) = (1,0)\n"
     ]
    },
    {
     "data": {
      "image/png": "[encoded data removed]",
      "text/plain": [
       "<Figure size 621.739x284.278 with 1 Axes>"
      ]
     },
     "metadata": {},
     "output_type": "display_data"
    },
    {
     "name": "stdout",
     "output_type": "stream",
     "text": [
      "(x,y) = (1,1)\n"
     ]
    },
    {
     "data": {
      "image/png": "[encoded data removed]",
      "text/plain": [
       "<Figure size 621.739x284.278 with 1 Axes>"
      ]
     },
     "metadata": {},
     "output_type": "display_data"
    }
   ],
   "source": [
    "# Desenho dos circuitos para cada combinação de (x,y)\n",
    "\n",
    "print(\"(x,y) = (0,0)\")\n",
    "display(chsh_circuit(0, 0).draw(output=\"mpl\"))\n",
    "\n",
    "print(\"(x,y) = (0,1)\")\n",
    "display(chsh_circuit(0, 1).draw(output=\"mpl\"))\n",
    "\n",
    "print(\"(x,y) = (1,0)\")\n",
    "display(chsh_circuit(1, 0).draw(output=\"mpl\"))\n",
    "\n",
    "print(\"(x,y) = (1,1)\")\n",
    "display(chsh_circuit(1, 1).draw(output=\"mpl\"))\n"
   ]
  },
  {
   "cell_type": "code",
   "execution_count": 35,
   "metadata": {},
   "outputs": [],
   "source": [
    "def quantum_strategy(x, y):\n",
    "    # esta função roda o circuito quântico apropriado para a estratégia quântica\n",
    "    # e retorna os resultados de medição a e b\n",
    "    \n",
    "    # Especifica 'shots=1' para iniciar o circuito\n",
    "    result = AerSimulator().run(chsh_circuit(x, y), shots=1).result()\n",
    "    statistics = result.get_counts()\n",
    "    \n",
    "    # determina os bits de saída e retorna eles\n",
    "    bits = list(statistics.keys())[0]\n",
    "    a, b = int(bits[1]), int(bits[0])\n",
    "\n",
    "    return a, b\n"
   ]
  },
  {
   "cell_type": "code",
   "execution_count": 36,
   "metadata": {},
   "outputs": [],
   "source": [
    "import random"
   ]
  },
  {
   "cell_type": "code",
   "execution_count": 37,
   "metadata": {},
   "outputs": [
    {
     "name": "stdout",
     "output_type": "stream",
     "text": [
      "Fraction of games won: 0.852\n"
     ]
    }
   ],
   "source": [
    "NUM_GAMES = 1000\n",
    "TOTAL_SCORE = 0\n",
    "\n",
    "for _ in range(NUM_GAMES):\n",
    "    TOTAL_SCORE += chsh_game(quantum_strategy)\n",
    "\n",
    "print(\"Fraction of games won:\", TOTAL_SCORE / NUM_GAMES)"
   ]
  },
  {
   "cell_type": "code",
   "execution_count": null,
   "metadata": {},
   "outputs": [],
   "source": [
    "def classical_strategy(x, y):\n",
    "    # Esta função implementa a estratégia clássica para o jogo CHSH.\n",
    "    # A estratégia clássica é simplesmente escolher os bits de saída a e b de acordo com as regras do jogo.\n",
    "    \n",
    "    # Resposta de Alice\n",
    "    if x == 0:\n",
    "        a = 0\n",
    "    elif x == 1:\n",
    "        a = 1\n",
    "\n",
    "    # resposta de Bob\n",
    "    if y == 0:\n",
    "        b = 1\n",
    "    elif y == 1:\n",
    "        b = 0\n",
    "\n",
    "    return a, b\n"
   ]
  },
  {
   "cell_type": "code",
   "execution_count": 39,
   "metadata": {},
   "outputs": [
    {
     "name": "stdout",
     "output_type": "stream",
     "text": [
      "Fraction of games won: 0.738\n"
     ]
    }
   ],
   "source": [
    "NUM_GAMES = 1000\n",
    "TOTAL_SCORE = 0\n",
    "\n",
    "for _ in range(NUM_GAMES):\n",
    "    TOTAL_SCORE += chsh_game(classical_strategy)\n",
    "\n",
    "print(\"Fraction of games won:\", TOTAL_SCORE / NUM_GAMES)\n"
   ]
  }
 ],
 "metadata": {
  "kernelspec": {
   "display_name": "base",
   "language": "python",
   "name": "python3"
  },
  "language_info": {
   "codemirror_mode": {
    "name": "ipython",
    "version": 3
   },
   "file_extension": ".py",
   "mimetype": "text/x-python",
   "name": "python",
   "nbconvert_exporter": "python",
   "pygments_lexer": "ipython3",
   "version": "3.11.7"
  }
 },
 "nbformat": 4,
 "nbformat_minor": 2
}
