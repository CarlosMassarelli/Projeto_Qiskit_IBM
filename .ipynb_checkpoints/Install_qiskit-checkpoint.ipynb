{
 "cells": [
  {
   "cell_type": "markdown",
   "id": "e8975df6-da86-485e-9ddd-70007c314f25",
   "metadata": {},
   "source": [
    "# Trabalhando com qiskit (https://pypi.org/project/qiskit/)"
   ]
  },
  {
   "cell_type": "markdown",
   "id": "cd292e6f-288c-44ae-9285-b68142541a32",
   "metadata": {},
   "source": [
    "## Instalando um simulador"
   ]
  },
  {
   "cell_type": "markdown",
   "id": "f36558bf-a9b5-416d-b6b4-3476f0a3128f",
   "metadata": {},
   "source": [
    "### Para obter mais detalhes sobre como usar o Qiskit, consulte a documentação localizada aqui: \n",
    "### https://docs.quantum.ibm.com/"
   ]
  },
  {
   "cell_type": "markdown",
   "id": "2b8a2bf8-4aa6-47b0-87a2-d0f9c9572db8",
   "metadata": {},
   "source": [
    "### O Qiskit fornece uma camada de abstração que permite aos usuários executar circuitos quânticos em hardware de qualquer fornecedor que forneça uma interface compatível. A melhor maneira de usar o Qiskit é com um ambiente de tempo de execução que fornece implementações otimizadas de Sampler e Estimator para uma determinada plataforma de hardware. Esse tempo de execução pode envolver o uso de pré e pós-processamento, como passagens de transpilador otimizadas com supressão de erros, mitigação de erros e, eventualmente, correção de erros integrada. Implementos e interfaces de tempo de execução. Por exemplo Alguns pacotes que fornecem implementações de uma implementação primitiva de tempo de execução são:qiskit.primitives.BaseSamplerV2qiskit.primitives.BaseEstimatorV2\n",
    "## https://github.com/Qiskit/qiskit-ibm-runtime\n",
    "## O Qiskit também fornece uma interface abstrata de nível inferior para descrever back-ends quânticos. Essa interface, localizada em , define uma classe abstrata que os provedores podem implementar para representar seus hardware ou simuladores para Qiskit. A classe de back-end inclui uma interface comum para executar circuitos nos back-ends; No entanto, nessa interface, cada provedor pode executar diferentes tipos de pré e pós-processamento e resultados de retorno definidos pelo fornecedor. Alguns exemplos de pacotes de provedores publicados que fazem interface com hardware real são:qiskit.providersBackendV2\n",
    "\n",
    "### https://github.com/qiskit-community/qiskit-ionq\n",
    "### https://github.com/qiskit-community/qiskit-aqt-provider\n",
    "### https://github.com/qiskit-community/qiskit-braket-provider\n",
    "### https://github.com/qiskit-community/qiskit-quantinuum-provider\n",
    "### https://github.com/rigetti/qiskit-rigetti\n",
    "### Você pode consultar a documentação desses pacotes para obter mais instruções sobre como obter acesso e usar esses sistemas."
   ]
  },
  {
   "cell_type": "code",
   "execution_count": 1,
   "id": "0c37c07e-ede2-47e4-8fbe-2045ce0f3a11",
   "metadata": {},
   "outputs": [
    {
     "name": "stdout",
     "output_type": "stream",
     "text": [
      "Requirement already satisfied: qiskit in c:\\users\\massa\\anaconda3\\lib\\site-packages (1.4.2)\n",
      "Requirement already satisfied: rustworkx>=0.15.0 in c:\\users\\massa\\anaconda3\\lib\\site-packages (from qiskit) (0.16.0)\n",
      "Requirement already satisfied: numpy<3,>=1.17 in c:\\users\\massa\\anaconda3\\lib\\site-packages (from qiskit) (1.26.4)\n",
      "Requirement already satisfied: scipy>=1.5 in c:\\users\\massa\\anaconda3\\lib\\site-packages (from qiskit) (1.11.4)\n",
      "Requirement already satisfied: sympy>=1.3 in c:\\users\\massa\\anaconda3\\lib\\site-packages (from qiskit) (1.12)\n",
      "Requirement already satisfied: dill>=0.3 in c:\\users\\massa\\anaconda3\\lib\\site-packages (from qiskit) (0.3.7)\n",
      "Requirement already satisfied: python-dateutil>=2.8.0 in c:\\users\\massa\\anaconda3\\lib\\site-packages (from qiskit) (2.8.2)\n",
      "Requirement already satisfied: stevedore>=3.0.0 in c:\\users\\massa\\anaconda3\\lib\\site-packages (from qiskit) (5.4.1)\n",
      "Requirement already satisfied: typing-extensions in c:\\users\\massa\\anaconda3\\lib\\site-packages (from qiskit) (4.9.0)\n",
      "Requirement already satisfied: symengine<0.14,>=0.11 in c:\\users\\massa\\anaconda3\\lib\\site-packages (from qiskit) (0.13.0)\n",
      "Requirement already satisfied: six>=1.5 in c:\\users\\massa\\anaconda3\\lib\\site-packages (from python-dateutil>=2.8.0->qiskit) (1.16.0)\n",
      "Requirement already satisfied: pbr>=2.0.0 in c:\\users\\massa\\anaconda3\\lib\\site-packages (from stevedore>=3.0.0->qiskit) (6.1.1)\n",
      "Requirement already satisfied: mpmath>=0.19 in c:\\users\\massa\\anaconda3\\lib\\site-packages (from sympy>=1.3->qiskit) (1.3.0)\n",
      "Requirement already satisfied: setuptools in c:\\users\\massa\\anaconda3\\lib\\site-packages (from pbr>=2.0.0->stevedore>=3.0.0->qiskit) (68.2.2)\n",
      "Note: you may need to restart the kernel to use updated packages.\n"
     ]
    }
   ],
   "source": [
    "pip install qiskit"
   ]
  },
  {
   "cell_type": "code",
   "execution_count": 2,
   "id": "ed5bee78-a55d-4289-ac6d-9d5635a13583",
   "metadata": {},
   "outputs": [],
   "source": [
    "import numpy as np\n",
    "from qiskit import QuantumCircuit"
   ]
  },
  {
   "cell_type": "code",
   "execution_count": 3,
   "id": "168bdb68-1ac9-40aa-90b7-107e1bca2dad",
   "metadata": {},
   "outputs": [
    {
     "data": {
      "text/plain": [
       "<qiskit.circuit.instructionset.InstructionSet at 0x2b0eb722710>"
      ]
     },
     "execution_count": 3,
     "metadata": {},
     "output_type": "execute_result"
    }
   ],
   "source": [
    "# 1. A quantum circuit for preparing the quantum state |000> + i |111> / √2\n",
    "qc = QuantumCircuit(3)\n",
    "qc.h(0)             # generate superposition\n",
    "qc.p(np.pi / 2, 0)  # add quantum phase\n",
    "qc.cx(0, 1)         # 0th-qubit-Controlled-NOT gate on 1st qubit\n",
    "qc.cx(0, 2)         # 0th-qubit-Controlled-NOT gate on 2nd qubit"
   ]
  },
  {
   "cell_type": "code",
   "execution_count": 4,
   "id": "ec85d194-56a7-43f4-b2ff-6ff409063e15",
   "metadata": {},
   "outputs": [
    {
     "name": "stdout",
     "output_type": "stream",
     "text": [
      " > Expectation values: 4.000623364819192\n"
     ]
    }
   ],
   "source": [
    "# 2. Define the observable to be measured \n",
    "from qiskit.quantum_info import SparsePauliOp\n",
    "operator = SparsePauliOp.from_list([(\"XXY\", 1), (\"XYX\", 1), (\"YXX\", 1), (\"YYY\", -1)])\n",
    "\n",
    "# 3. Execute using the Estimator primitive\n",
    "from qiskit.primitives import StatevectorEstimator\n",
    "estimator = StatevectorEstimator()\n",
    "job = estimator.run([(qc, operator)], precision=1e-3)\n",
    "result = job.result()\n",
    "print(f\" > Expectation values: {result[0].data.evs}\")"
   ]
  },
  {
   "cell_type": "code",
   "execution_count": 5,
   "id": "f5b2eec1-ca28-49ee-ad7d-4602ad3b5079",
   "metadata": {},
   "outputs": [],
   "source": [
    "from qiskit import transpile\n",
    "qc_transpiled = transpile(qc, basis_gates=[\"cz\", \"sx\", \"rz\"], coupling_map=[[0, 1], [1, 2]], optimization_level=3)"
   ]
  },
  {
   "cell_type": "markdown",
   "id": "bd21ee43-da2b-4587-b677-d34ea56ba31f",
   "metadata": {},
   "source": [
    "## Trabalhando com uma máquina quântica da IBM"
   ]
  },
  {
   "cell_type": "markdown",
   "id": "95504d33-619f-4ef5-9966-a63fc03cbfdc",
   "metadata": {},
   "source": [
    "### Instalação\n",
    "### Você pode instalar este pacote usando pip:"
   ]
  },
  {
   "cell_type": "code",
   "execution_count": 6,
   "id": "e456d64f-bde1-435a-95f4-1699893019e5",
   "metadata": {},
   "outputs": [
    {
     "name": "stdout",
     "output_type": "stream",
     "text": [
      "Requirement already satisfied: qiskit-ibm-runtime in c:\\users\\massa\\anaconda3\\lib\\site-packages (0.37.0)\n",
      "Requirement already satisfied: requests>=2.19 in c:\\users\\massa\\anaconda3\\lib\\site-packages (from qiskit-ibm-runtime) (2.31.0)\n",
      "Requirement already satisfied: requests-ntlm>=1.1.0 in c:\\users\\massa\\anaconda3\\lib\\site-packages (from qiskit-ibm-runtime) (1.3.0)\n",
      "Requirement already satisfied: numpy>=1.13 in c:\\users\\massa\\anaconda3\\lib\\site-packages (from qiskit-ibm-runtime) (1.26.4)\n",
      "Requirement already satisfied: urllib3>=1.21.1 in c:\\users\\massa\\anaconda3\\lib\\site-packages (from qiskit-ibm-runtime) (2.3.0)\n",
      "Requirement already satisfied: python-dateutil>=2.8.0 in c:\\users\\massa\\anaconda3\\lib\\site-packages (from qiskit-ibm-runtime) (2.8.2)\n",
      "Requirement already satisfied: websocket-client>=1.5.1 in c:\\users\\massa\\anaconda3\\lib\\site-packages (from qiskit-ibm-runtime) (1.8.0)\n",
      "Requirement already satisfied: ibm-platform-services>=0.22.6 in c:\\users\\massa\\anaconda3\\lib\\site-packages (from qiskit-ibm-runtime) (0.62.0)\n",
      "Requirement already satisfied: pydantic<2.10,>=2.5.0 in c:\\users\\massa\\anaconda3\\lib\\site-packages (from qiskit-ibm-runtime) (2.9.2)\n",
      "Requirement already satisfied: qiskit>=1.4.1 in c:\\users\\massa\\anaconda3\\lib\\site-packages (from qiskit-ibm-runtime) (1.4.2)\n",
      "Requirement already satisfied: packaging in c:\\users\\massa\\anaconda3\\lib\\site-packages (from qiskit-ibm-runtime) (23.1)\n",
      "Requirement already satisfied: ibm_cloud_sdk_core<4.0.0,>=3.22.1 in c:\\users\\massa\\anaconda3\\lib\\site-packages (from ibm-platform-services>=0.22.6->qiskit-ibm-runtime) (3.23.0)\n",
      "Requirement already satisfied: annotated-types>=0.6.0 in c:\\users\\massa\\anaconda3\\lib\\site-packages (from pydantic<2.10,>=2.5.0->qiskit-ibm-runtime) (0.7.0)\n",
      "Requirement already satisfied: pydantic-core==2.23.4 in c:\\users\\massa\\anaconda3\\lib\\site-packages (from pydantic<2.10,>=2.5.0->qiskit-ibm-runtime) (2.23.4)\n",
      "Requirement already satisfied: typing-extensions>=4.6.1 in c:\\users\\massa\\anaconda3\\lib\\site-packages (from pydantic<2.10,>=2.5.0->qiskit-ibm-runtime) (4.9.0)\n",
      "Requirement already satisfied: six>=1.5 in c:\\users\\massa\\anaconda3\\lib\\site-packages (from python-dateutil>=2.8.0->qiskit-ibm-runtime) (1.16.0)\n",
      "Requirement already satisfied: rustworkx>=0.15.0 in c:\\users\\massa\\anaconda3\\lib\\site-packages (from qiskit>=1.4.1->qiskit-ibm-runtime) (0.16.0)\n",
      "Requirement already satisfied: scipy>=1.5 in c:\\users\\massa\\anaconda3\\lib\\site-packages (from qiskit>=1.4.1->qiskit-ibm-runtime) (1.11.4)\n",
      "Requirement already satisfied: sympy>=1.3 in c:\\users\\massa\\anaconda3\\lib\\site-packages (from qiskit>=1.4.1->qiskit-ibm-runtime) (1.12)\n",
      "Requirement already satisfied: dill>=0.3 in c:\\users\\massa\\anaconda3\\lib\\site-packages (from qiskit>=1.4.1->qiskit-ibm-runtime) (0.3.7)\n",
      "Requirement already satisfied: stevedore>=3.0.0 in c:\\users\\massa\\anaconda3\\lib\\site-packages (from qiskit>=1.4.1->qiskit-ibm-runtime) (5.4.1)\n",
      "Requirement already satisfied: symengine<0.14,>=0.11 in c:\\users\\massa\\anaconda3\\lib\\site-packages (from qiskit>=1.4.1->qiskit-ibm-runtime) (0.13.0)\n",
      "Requirement already satisfied: charset-normalizer<4,>=2 in c:\\users\\massa\\anaconda3\\lib\\site-packages (from requests>=2.19->qiskit-ibm-runtime) (2.0.4)\n",
      "Requirement already satisfied: idna<4,>=2.5 in c:\\users\\massa\\anaconda3\\lib\\site-packages (from requests>=2.19->qiskit-ibm-runtime) (3.4)\n",
      "Requirement already satisfied: certifi>=2017.4.17 in c:\\users\\massa\\anaconda3\\lib\\site-packages (from requests>=2.19->qiskit-ibm-runtime) (2024.8.30)\n",
      "Requirement already satisfied: cryptography>=1.3 in c:\\users\\massa\\anaconda3\\lib\\site-packages (from requests-ntlm>=1.1.0->qiskit-ibm-runtime) (42.0.2)\n",
      "Requirement already satisfied: pyspnego>=0.4.0 in c:\\users\\massa\\anaconda3\\lib\\site-packages (from requests-ntlm>=1.1.0->qiskit-ibm-runtime) (0.11.2)\n",
      "Requirement already satisfied: cffi>=1.12 in c:\\users\\massa\\anaconda3\\lib\\site-packages (from cryptography>=1.3->requests-ntlm>=1.1.0->qiskit-ibm-runtime) (1.16.0)\n",
      "Requirement already satisfied: PyJWT<3.0.0,>=2.8.0 in c:\\users\\massa\\anaconda3\\lib\\site-packages (from ibm_cloud_sdk_core<4.0.0,>=3.22.1->ibm-platform-services>=0.22.6->qiskit-ibm-runtime) (2.10.1)\n",
      "Requirement already satisfied: sspilib>=0.1.0 in c:\\users\\massa\\anaconda3\\lib\\site-packages (from pyspnego>=0.4.0->requests-ntlm>=1.1.0->qiskit-ibm-runtime) (0.2.0)\n",
      "Requirement already satisfied: pbr>=2.0.0 in c:\\users\\massa\\anaconda3\\lib\\site-packages (from stevedore>=3.0.0->qiskit>=1.4.1->qiskit-ibm-runtime) (6.1.1)\n",
      "Requirement already satisfied: mpmath>=0.19 in c:\\users\\massa\\anaconda3\\lib\\site-packages (from sympy>=1.3->qiskit>=1.4.1->qiskit-ibm-runtime) (1.3.0)\n",
      "Requirement already satisfied: pycparser in c:\\users\\massa\\anaconda3\\lib\\site-packages (from cffi>=1.12->cryptography>=1.3->requests-ntlm>=1.1.0->qiskit-ibm-runtime) (2.21)\n",
      "Requirement already satisfied: setuptools in c:\\users\\massa\\anaconda3\\lib\\site-packages (from pbr>=2.0.0->stevedore>=3.0.0->qiskit>=1.4.1->qiskit-ibm-runtime) (68.2.2)\n",
      "Note: you may need to restart the kernel to use updated packages.\n"
     ]
    }
   ],
   "source": [
    "pip install qiskit-ibm-runtime"
   ]
  },
  {
   "cell_type": "markdown",
   "id": "f2f61870-55bd-47d6-9b81-f0355bcb3702",
   "metadata": {},
   "source": [
    "## Configuração da conta\n",
    "### Serviço Qiskit Runtime na plataforma IBM Quantum\n",
    "### Você precisará do token da API do IBM Quantum para autenticar com o serviço de tempo de execução:\n",
    "\n",
    "### Crie uma conta do IBM Quantum ou efetue login em sua conta existente visitando a página de login do IBM Quantum.\n",
    "\n",
    "### Copie (e, opcionalmente, regenere) seu token de API a partir da página da sua conta do IBM Quantum."
   ]
  },
  {
   "cell_type": "code",
   "execution_count": 11,
   "id": "88ff9f23-4bfc-4c17-bd76-99348b00cad9",
   "metadata": {},
   "outputs": [
    {
     "name": "stdout",
     "output_type": "stream",
     "text": [
      "Requirement already satisfied: pylatexenc in c:\\users\\massa\\anaconda3\\lib\\site-packages (2.10)\n",
      "Note: you may need to restart the kernel to use updated packages.\n"
     ]
    }
   ],
   "source": [
    "pip install pylatexenc"
   ]
  },
  {
   "cell_type": "code",
   "execution_count": 2,
   "id": "4287c8d5-cf10-46c2-8f1b-300aa66273c5",
   "metadata": {},
   "outputs": [],
   "source": [
    "import qiskit"
   ]
  },
  {
   "cell_type": "code",
   "execution_count": 3,
   "id": "65a009dc-0485-4da6-bd3a-b431b4423d79",
   "metadata": {},
   "outputs": [
    {
     "data": {
      "text/plain": [
       "'1.4.2'"
      ]
     },
     "execution_count": 3,
     "metadata": {},
     "output_type": "execute_result"
    }
   ],
   "source": [
    "qiskit.__version__"
   ]
  },
  {
   "cell_type": "code",
   "execution_count": 18,
   "id": "4e01e987-0864-438d-9424-edc6915d9946",
   "metadata": {},
   "outputs": [
    {
     "ename": "AccountAlreadyExistsError",
     "evalue": "'Named account (default-ibm-quantum) already exists. Set overwrite=True to overwrite.'",
     "output_type": "error",
     "traceback": [
      "\u001b[1;31m---------------------------------------------------------------------------\u001b[0m",
      "\u001b[1;31mAccountAlreadyExistsError\u001b[0m                 Traceback (most recent call last)",
      "Cell \u001b[1;32mIn[18], line 7\u001b[0m\n\u001b[0;32m      1\u001b[0m \u001b[38;5;28;01mfrom\u001b[39;00m \u001b[38;5;21;01mqiskit_ibm_runtime\u001b[39;00m \u001b[38;5;28;01mimport\u001b[39;00m QiskitRuntimeService\n\u001b[0;32m      3\u001b[0m \u001b[38;5;66;03m# Save an IBM Cloud account.\u001b[39;00m\n\u001b[0;32m      4\u001b[0m \u001b[38;5;66;03m# QiskitRuntimeService.save_account(channel=\"ibm_cloud\", token=\"MY_IBM_CLOUD_API_KEY\", instance=\"MY_IBM_CLOUD_CRN\")\u001b[39;00m\n\u001b[0;32m      5\u001b[0m \n\u001b[0;32m      6\u001b[0m \u001b[38;5;66;03m# Save an IBM Quantum account.\u001b[39;00m\n\u001b[1;32m----> 7\u001b[0m service \u001b[38;5;241m=\u001b[39m QiskitRuntimeService\u001b[38;5;241m.\u001b[39msave_account(channel\u001b[38;5;241m=\u001b[39m\u001b[38;5;124m\"\u001b[39m\u001b[38;5;124mibm_quantum\u001b[39m\u001b[38;5;124m\"\u001b[39m, \u001b[38;5;66;03m# ibm_cloud\u001b[39;00m\n\u001b[0;32m      8\u001b[0m                                             token\u001b[38;5;241m=\u001b[39m\u001b[38;5;124m\"\u001b[39m\u001b[38;5;124m0023014b4039d87425ca4035ff0f3e64ae9774d9d451b073aaaefea5143ccd3b747f9b91fa18cbe5bb32496d505f1092beec5a03231f600f419ee89295916176\u001b[39m\u001b[38;5;124m\"\u001b[39m)\n",
      "File \u001b[1;32m~\\anaconda3\\Lib\\site-packages\\qiskit_ibm_runtime\\qiskit_runtime_service.py:678\u001b[0m, in \u001b[0;36mQiskitRuntimeService.save_account\u001b[1;34m(token, url, instance, channel, filename, name, proxies, verify, overwrite, set_as_default, private_endpoint)\u001b[0m\n\u001b[0;32m    641\u001b[0m \u001b[38;5;129m@staticmethod\u001b[39m\n\u001b[0;32m    642\u001b[0m \u001b[38;5;28;01mdef\u001b[39;00m \u001b[38;5;21msave_account\u001b[39m(\n\u001b[0;32m    643\u001b[0m     token: Optional[\u001b[38;5;28mstr\u001b[39m] \u001b[38;5;241m=\u001b[39m \u001b[38;5;28;01mNone\u001b[39;00m,\n\u001b[1;32m   (...)\u001b[0m\n\u001b[0;32m    653\u001b[0m     private_endpoint: Optional[\u001b[38;5;28mbool\u001b[39m] \u001b[38;5;241m=\u001b[39m \u001b[38;5;28;01mFalse\u001b[39;00m,\n\u001b[0;32m    654\u001b[0m ) \u001b[38;5;241m-\u001b[39m\u001b[38;5;241m>\u001b[39m \u001b[38;5;28;01mNone\u001b[39;00m:\n\u001b[0;32m    655\u001b[0m \u001b[38;5;250m    \u001b[39m\u001b[38;5;124;03m\"\"\"Save the account to disk for future use.\u001b[39;00m\n\u001b[0;32m    656\u001b[0m \n\u001b[0;32m    657\u001b[0m \u001b[38;5;124;03m    Args:\u001b[39;00m\n\u001b[1;32m   (...)\u001b[0m\n\u001b[0;32m    675\u001b[0m \u001b[38;5;124;03m        private_endpoint: Connect to private API URL.\u001b[39;00m\n\u001b[0;32m    676\u001b[0m \u001b[38;5;124;03m    \"\"\"\u001b[39;00m\n\u001b[1;32m--> 678\u001b[0m     AccountManager\u001b[38;5;241m.\u001b[39msave(\n\u001b[0;32m    679\u001b[0m         token\u001b[38;5;241m=\u001b[39mtoken,\n\u001b[0;32m    680\u001b[0m         url\u001b[38;5;241m=\u001b[39murl,\n\u001b[0;32m    681\u001b[0m         instance\u001b[38;5;241m=\u001b[39minstance,\n\u001b[0;32m    682\u001b[0m         channel\u001b[38;5;241m=\u001b[39mchannel,\n\u001b[0;32m    683\u001b[0m         filename\u001b[38;5;241m=\u001b[39mfilename,\n\u001b[0;32m    684\u001b[0m         name\u001b[38;5;241m=\u001b[39mname,\n\u001b[0;32m    685\u001b[0m         proxies\u001b[38;5;241m=\u001b[39mProxyConfiguration(\u001b[38;5;241m*\u001b[39m\u001b[38;5;241m*\u001b[39mproxies) \u001b[38;5;28;01mif\u001b[39;00m proxies \u001b[38;5;28;01melse\u001b[39;00m \u001b[38;5;28;01mNone\u001b[39;00m,\n\u001b[0;32m    686\u001b[0m         verify\u001b[38;5;241m=\u001b[39mverify,\n\u001b[0;32m    687\u001b[0m         overwrite\u001b[38;5;241m=\u001b[39moverwrite,\n\u001b[0;32m    688\u001b[0m         set_as_default\u001b[38;5;241m=\u001b[39mset_as_default,\n\u001b[0;32m    689\u001b[0m         private_endpoint\u001b[38;5;241m=\u001b[39mprivate_endpoint,\n\u001b[0;32m    690\u001b[0m     )\n",
      "File \u001b[1;32m~\\anaconda3\\Lib\\site-packages\\qiskit_ibm_runtime\\accounts\\management.py:65\u001b[0m, in \u001b[0;36mAccountManager.save\u001b[1;34m(cls, token, url, instance, channel, filename, name, proxies, verify, overwrite, set_as_default, private_endpoint)\u001b[0m\n\u001b[0;32m     55\u001b[0m filename \u001b[38;5;241m=\u001b[39m os\u001b[38;5;241m.\u001b[39mpath\u001b[38;5;241m.\u001b[39mexpanduser(filename)\n\u001b[0;32m     56\u001b[0m config \u001b[38;5;241m=\u001b[39m Account\u001b[38;5;241m.\u001b[39mcreate_account(\n\u001b[0;32m     57\u001b[0m     channel\u001b[38;5;241m=\u001b[39mchannel,\n\u001b[0;32m     58\u001b[0m     token\u001b[38;5;241m=\u001b[39mtoken,\n\u001b[1;32m   (...)\u001b[0m\n\u001b[0;32m     63\u001b[0m     private_endpoint\u001b[38;5;241m=\u001b[39mprivate_endpoint,\n\u001b[0;32m     64\u001b[0m )\n\u001b[1;32m---> 65\u001b[0m \u001b[38;5;28;01mreturn\u001b[39;00m save_config(\n\u001b[0;32m     66\u001b[0m     filename\u001b[38;5;241m=\u001b[39mfilename,\n\u001b[0;32m     67\u001b[0m     name\u001b[38;5;241m=\u001b[39mname,\n\u001b[0;32m     68\u001b[0m     overwrite\u001b[38;5;241m=\u001b[39moverwrite,\n\u001b[0;32m     69\u001b[0m     config\u001b[38;5;241m=\u001b[39mconfig\n\u001b[0;32m     70\u001b[0m     \u001b[38;5;66;03m# avoid storing invalid accounts\u001b[39;00m\n\u001b[0;32m     71\u001b[0m     \u001b[38;5;241m.\u001b[39mvalidate()\u001b[38;5;241m.\u001b[39mto_saved_format(),\n\u001b[0;32m     72\u001b[0m     set_as_default\u001b[38;5;241m=\u001b[39mset_as_default,\n\u001b[0;32m     73\u001b[0m )\n",
      "File \u001b[1;32m~\\anaconda3\\Lib\\site-packages\\qiskit_ibm_runtime\\accounts\\storage.py:35\u001b[0m, in \u001b[0;36msave_config\u001b[1;34m(filename, name, config, overwrite, set_as_default)\u001b[0m\n\u001b[0;32m     32\u001b[0m     data \u001b[38;5;241m=\u001b[39m json\u001b[38;5;241m.\u001b[39mload(json_in)\n\u001b[0;32m     34\u001b[0m \u001b[38;5;28;01mif\u001b[39;00m data\u001b[38;5;241m.\u001b[39mget(name) \u001b[38;5;129;01mand\u001b[39;00m \u001b[38;5;129;01mnot\u001b[39;00m overwrite:\n\u001b[1;32m---> 35\u001b[0m     \u001b[38;5;28;01mraise\u001b[39;00m AccountAlreadyExistsError(\n\u001b[0;32m     36\u001b[0m         \u001b[38;5;124mf\u001b[39m\u001b[38;5;124m\"\u001b[39m\u001b[38;5;124mNamed account (\u001b[39m\u001b[38;5;132;01m{\u001b[39;00mname\u001b[38;5;132;01m}\u001b[39;00m\u001b[38;5;124m) already exists. \u001b[39m\u001b[38;5;124m\"\u001b[39m \u001b[38;5;124mf\u001b[39m\u001b[38;5;124m\"\u001b[39m\u001b[38;5;124mSet overwrite=True to overwrite.\u001b[39m\u001b[38;5;124m\"\u001b[39m\n\u001b[0;32m     37\u001b[0m     )\n\u001b[0;32m     39\u001b[0m data[name] \u001b[38;5;241m=\u001b[39m config\n\u001b[0;32m     41\u001b[0m \u001b[38;5;66;03m# if set_as_default, but another account is defined as default, user must specify overwrite to change\u001b[39;00m\n\u001b[0;32m     42\u001b[0m \u001b[38;5;66;03m# the default account.\u001b[39;00m\n",
      "\u001b[1;31mAccountAlreadyExistsError\u001b[0m: 'Named account (default-ibm-quantum) already exists. Set overwrite=True to overwrite.'"
     ]
    }
   ],
   "source": [
    "from qiskit_ibm_runtime import QiskitRuntimeService\n",
    "\n",
    "# Save an IBM Cloud account.\n",
    "# QiskitRuntimeService.save_account(channel=\"ibm_cloud\", token=\"MY_IBM_CLOUD_API_KEY\", instance=\"MY_IBM_CLOUD_CRN\")\n",
    "\n",
    "# Save an IBM Quantum account.\n",
    "service = QiskitRuntimeService.save_account(channel=\"ibm_quantum\", # ibm_cloud\n",
    "                                            token=\"0023014b4039d87425ca4035ff0f3e64ae9774d9d451b073aaaefea5143ccd3b747f9b91fa18cbe5bb32496d505f1092beec5a03231f600f419ee89295916176\")"
   ]
  },
  {
   "cell_type": "code",
   "execution_count": 14,
   "id": "0ff335fb-8c43-4b7f-95a1-d13666fe27ee",
   "metadata": {},
   "outputs": [
    {
     "ename": "AttributeError",
     "evalue": "type object 'QiskitRuntimeService' has no attribute 'save_acoount'",
     "output_type": "error",
     "traceback": [
      "\u001b[1;31m---------------------------------------------------------------------------\u001b[0m",
      "\u001b[1;31mAttributeError\u001b[0m                            Traceback (most recent call last)",
      "Cell \u001b[1;32mIn[14], line 1\u001b[0m\n\u001b[1;32m----> 1\u001b[0m QiskitRuntimeService\u001b[38;5;241m.\u001b[39msave_acoount(channel\u001b[38;5;241m=\u001b[39m\u001b[38;5;124m'\u001b[39m\u001b[38;5;124mibm_quantum\u001b[39m\u001b[38;5;124m'\u001b[39m,\n\u001b[0;32m      2\u001b[0m                                   token \u001b[38;5;241m=\u001b[39m \u001b[38;5;124m'\u001b[39m\u001b[38;5;124m0023014b4039d87425ca4035ff0f3e64ae9774d9d451b073aaaefea5143ccd3b747f9b91fa18cbe5bb32496d505f1092beec5a03231f600f419ee89295916176\u001b[39m\u001b[38;5;124m'\u001b[39m)\n",
      "\u001b[1;31mAttributeError\u001b[0m: type object 'QiskitRuntimeService' has no attribute 'save_acoount'"
     ]
    }
   ],
   "source": [
    "QiskitRuntimeService.save_acoount(channel='ibm_quantum',\n",
    "                                  token = '0023014b4039d87425ca4035ff0f3e64ae9774d9d451b073aaaefea5143ccd3b747f9b91fa18cbe5bb32496d505f1092beec5a03231f600f419ee89295916176')"
   ]
  },
  {
   "cell_type": "code",
   "execution_count": 16,
   "id": "dbc6347c-7df1-4aff-b36f-60d8cabaef78",
   "metadata": {},
   "outputs": [
    {
     "ename": "IBMNotAuthorizedError",
     "evalue": "'401 Client Error: Unauthorized for url: https://auth.quantum.ibm.com/api/users/loginWithToken. Login failed., Error code: 3446.'",
     "output_type": "error",
     "traceback": [
      "\u001b[1;31m---------------------------------------------------------------------------\u001b[0m",
      "\u001b[1;31mHTTPError\u001b[0m                                 Traceback (most recent call last)",
      "File \u001b[1;32m~\\anaconda3\\Lib\\site-packages\\qiskit_ibm_runtime\\api\\session.py:328\u001b[0m, in \u001b[0;36mRetrySession.request\u001b[1;34m(self, method, url, bare, **kwargs)\u001b[0m\n\u001b[0;32m    327\u001b[0m     response \u001b[38;5;241m=\u001b[39m \u001b[38;5;28msuper\u001b[39m()\u001b[38;5;241m.\u001b[39mrequest(method, final_url, headers\u001b[38;5;241m=\u001b[39mheaders, \u001b[38;5;241m*\u001b[39m\u001b[38;5;241m*\u001b[39mkwargs)\n\u001b[1;32m--> 328\u001b[0m     response\u001b[38;5;241m.\u001b[39mraise_for_status()\n\u001b[0;32m    329\u001b[0m \u001b[38;5;28;01mexcept\u001b[39;00m RequestException \u001b[38;5;28;01mas\u001b[39;00m ex:\n\u001b[0;32m    330\u001b[0m     \u001b[38;5;66;03m# Wrap the requests exceptions into a IBM Q custom one, for\u001b[39;00m\n\u001b[0;32m    331\u001b[0m     \u001b[38;5;66;03m# compatibility.\u001b[39;00m\n",
      "File \u001b[1;32m~\\anaconda3\\Lib\\site-packages\\requests\\models.py:1021\u001b[0m, in \u001b[0;36mResponse.raise_for_status\u001b[1;34m(self)\u001b[0m\n\u001b[0;32m   1020\u001b[0m \u001b[38;5;28;01mif\u001b[39;00m http_error_msg:\n\u001b[1;32m-> 1021\u001b[0m     \u001b[38;5;28;01mraise\u001b[39;00m HTTPError(http_error_msg, response\u001b[38;5;241m=\u001b[39m\u001b[38;5;28mself\u001b[39m)\n",
      "\u001b[1;31mHTTPError\u001b[0m: 401 Client Error: Unauthorized for url: https://auth.quantum.ibm.com/api/users/loginWithToken",
      "\nThe above exception was the direct cause of the following exception:\n",
      "\u001b[1;31mIBMNotAuthorizedError\u001b[0m                     Traceback (most recent call last)",
      "Cell \u001b[1;32mIn[16], line 2\u001b[0m\n\u001b[0;32m      1\u001b[0m \u001b[38;5;28;01mfrom\u001b[39;00m \u001b[38;5;21;01mqiskit_ibm_runtime\u001b[39;00m \u001b[38;5;28;01mimport\u001b[39;00m QiskitRuntimeService\n\u001b[1;32m----> 2\u001b[0m service \u001b[38;5;241m=\u001b[39m QiskitRuntimeService()\n",
      "File \u001b[1;32m~\\anaconda3\\Lib\\site-packages\\qiskit_ibm_runtime\\qiskit_runtime_service.py:158\u001b[0m, in \u001b[0;36mQiskitRuntimeService.__init__\u001b[1;34m(self, channel, token, url, filename, name, instance, proxies, verify, private_endpoint, url_resolver)\u001b[0m\n\u001b[0;32m    156\u001b[0m     \u001b[38;5;28mself\u001b[39m\u001b[38;5;241m.\u001b[39m_backend_allowed_list \u001b[38;5;241m=\u001b[39m \u001b[38;5;28mself\u001b[39m\u001b[38;5;241m.\u001b[39m_discover_cloud_backends()\n\u001b[0;32m    157\u001b[0m \u001b[38;5;28;01melse\u001b[39;00m:\n\u001b[1;32m--> 158\u001b[0m     auth_client \u001b[38;5;241m=\u001b[39m \u001b[38;5;28mself\u001b[39m\u001b[38;5;241m.\u001b[39m_authenticate_ibm_quantum_account(\u001b[38;5;28mself\u001b[39m\u001b[38;5;241m.\u001b[39m_client_params)\n\u001b[0;32m    159\u001b[0m     \u001b[38;5;66;03m# Update client parameters to use authenticated values.\u001b[39;00m\n\u001b[0;32m    160\u001b[0m     \u001b[38;5;28mself\u001b[39m\u001b[38;5;241m.\u001b[39m_client_params\u001b[38;5;241m.\u001b[39murl \u001b[38;5;241m=\u001b[39m auth_client\u001b[38;5;241m.\u001b[39mcurrent_service_urls()[\u001b[38;5;124m\"\u001b[39m\u001b[38;5;124mservices\u001b[39m\u001b[38;5;124m\"\u001b[39m][\u001b[38;5;124m\"\u001b[39m\u001b[38;5;124mruntime\u001b[39m\u001b[38;5;124m\"\u001b[39m]\n",
      "File \u001b[1;32m~\\anaconda3\\Lib\\site-packages\\qiskit_ibm_runtime\\qiskit_runtime_service.py:280\u001b[0m, in \u001b[0;36mQiskitRuntimeService._authenticate_ibm_quantum_account\u001b[1;34m(self, client_params)\u001b[0m\n\u001b[0;32m    273\u001b[0m \u001b[38;5;28;01mif\u001b[39;00m \u001b[38;5;129;01mnot\u001b[39;00m version_info[\u001b[38;5;124m\"\u001b[39m\u001b[38;5;124mnew_api\u001b[39m\u001b[38;5;124m\"\u001b[39m] \u001b[38;5;129;01mor\u001b[39;00m \u001b[38;5;124m\"\u001b[39m\u001b[38;5;124mapi-auth\u001b[39m\u001b[38;5;124m\"\u001b[39m \u001b[38;5;129;01mnot\u001b[39;00m \u001b[38;5;129;01min\u001b[39;00m version_info:\n\u001b[0;32m    274\u001b[0m     \u001b[38;5;28;01mraise\u001b[39;00m IBMInputValueError(\n\u001b[0;32m    275\u001b[0m         \u001b[38;5;124m\"\u001b[39m\u001b[38;5;124mThe URL specified (\u001b[39m\u001b[38;5;132;01m{}\u001b[39;00m\u001b[38;5;124m) is not an IBM Quantum authentication URL. \u001b[39m\u001b[38;5;124m\"\u001b[39m\n\u001b[0;32m    276\u001b[0m         \u001b[38;5;124m\"\u001b[39m\u001b[38;5;124mValid authentication URL: \u001b[39m\u001b[38;5;132;01m{}\u001b[39;00m\u001b[38;5;124m.\u001b[39m\u001b[38;5;124m\"\u001b[39m\u001b[38;5;241m.\u001b[39mformat(\n\u001b[0;32m    277\u001b[0m             client_params\u001b[38;5;241m.\u001b[39murl, QISKIT_IBM_RUNTIME_API_URL\n\u001b[0;32m    278\u001b[0m         )\n\u001b[0;32m    279\u001b[0m     )\n\u001b[1;32m--> 280\u001b[0m auth_client \u001b[38;5;241m=\u001b[39m AuthClient(client_params)\n\u001b[0;32m    281\u001b[0m service_urls \u001b[38;5;241m=\u001b[39m auth_client\u001b[38;5;241m.\u001b[39mcurrent_service_urls()\n\u001b[0;32m    282\u001b[0m \u001b[38;5;28;01mif\u001b[39;00m \u001b[38;5;129;01mnot\u001b[39;00m service_urls\u001b[38;5;241m.\u001b[39mget(\u001b[38;5;124m\"\u001b[39m\u001b[38;5;124mservices\u001b[39m\u001b[38;5;124m\"\u001b[39m, {})\u001b[38;5;241m.\u001b[39mget(SERVICE_NAME):\n",
      "File \u001b[1;32m~\\anaconda3\\Lib\\site-packages\\qiskit_ibm_runtime\\api\\clients\\auth.py:39\u001b[0m, in \u001b[0;36mAuthClient.__init__\u001b[1;34m(self, client_params)\u001b[0m\n\u001b[0;32m     36\u001b[0m \u001b[38;5;28mself\u001b[39m\u001b[38;5;241m.\u001b[39m_service_urls \u001b[38;5;241m=\u001b[39m {}  \u001b[38;5;66;03m# type: ignore[var-annotated]\u001b[39;00m\n\u001b[0;32m     38\u001b[0m \u001b[38;5;28mself\u001b[39m\u001b[38;5;241m.\u001b[39mauth_api \u001b[38;5;241m=\u001b[39m Api(RetrySession(\u001b[38;5;28mself\u001b[39m\u001b[38;5;241m.\u001b[39mauth_url, \u001b[38;5;241m*\u001b[39m\u001b[38;5;241m*\u001b[39mclient_params\u001b[38;5;241m.\u001b[39mconnection_parameters()))\n\u001b[1;32m---> 39\u001b[0m \u001b[38;5;28mself\u001b[39m\u001b[38;5;241m.\u001b[39mbase_api \u001b[38;5;241m=\u001b[39m \u001b[38;5;28mself\u001b[39m\u001b[38;5;241m.\u001b[39m_init_service_clients(\u001b[38;5;241m*\u001b[39m\u001b[38;5;241m*\u001b[39mclient_params\u001b[38;5;241m.\u001b[39mconnection_parameters())\n",
      "File \u001b[1;32m~\\anaconda3\\Lib\\site-packages\\qiskit_ibm_runtime\\api\\clients\\auth.py:51\u001b[0m, in \u001b[0;36mAuthClient._init_service_clients\u001b[1;34m(self, **request_kwargs)\u001b[0m\n\u001b[0;32m     42\u001b[0m \u001b[38;5;250m\u001b[39m\u001b[38;5;124;03m\"\"\"Initialize the clients used for communicating with the API.\u001b[39;00m\n\u001b[0;32m     43\u001b[0m \n\u001b[0;32m     44\u001b[0m \u001b[38;5;124;03mArgs:\u001b[39;00m\n\u001b[1;32m   (...)\u001b[0m\n\u001b[0;32m     48\u001b[0m \u001b[38;5;124;03m    Client for the API server.\u001b[39;00m\n\u001b[0;32m     49\u001b[0m \u001b[38;5;124;03m\"\"\"\u001b[39;00m\n\u001b[0;32m     50\u001b[0m \u001b[38;5;66;03m# Request an access token.\u001b[39;00m\n\u001b[1;32m---> 51\u001b[0m \u001b[38;5;28mself\u001b[39m\u001b[38;5;241m.\u001b[39maccess_token \u001b[38;5;241m=\u001b[39m \u001b[38;5;28mself\u001b[39m\u001b[38;5;241m.\u001b[39m_request_access_token()\n\u001b[0;32m     52\u001b[0m \u001b[38;5;28mself\u001b[39m\u001b[38;5;241m.\u001b[39mauth_api\u001b[38;5;241m.\u001b[39msession\u001b[38;5;241m.\u001b[39mauth \u001b[38;5;241m=\u001b[39m QuantumAuth(access_token\u001b[38;5;241m=\u001b[39m\u001b[38;5;28mself\u001b[39m\u001b[38;5;241m.\u001b[39maccess_token)\n\u001b[0;32m     53\u001b[0m \u001b[38;5;28mself\u001b[39m\u001b[38;5;241m.\u001b[39m_service_urls \u001b[38;5;241m=\u001b[39m \u001b[38;5;28mself\u001b[39m\u001b[38;5;241m.\u001b[39muser_urls()\n",
      "File \u001b[1;32m~\\anaconda3\\Lib\\site-packages\\qiskit_ibm_runtime\\api\\clients\\auth.py:77\u001b[0m, in \u001b[0;36mAuthClient._request_access_token\u001b[1;34m(self)\u001b[0m\n\u001b[0;32m     67\u001b[0m \u001b[38;5;250m\u001b[39m\u001b[38;5;124;03m\"\"\"Request a new access token from the API authentication service.\u001b[39;00m\n\u001b[0;32m     68\u001b[0m \n\u001b[0;32m     69\u001b[0m \u001b[38;5;124;03mReturns:\u001b[39;00m\n\u001b[1;32m   (...)\u001b[0m\n\u001b[0;32m     74\u001b[0m \u001b[38;5;124;03m    RequestsApiError: If the request failed.\u001b[39;00m\n\u001b[0;32m     75\u001b[0m \u001b[38;5;124;03m\"\"\"\u001b[39;00m\n\u001b[0;32m     76\u001b[0m \u001b[38;5;28;01mtry\u001b[39;00m:\n\u001b[1;32m---> 77\u001b[0m     response \u001b[38;5;241m=\u001b[39m \u001b[38;5;28mself\u001b[39m\u001b[38;5;241m.\u001b[39mauth_api\u001b[38;5;241m.\u001b[39mlogin(\u001b[38;5;28mself\u001b[39m\u001b[38;5;241m.\u001b[39mapi_token)\n\u001b[0;32m     78\u001b[0m     \u001b[38;5;28;01mreturn\u001b[39;00m response[\u001b[38;5;124m\"\u001b[39m\u001b[38;5;124mid\u001b[39m\u001b[38;5;124m\"\u001b[39m]\n\u001b[0;32m     79\u001b[0m \u001b[38;5;28;01mexcept\u001b[39;00m RequestsApiError \u001b[38;5;28;01mas\u001b[39;00m ex:\n\u001b[0;32m     80\u001b[0m     \u001b[38;5;66;03m# Get the original exception that raised.\u001b[39;00m\n",
      "File \u001b[1;32m~\\anaconda3\\Lib\\site-packages\\qiskit_ibm_runtime\\api\\rest\\root.py:93\u001b[0m, in \u001b[0;36mApi.login\u001b[1;34m(self, api_token)\u001b[0m\n\u001b[0;32m     84\u001b[0m \u001b[38;5;250m\u001b[39m\u001b[38;5;124;03m\"\"\"Login with token.\u001b[39;00m\n\u001b[0;32m     85\u001b[0m \n\u001b[0;32m     86\u001b[0m \u001b[38;5;124;03mArgs:\u001b[39;00m\n\u001b[1;32m   (...)\u001b[0m\n\u001b[0;32m     90\u001b[0m \u001b[38;5;124;03m    JSON response.\u001b[39;00m\n\u001b[0;32m     91\u001b[0m \u001b[38;5;124;03m\"\"\"\u001b[39;00m\n\u001b[0;32m     92\u001b[0m url \u001b[38;5;241m=\u001b[39m \u001b[38;5;28mself\u001b[39m\u001b[38;5;241m.\u001b[39mget_url(\u001b[38;5;124m\"\u001b[39m\u001b[38;5;124mlogin\u001b[39m\u001b[38;5;124m\"\u001b[39m)\n\u001b[1;32m---> 93\u001b[0m \u001b[38;5;28;01mreturn\u001b[39;00m \u001b[38;5;28mself\u001b[39m\u001b[38;5;241m.\u001b[39msession\u001b[38;5;241m.\u001b[39mpost(\n\u001b[0;32m     94\u001b[0m     url, json\u001b[38;5;241m=\u001b[39m{\u001b[38;5;124m\"\u001b[39m\u001b[38;5;124mapiToken\u001b[39m\u001b[38;5;124m\"\u001b[39m: api_token}, headers\u001b[38;5;241m=\u001b[39m\u001b[38;5;28mself\u001b[39m\u001b[38;5;241m.\u001b[39m_HEADER_JSON_CONTENT\n\u001b[0;32m     95\u001b[0m )\u001b[38;5;241m.\u001b[39mjson()\n",
      "File \u001b[1;32m~\\anaconda3\\Lib\\site-packages\\requests\\sessions.py:637\u001b[0m, in \u001b[0;36mSession.post\u001b[1;34m(self, url, data, json, **kwargs)\u001b[0m\n\u001b[0;32m    626\u001b[0m \u001b[38;5;28;01mdef\u001b[39;00m \u001b[38;5;21mpost\u001b[39m(\u001b[38;5;28mself\u001b[39m, url, data\u001b[38;5;241m=\u001b[39m\u001b[38;5;28;01mNone\u001b[39;00m, json\u001b[38;5;241m=\u001b[39m\u001b[38;5;28;01mNone\u001b[39;00m, \u001b[38;5;241m*\u001b[39m\u001b[38;5;241m*\u001b[39mkwargs):\n\u001b[0;32m    627\u001b[0m \u001b[38;5;250m    \u001b[39m\u001b[38;5;124mr\u001b[39m\u001b[38;5;124;03m\"\"\"Sends a POST request. Returns :class:`Response` object.\u001b[39;00m\n\u001b[0;32m    628\u001b[0m \n\u001b[0;32m    629\u001b[0m \u001b[38;5;124;03m    :param url: URL for the new :class:`Request` object.\u001b[39;00m\n\u001b[1;32m   (...)\u001b[0m\n\u001b[0;32m    634\u001b[0m \u001b[38;5;124;03m    :rtype: requests.Response\u001b[39;00m\n\u001b[0;32m    635\u001b[0m \u001b[38;5;124;03m    \"\"\"\u001b[39;00m\n\u001b[1;32m--> 637\u001b[0m     \u001b[38;5;28;01mreturn\u001b[39;00m \u001b[38;5;28mself\u001b[39m\u001b[38;5;241m.\u001b[39mrequest(\u001b[38;5;124m\"\u001b[39m\u001b[38;5;124mPOST\u001b[39m\u001b[38;5;124m\"\u001b[39m, url, data\u001b[38;5;241m=\u001b[39mdata, json\u001b[38;5;241m=\u001b[39mjson, \u001b[38;5;241m*\u001b[39m\u001b[38;5;241m*\u001b[39mkwargs)\n",
      "File \u001b[1;32m~\\anaconda3\\Lib\\site-packages\\qiskit_ibm_runtime\\api\\session.py:349\u001b[0m, in \u001b[0;36mRetrySession.request\u001b[1;34m(self, method, url, bare, **kwargs)\u001b[0m\n\u001b[0;32m    347\u001b[0m         message \u001b[38;5;241m+\u001b[39m\u001b[38;5;241m=\u001b[39m \u001b[38;5;124mf\u001b[39m\u001b[38;5;124m\"\u001b[39m\u001b[38;5;124m. \u001b[39m\u001b[38;5;132;01m{\u001b[39;00mex\u001b[38;5;241m.\u001b[39mresponse\u001b[38;5;241m.\u001b[39mtext\u001b[38;5;132;01m}\u001b[39;00m\u001b[38;5;124m\"\u001b[39m\n\u001b[0;32m    348\u001b[0m \u001b[38;5;28;01mif\u001b[39;00m status_code \u001b[38;5;241m==\u001b[39m \u001b[38;5;241m401\u001b[39m:\n\u001b[1;32m--> 349\u001b[0m     \u001b[38;5;28;01mraise\u001b[39;00m IBMNotAuthorizedError(message) \u001b[38;5;28;01mfrom\u001b[39;00m \u001b[38;5;21;01mex\u001b[39;00m\n\u001b[0;32m    350\u001b[0m \u001b[38;5;28;01mif\u001b[39;00m status_code \u001b[38;5;241m==\u001b[39m \u001b[38;5;241m503\u001b[39m:  \u001b[38;5;66;03m# Planned maintenance outage\u001b[39;00m\n\u001b[0;32m    351\u001b[0m     \u001b[38;5;28;01mraise\u001b[39;00m RequestsApiError(\n\u001b[0;32m    352\u001b[0m         \u001b[38;5;124m\"\u001b[39m\u001b[38;5;124mUnexpected response received from server. Please check if the service \u001b[39m\u001b[38;5;124m\"\u001b[39m\n\u001b[0;32m    353\u001b[0m         \u001b[38;5;124m\"\u001b[39m\u001b[38;5;124mis in maintenance mode \u001b[39m\u001b[38;5;124m\"\u001b[39m\n\u001b[0;32m    354\u001b[0m         \u001b[38;5;124mf\u001b[39m\u001b[38;5;124m\"\u001b[39m\u001b[38;5;124mhttps://docs.quantum.ibm.com/announcements/service-alerts \u001b[39m\u001b[38;5;132;01m{\u001b[39;00mmessage\u001b[38;5;132;01m}\u001b[39;00m\u001b[38;5;124m\"\u001b[39m\n\u001b[0;32m    355\u001b[0m     )\n",
      "\u001b[1;31mIBMNotAuthorizedError\u001b[0m: '401 Client Error: Unauthorized for url: https://auth.quantum.ibm.com/api/users/loginWithToken. Login failed., Error code: 3446.'"
     ]
    }
   ],
   "source": [
    "from qiskit_ibm_runtime import QiskitRuntimeService\n",
    "service = QiskitRuntimeService()"
   ]
  },
  {
   "cell_type": "markdown",
   "id": "c90c0314-c238-430a-9a4b-746ab36f1fca",
   "metadata": {},
   "source": [
    "### Como alternativa, o serviço pode descobrir credenciais de variáveis de ambiente:"
   ]
  },
  {
   "cell_type": "code",
   "execution_count": null,
   "id": "cabf5f42-bde2-479d-83b8-e33eabbace59",
   "metadata": {},
   "outputs": [],
   "source": [
    "# export QISKIT_IBM_TOKEN=\"MY_IBM_CLOUD_API_KEY\"\n",
    "# export QISKIT_IBM_INSTANCE=\"MY_IBM_CLOUD_CRN\"\n",
    "# export QISKIT_IBM_CHANNEL=\"ibm_cloud\""
   ]
  },
  {
   "cell_type": "markdown",
   "id": "7f7ed2fa-2c19-4dc5-8bfb-b29581f2c876",
   "metadata": {},
   "source": [
    "### instancie o serviço sem nenhum argumento:"
   ]
  },
  {
   "cell_type": "code",
   "execution_count": null,
   "id": "19a97b8f-9c0a-4e92-bb3c-5459ec34c1de",
   "metadata": {},
   "outputs": [],
   "source": [
    "# from qiskit_ibm_runtime import QiskitRuntimeService\n",
    "# service = QiskitRuntimeService()"
   ]
  },
  {
   "cell_type": "code",
   "execution_count": null,
   "id": "d7e4605f-760c-4d3b-b7ae-af833bce36fa",
   "metadata": {},
   "outputs": [],
   "source": [
    "### Habilitando a conta para a sessão atual do Python\n",
    "### Como outra alternativa, você também pode habilitar uma conta apenas para a sessão atual, instanciando o serviço com suas credenciais."
   ]
  },
  {
   "cell_type": "code",
   "execution_count": null,
   "id": "6a8d6b88-c3a7-4f55-8198-232979576518",
   "metadata": {},
   "outputs": [],
   "source": [
    "#from qiskit_ibm_runtime import QiskitRuntimeService\n",
    "\n",
    "# For an IBM Cloud account.\n",
    "#ibm_cloud_service = QiskitRuntimeService(channel=\"ibm_cloud\", token=\"MY_IBM_CLOUD_API_KEY\", instance=\"MY_IBM_CLOUD_CRN\")\n",
    "\n",
    "# For an IBM Quantum account.\n",
    "#ibm_quantum_service = QiskitRuntimeService(channel=\"ibm_quantum\", token=\"MY_IBM_QUANTUM_TOKEN\")"
   ]
  },
  {
   "cell_type": "markdown",
   "id": "0538bbdb-ab28-4708-b1ae-aa2f20c186a3",
   "metadata": {},
   "source": [
    "### Se você pretende usar a funcionalidade de visualização ou blocos de anotações Jupyter, é recomendável instalar o Qiskit com o suporte extra de visualização ().'qiskit[visualization"
   ]
  },
  {
   "cell_type": "code",
   "execution_count": null,
   "id": "59c9a692-018d-4d14-8186-9c03b36a0a84",
   "metadata": {},
   "outputs": [],
   "source": [
    "#  funcionalidade de visualização ou blocos de anotações Jupyter\n",
    "pip install qiskit[visualization]"
   ]
  },
  {
   "cell_type": "raw",
   "id": "ad273d88-5aa0-4c21-a3df-2ae654ff3933",
   "metadata": {},
   "source": [
    "# bloco de anotações Jupyter com os pacotes Qiskit\n",
    "pip install jupyter"
   ]
  },
  {
   "cell_type": "code",
   "execution_count": null,
   "id": "fb7adf89-f1f4-42fd-b311-9b6730c7c1f7",
   "metadata": {},
   "outputs": [],
   "source": [
    "# jupyter notebook <path/to/notebook.ipynb>"
   ]
  },
  {
   "cell_type": "code",
   "execution_count": null,
   "id": "369437b0-dd6c-4dbf-a401-d5ad6f070998",
   "metadata": {},
   "outputs": [],
   "source": [
    "import pkg_resources\n",
    "\n",
    "package_name = 'nome_do_pacote'\n",
    "version = pkg_resources.get_distribution(package_name).version\n",
    "print(f'{package_name} versão: {version}')\n"
   ]
  },
  {
   "cell_type": "code",
   "execution_count": null,
   "id": "5dc38ed2-92a0-4936-99f3-4e1b9738997a",
   "metadata": {},
   "outputs": [],
   "source": []
  }
 ],
 "metadata": {
  "kernelspec": {
   "display_name": "Python 3 (ipykernel)",
   "language": "python",
   "name": "python3"
  },
  "language_info": {
   "codemirror_mode": {
    "name": "ipython",
    "version": 3
   },
   "file_extension": ".py",
   "mimetype": "text/x-python",
   "name": "python",
   "nbconvert_exporter": "python",
   "pygments_lexer": "ipython3",
   "version": "3.11.7"
  }
 },
 "nbformat": 4,
 "nbformat_minor": 5
}
